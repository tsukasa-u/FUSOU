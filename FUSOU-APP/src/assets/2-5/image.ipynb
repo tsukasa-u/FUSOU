{
 "cells": [
  {
   "cell_type": "code",
   "execution_count": 9,
   "metadata": {},
   "outputs": [
    {
     "name": "stdout",
     "output_type": "stream",
     "text": [
      "Collecting plotly\n",
      "  Obtaining dependency information for plotly from https://files.pythonhosted.org/packages/b8/f0/bcf716a8e070370d6598c92fcd328bd9ef8a9bda2c5562da5a835c66700b/plotly-5.23.0-py3-none-any.whl.metadata\n",
      "  Downloading plotly-5.23.0-py3-none-any.whl.metadata (7.3 kB)\n",
      "Collecting tenacity>=6.2.0 (from plotly)\n",
      "  Obtaining dependency information for tenacity>=6.2.0 from https://files.pythonhosted.org/packages/b6/cb/b86984bed139586d01532a587464b5805f12e397594f19f931c4c2fbfa61/tenacity-9.0.0-py3-none-any.whl.metadata\n",
      "  Downloading tenacity-9.0.0-py3-none-any.whl.metadata (1.2 kB)\n",
      "Requirement already satisfied: packaging in c:\\users\\ogu-h\\miniconda3\\envs\\syousyo\\lib\\site-packages (from plotly) (23.1)\n",
      "Downloading plotly-5.23.0-py3-none-any.whl (17.3 MB)\n",
      "   ---------------------------------------- 0.0/17.3 MB ? eta -:--:--\n",
      "   ---------------------------------------- 0.0/17.3 MB ? eta -:--:--\n",
      "   ---------------------------------------- 0.0/17.3 MB 217.9 kB/s eta 0:01:20\n",
      "   ---------------------------------------- 0.0/17.3 MB 326.8 kB/s eta 0:00:53\n",
      "   ---------------------------------------- 0.1/17.3 MB 722.1 kB/s eta 0:00:24\n",
      "    --------------------------------------- 0.3/17.3 MB 1.2 MB/s eta 0:00:15\n",
      "    --------------------------------------- 0.4/17.3 MB 1.7 MB/s eta 0:00:11\n",
      "   - -------------------------------------- 0.6/17.3 MB 2.0 MB/s eta 0:00:09\n",
      "   - -------------------------------------- 0.7/17.3 MB 2.2 MB/s eta 0:00:08\n",
      "   -- ------------------------------------- 0.9/17.3 MB 2.3 MB/s eta 0:00:08\n",
      "   -- ------------------------------------- 1.0/17.3 MB 2.3 MB/s eta 0:00:08\n",
      "   -- ------------------------------------- 1.2/17.3 MB 2.5 MB/s eta 0:00:07\n",
      "   --- ------------------------------------ 1.4/17.3 MB 2.5 MB/s eta 0:00:07\n",
      "   --- ------------------------------------ 1.5/17.3 MB 2.6 MB/s eta 0:00:07\n",
      "   ---- ----------------------------------- 1.7/17.3 MB 2.8 MB/s eta 0:00:06\n",
      "   ---- ----------------------------------- 1.9/17.3 MB 2.8 MB/s eta 0:00:06\n",
      "   ---- ----------------------------------- 2.1/17.3 MB 2.9 MB/s eta 0:00:06\n",
      "   ----- ---------------------------------- 2.3/17.3 MB 3.0 MB/s eta 0:00:06\n",
      "   ----- ---------------------------------- 2.5/17.3 MB 3.1 MB/s eta 0:00:05\n",
      "   ------ --------------------------------- 2.7/17.3 MB 3.2 MB/s eta 0:00:05\n",
      "   ------ --------------------------------- 2.9/17.3 MB 3.3 MB/s eta 0:00:05\n",
      "   ------- -------------------------------- 3.1/17.3 MB 3.3 MB/s eta 0:00:05\n",
      "   ------- -------------------------------- 3.3/17.3 MB 3.3 MB/s eta 0:00:05\n",
      "   -------- ------------------------------- 3.5/17.3 MB 3.4 MB/s eta 0:00:05\n",
      "   -------- ------------------------------- 3.7/17.3 MB 3.4 MB/s eta 0:00:05\n",
      "   --------- ------------------------------ 4.0/17.3 MB 3.5 MB/s eta 0:00:04\n",
      "   --------- ------------------------------ 4.1/17.3 MB 3.5 MB/s eta 0:00:04\n",
      "   ---------- ----------------------------- 4.4/17.3 MB 3.6 MB/s eta 0:00:04\n",
      "   ---------- ----------------------------- 4.6/17.3 MB 3.6 MB/s eta 0:00:04\n",
      "   ----------- ---------------------------- 4.8/17.3 MB 3.6 MB/s eta 0:00:04\n",
      "   ----------- ---------------------------- 5.0/17.3 MB 3.7 MB/s eta 0:00:04\n",
      "   ------------ --------------------------- 5.2/17.3 MB 3.7 MB/s eta 0:00:04\n",
      "   ------------ --------------------------- 5.4/17.3 MB 3.7 MB/s eta 0:00:04\n",
      "   ------------- -------------------------- 5.7/17.3 MB 3.8 MB/s eta 0:00:04\n",
      "   ------------- -------------------------- 5.9/17.3 MB 3.8 MB/s eta 0:00:04\n",
      "   -------------- ------------------------- 6.1/17.3 MB 3.8 MB/s eta 0:00:03\n",
      "   -------------- ------------------------- 6.3/17.3 MB 3.8 MB/s eta 0:00:03\n",
      "   --------------- ------------------------ 6.5/17.3 MB 3.9 MB/s eta 0:00:03\n",
      "   --------------- ------------------------ 6.7/17.3 MB 3.9 MB/s eta 0:00:03\n",
      "   ---------------- ----------------------- 7.0/17.3 MB 3.9 MB/s eta 0:00:03\n",
      "   ---------------- ----------------------- 7.2/17.3 MB 3.9 MB/s eta 0:00:03\n",
      "   ----------------- ---------------------- 7.4/17.3 MB 3.9 MB/s eta 0:00:03\n",
      "   ----------------- ---------------------- 7.6/17.3 MB 3.9 MB/s eta 0:00:03\n",
      "   ------------------ --------------------- 7.8/17.3 MB 4.0 MB/s eta 0:00:03\n",
      "   ------------------ --------------------- 8.0/17.3 MB 4.0 MB/s eta 0:00:03\n",
      "   ------------------ --------------------- 8.2/17.3 MB 4.0 MB/s eta 0:00:03\n",
      "   ------------------- -------------------- 8.4/17.3 MB 4.0 MB/s eta 0:00:03\n",
      "   ------------------- -------------------- 8.6/17.3 MB 4.0 MB/s eta 0:00:03\n",
      "   -------------------- ------------------- 8.8/17.3 MB 4.0 MB/s eta 0:00:03\n",
      "   -------------------- ------------------- 9.0/17.3 MB 4.0 MB/s eta 0:00:03\n",
      "   --------------------- ------------------ 9.2/17.3 MB 4.0 MB/s eta 0:00:03\n",
      "   --------------------- ------------------ 9.4/17.3 MB 4.0 MB/s eta 0:00:02\n",
      "   ---------------------- ----------------- 9.6/17.3 MB 4.0 MB/s eta 0:00:02\n",
      "   ---------------------- ----------------- 9.8/17.3 MB 4.0 MB/s eta 0:00:02\n",
      "   ----------------------- ---------------- 10.0/17.3 MB 4.0 MB/s eta 0:00:02\n",
      "   ----------------------- ---------------- 10.3/17.3 MB 4.2 MB/s eta 0:00:02\n",
      "   ------------------------ --------------- 10.5/17.3 MB 4.3 MB/s eta 0:00:02\n",
      "   ------------------------ --------------- 10.7/17.3 MB 4.3 MB/s eta 0:00:02\n",
      "   ------------------------- -------------- 10.9/17.3 MB 4.4 MB/s eta 0:00:02\n",
      "   ------------------------- -------------- 11.1/17.3 MB 4.4 MB/s eta 0:00:02\n",
      "   -------------------------- ------------- 11.4/17.3 MB 4.4 MB/s eta 0:00:02\n",
      "   -------------------------- ------------- 11.6/17.3 MB 4.5 MB/s eta 0:00:02\n",
      "   --------------------------- ------------ 11.8/17.3 MB 4.5 MB/s eta 0:00:02\n",
      "   --------------------------- ------------ 12.0/17.3 MB 4.5 MB/s eta 0:00:02\n",
      "   ---------------------------- ----------- 12.2/17.3 MB 4.5 MB/s eta 0:00:02\n",
      "   ---------------------------- ----------- 12.4/17.3 MB 4.5 MB/s eta 0:00:02\n",
      "   ----------------------------- ---------- 12.6/17.3 MB 4.5 MB/s eta 0:00:02\n",
      "   ----------------------------- ---------- 12.6/17.3 MB 4.5 MB/s eta 0:00:02\n",
      "   ----------------------------- ---------- 12.7/17.3 MB 4.4 MB/s eta 0:00:02\n",
      "   ----------------------------- ---------- 12.7/17.3 MB 4.4 MB/s eta 0:00:02\n",
      "   ----------------------------- ---------- 12.7/17.3 MB 4.4 MB/s eta 0:00:02\n",
      "   ----------------------------- ---------- 12.7/17.3 MB 4.4 MB/s eta 0:00:02\n",
      "   ------------------------------- -------- 13.5/17.3 MB 4.4 MB/s eta 0:00:01\n",
      "   ------------------------------- -------- 13.7/17.3 MB 4.4 MB/s eta 0:00:01\n",
      "   ------------------------------- -------- 13.8/17.3 MB 4.3 MB/s eta 0:00:01\n",
      "   -------------------------------- ------- 13.9/17.3 MB 4.3 MB/s eta 0:00:01\n",
      "   -------------------------------- ------- 14.0/17.3 MB 4.2 MB/s eta 0:00:01\n",
      "   -------------------------------- ------- 14.1/17.3 MB 4.2 MB/s eta 0:00:01\n",
      "   -------------------------------- ------- 14.1/17.3 MB 4.2 MB/s eta 0:00:01\n",
      "   -------------------------------- ------- 14.2/17.3 MB 4.1 MB/s eta 0:00:01\n",
      "   -------------------------------- ------- 14.2/17.3 MB 4.0 MB/s eta 0:00:01\n",
      "   -------------------------------- ------- 14.2/17.3 MB 4.0 MB/s eta 0:00:01\n",
      "   -------------------------------- ------- 14.2/17.3 MB 4.0 MB/s eta 0:00:01\n",
      "   -------------------------------- ------- 14.2/17.3 MB 4.0 MB/s eta 0:00:01\n",
      "   -------------------------------- ------- 14.2/17.3 MB 4.0 MB/s eta 0:00:01\n",
      "   -------------------------------- ------- 14.2/17.3 MB 4.0 MB/s eta 0:00:01\n",
      "   -------------------------------- ------- 14.2/17.3 MB 4.0 MB/s eta 0:00:01\n",
      "   ---------------------------------- ----- 14.8/17.3 MB 3.7 MB/s eta 0:00:01\n",
      "   ---------------------------------- ----- 14.8/17.3 MB 3.6 MB/s eta 0:00:01\n",
      "   ---------------------------------- ----- 14.8/17.3 MB 3.6 MB/s eta 0:00:01\n",
      "   ---------------------------------- ----- 14.8/17.3 MB 3.6 MB/s eta 0:00:01\n",
      "   ---------------------------------- ----- 14.8/17.3 MB 3.6 MB/s eta 0:00:01\n",
      "   ---------------------------------- ----- 14.8/17.3 MB 3.6 MB/s eta 0:00:01\n",
      "   ----------------------------------- ---- 15.3/17.3 MB 3.5 MB/s eta 0:00:01\n",
      "   ----------------------------------- ---- 15.5/17.3 MB 3.5 MB/s eta 0:00:01\n",
      "   ------------------------------------ --- 15.6/17.3 MB 3.5 MB/s eta 0:00:01\n",
      "   ------------------------------------ --- 15.7/17.3 MB 3.4 MB/s eta 0:00:01\n",
      "   ------------------------------------ --- 15.8/17.3 MB 3.4 MB/s eta 0:00:01\n",
      "   ------------------------------------ --- 15.9/17.3 MB 3.4 MB/s eta 0:00:01\n",
      "   ------------------------------------ --- 15.9/17.3 MB 3.3 MB/s eta 0:00:01\n",
      "   ------------------------------------ --- 16.0/17.3 MB 3.3 MB/s eta 0:00:01\n",
      "   ------------------------------------- -- 16.2/17.3 MB 3.3 MB/s eta 0:00:01\n",
      "   ------------------------------------- -- 16.4/17.3 MB 3.3 MB/s eta 0:00:01\n",
      "   -------------------------------------- - 16.6/17.3 MB 3.3 MB/s eta 0:00:01\n",
      "   -------------------------------------- - 16.6/17.3 MB 3.3 MB/s eta 0:00:01\n",
      "   -------------------------------------- - 16.7/17.3 MB 3.2 MB/s eta 0:00:01\n",
      "   -------------------------------------- - 16.7/17.3 MB 3.2 MB/s eta 0:00:01\n",
      "   -------------------------------------- - 16.7/17.3 MB 3.1 MB/s eta 0:00:01\n",
      "   -------------------------------------- - 16.8/17.3 MB 3.1 MB/s eta 0:00:01\n",
      "   -------------------------------------- - 16.8/17.3 MB 3.1 MB/s eta 0:00:01\n",
      "   -------------------------------------- - 16.8/17.3 MB 3.0 MB/s eta 0:00:01\n",
      "   -------------------------------------- - 16.8/17.3 MB 3.0 MB/s eta 0:00:01\n",
      "   ---------------------------------------  17.2/17.3 MB 3.0 MB/s eta 0:00:01\n",
      "   ---------------------------------------  17.3/17.3 MB 3.0 MB/s eta 0:00:01\n",
      "   ---------------------------------------- 17.3/17.3 MB 3.0 MB/s eta 0:00:00\n",
      "Downloading tenacity-9.0.0-py3-none-any.whl (28 kB)\n",
      "Installing collected packages: tenacity, plotly\n",
      "Successfully installed plotly-5.23.0 tenacity-9.0.0\n",
      "Note: you may need to restart the kernel to use updated packages.\n"
     ]
    }
   ],
   "source": [
    "pip install plotly"
   ]
  },
  {
   "cell_type": "code",
   "execution_count": 4,
   "metadata": {},
   "outputs": [
    {
     "name": "stdout",
     "output_type": "stream",
     "text": [
      "Collecting scikit-learn\n",
      "  Obtaining dependency information for scikit-learn from https://files.pythonhosted.org/packages/f1/13/de29b945fb28fc0c24159d3a83f1250c5232c1c9abac12434c7c3447e9cc/scikit_learn-1.5.1-cp310-cp310-win_amd64.whl.metadata\n",
      "  Downloading scikit_learn-1.5.1-cp310-cp310-win_amd64.whl.metadata (12 kB)\n",
      "Requirement already satisfied: numpy>=1.19.5 in c:\\users\\ogu-h\\miniconda3\\envs\\syousyo\\lib\\site-packages (from scikit-learn) (1.25.1)\n",
      "Requirement already satisfied: scipy>=1.6.0 in c:\\users\\ogu-h\\miniconda3\\envs\\syousyo\\lib\\site-packages (from scikit-learn) (1.11.3)\n",
      "Collecting joblib>=1.2.0 (from scikit-learn)\n",
      "  Obtaining dependency information for joblib>=1.2.0 from https://files.pythonhosted.org/packages/91/29/df4b9b42f2be0b623cbd5e2140cafcaa2bef0759a00b7b70104dcfe2fb51/joblib-1.4.2-py3-none-any.whl.metadata\n",
      "  Downloading joblib-1.4.2-py3-none-any.whl.metadata (5.4 kB)\n",
      "Collecting threadpoolctl>=3.1.0 (from scikit-learn)\n",
      "  Obtaining dependency information for threadpoolctl>=3.1.0 from https://files.pythonhosted.org/packages/4b/2c/ffbf7a134b9ab11a67b0cf0726453cedd9c5043a4fe7a35d1cefa9a1bcfb/threadpoolctl-3.5.0-py3-none-any.whl.metadata\n",
      "  Downloading threadpoolctl-3.5.0-py3-none-any.whl.metadata (13 kB)\n",
      "Downloading scikit_learn-1.5.1-cp310-cp310-win_amd64.whl (11.0 MB)\n",
      "   ---------------------------------------- 0.0/11.0 MB ? eta -:--:--\n",
      "   ---------------------------------------- 0.0/11.0 MB 435.7 kB/s eta 0:00:26\n",
      "   ---------------------------------------- 0.1/11.0 MB 980.4 kB/s eta 0:00:12\n",
      "    --------------------------------------- 0.2/11.0 MB 1.4 MB/s eta 0:00:08\n",
      "    --------------------------------------- 0.2/11.0 MB 1.2 MB/s eta 0:00:09\n",
      "   - -------------------------------------- 0.3/11.0 MB 1.4 MB/s eta 0:00:08\n",
      "   - -------------------------------------- 0.5/11.0 MB 1.6 MB/s eta 0:00:07\n",
      "   -- ------------------------------------- 0.6/11.0 MB 1.8 MB/s eta 0:00:06\n",
      "   -- ------------------------------------- 0.7/11.0 MB 1.8 MB/s eta 0:00:06\n",
      "   --- ------------------------------------ 0.8/11.0 MB 2.0 MB/s eta 0:00:06\n",
      "   --- ------------------------------------ 0.9/11.0 MB 2.0 MB/s eta 0:00:05\n",
      "   --- ------------------------------------ 1.1/11.0 MB 2.0 MB/s eta 0:00:05\n",
      "   --- ------------------------------------ 1.1/11.0 MB 1.9 MB/s eta 0:00:06\n",
      "   ---- ----------------------------------- 1.2/11.0 MB 2.0 MB/s eta 0:00:05\n",
      "   ---- ----------------------------------- 1.3/11.0 MB 2.0 MB/s eta 0:00:05\n",
      "   ----- ---------------------------------- 1.5/11.0 MB 2.1 MB/s eta 0:00:05\n",
      "   ----- ---------------------------------- 1.5/11.0 MB 2.0 MB/s eta 0:00:05\n",
      "   ----- ---------------------------------- 1.6/11.0 MB 2.0 MB/s eta 0:00:05\n",
      "   ------ --------------------------------- 1.7/11.0 MB 2.0 MB/s eta 0:00:05\n",
      "   ------ --------------------------------- 1.9/11.0 MB 2.1 MB/s eta 0:00:05\n",
      "   ------- -------------------------------- 2.0/11.0 MB 2.2 MB/s eta 0:00:05\n",
      "   ------- -------------------------------- 2.1/11.0 MB 2.1 MB/s eta 0:00:05\n",
      "   -------- ------------------------------- 2.3/11.0 MB 2.2 MB/s eta 0:00:04\n",
      "   -------- ------------------------------- 2.4/11.0 MB 2.3 MB/s eta 0:00:04\n",
      "   --------- ------------------------------ 2.6/11.0 MB 2.3 MB/s eta 0:00:04\n",
      "   --------- ------------------------------ 2.7/11.0 MB 2.3 MB/s eta 0:00:04\n",
      "   ---------- ----------------------------- 2.9/11.0 MB 2.4 MB/s eta 0:00:04\n",
      "   ---------- ----------------------------- 3.0/11.0 MB 2.4 MB/s eta 0:00:04\n",
      "   ----------- ---------------------------- 3.1/11.0 MB 2.4 MB/s eta 0:00:04\n",
      "   ------------ --------------------------- 3.3/11.0 MB 2.4 MB/s eta 0:00:04\n",
      "   ------------ --------------------------- 3.4/11.0 MB 2.4 MB/s eta 0:00:04\n",
      "   ------------ --------------------------- 3.6/11.0 MB 2.4 MB/s eta 0:00:04\n",
      "   ------------- -------------------------- 3.7/11.0 MB 2.5 MB/s eta 0:00:03\n",
      "   -------------- ------------------------- 3.9/11.0 MB 2.5 MB/s eta 0:00:03\n",
      "   -------------- ------------------------- 4.0/11.0 MB 2.5 MB/s eta 0:00:03\n",
      "   --------------- ------------------------ 4.1/11.0 MB 2.5 MB/s eta 0:00:03\n",
      "   --------------- ------------------------ 4.3/11.0 MB 2.5 MB/s eta 0:00:03\n",
      "   ---------------- ----------------------- 4.4/11.0 MB 2.5 MB/s eta 0:00:03\n",
      "   ---------------- ----------------------- 4.5/11.0 MB 2.5 MB/s eta 0:00:03\n",
      "   ----------------- ---------------------- 4.7/11.0 MB 2.6 MB/s eta 0:00:03\n",
      "   ----------------- ---------------------- 4.8/11.0 MB 2.6 MB/s eta 0:00:03\n",
      "   ------------------ --------------------- 5.0/11.0 MB 2.6 MB/s eta 0:00:03\n",
      "   ------------------ --------------------- 5.1/11.0 MB 2.6 MB/s eta 0:00:03\n",
      "   ------------------- -------------------- 5.3/11.0 MB 2.6 MB/s eta 0:00:03\n",
      "   ------------------- -------------------- 5.4/11.0 MB 2.6 MB/s eta 0:00:03\n",
      "   -------------------- ------------------- 5.5/11.0 MB 2.6 MB/s eta 0:00:03\n",
      "   -------------------- ------------------- 5.7/11.0 MB 2.6 MB/s eta 0:00:03\n",
      "   --------------------- ------------------ 5.8/11.0 MB 2.6 MB/s eta 0:00:02\n",
      "   --------------------- ------------------ 6.0/11.0 MB 2.6 MB/s eta 0:00:02\n",
      "   ---------------------- ----------------- 6.1/11.0 MB 2.7 MB/s eta 0:00:02\n",
      "   ---------------------- ----------------- 6.2/11.0 MB 2.7 MB/s eta 0:00:02\n",
      "   ----------------------- ---------------- 6.4/11.0 MB 2.7 MB/s eta 0:00:02\n",
      "   ----------------------- ---------------- 6.5/11.0 MB 2.7 MB/s eta 0:00:02\n",
      "   ------------------------ --------------- 6.7/11.0 MB 2.7 MB/s eta 0:00:02\n",
      "   ------------------------ --------------- 6.8/11.0 MB 2.7 MB/s eta 0:00:02\n",
      "   ------------------------- -------------- 7.0/11.0 MB 2.7 MB/s eta 0:00:02\n",
      "   ------------------------- -------------- 7.1/11.0 MB 2.7 MB/s eta 0:00:02\n",
      "   ------------------------- -------------- 7.1/11.0 MB 2.7 MB/s eta 0:00:02\n",
      "   ------------------------- -------------- 7.1/11.0 MB 2.7 MB/s eta 0:00:02\n",
      "   ------------------------- -------------- 7.1/11.0 MB 2.7 MB/s eta 0:00:02\n",
      "   ------------------------- -------------- 7.1/11.0 MB 2.7 MB/s eta 0:00:02\n",
      "   --------------------------- ------------ 7.5/11.0 MB 2.6 MB/s eta 0:00:02\n",
      "   --------------------------- ------------ 7.5/11.0 MB 2.6 MB/s eta 0:00:02\n",
      "   --------------------------- ------------ 7.5/11.0 MB 2.6 MB/s eta 0:00:02\n",
      "   ---------------------------- ----------- 7.8/11.0 MB 2.6 MB/s eta 0:00:02\n",
      "   ---------------------------- ----------- 7.9/11.0 MB 2.6 MB/s eta 0:00:02\n",
      "   ----------------------------- ---------- 8.1/11.0 MB 2.6 MB/s eta 0:00:02\n",
      "   ------------------------------ --------- 8.2/11.0 MB 2.6 MB/s eta 0:00:02\n",
      "   ------------------------------ --------- 8.4/11.0 MB 2.6 MB/s eta 0:00:01\n",
      "   ------------------------------ --------- 8.5/11.0 MB 2.6 MB/s eta 0:00:01\n",
      "   ------------------------------ --------- 8.5/11.0 MB 2.6 MB/s eta 0:00:01\n",
      "   ------------------------------ --------- 8.5/11.0 MB 2.6 MB/s eta 0:00:01\n",
      "   ------------------------------- -------- 8.5/11.0 MB 2.5 MB/s eta 0:00:01\n",
      "   ------------------------------- -------- 8.5/11.0 MB 2.5 MB/s eta 0:00:01\n",
      "   ------------------------------- -------- 8.5/11.0 MB 2.5 MB/s eta 0:00:01\n",
      "   ------------------------------- -------- 8.5/11.0 MB 2.5 MB/s eta 0:00:01\n",
      "   ------------------------------- -------- 8.5/11.0 MB 2.5 MB/s eta 0:00:01\n",
      "   ------------------------------- -------- 8.5/11.0 MB 2.5 MB/s eta 0:00:01\n",
      "   -------------------------------- ------- 9.0/11.0 MB 2.5 MB/s eta 0:00:01\n",
      "   -------------------------------- ------- 9.0/11.0 MB 2.5 MB/s eta 0:00:01\n",
      "   --------------------------------- ------ 9.3/11.0 MB 2.5 MB/s eta 0:00:01\n",
      "   --------------------------------- ------ 9.3/11.0 MB 2.5 MB/s eta 0:00:01\n",
      "   ---------------------------------- ----- 9.5/11.0 MB 2.5 MB/s eta 0:00:01\n",
      "   ----------------------------------- ---- 9.6/11.0 MB 2.5 MB/s eta 0:00:01\n",
      "   ----------------------------------- ---- 9.6/11.0 MB 2.5 MB/s eta 0:00:01\n",
      "   ------------------------------------ --- 9.9/11.0 MB 2.5 MB/s eta 0:00:01\n",
      "   ------------------------------------ --- 10.0/11.0 MB 2.5 MB/s eta 0:00:01\n",
      "   ------------------------------------ --- 10.0/11.0 MB 2.5 MB/s eta 0:00:01\n",
      "   ------------------------------------- -- 10.1/11.0 MB 2.5 MB/s eta 0:00:01\n",
      "   ------------------------------------- -- 10.3/11.0 MB 2.5 MB/s eta 0:00:01\n",
      "   ------------------------------------- -- 10.4/11.0 MB 2.5 MB/s eta 0:00:01\n",
      "   ------------------------------------- -- 10.4/11.0 MB 2.5 MB/s eta 0:00:01\n",
      "   ------------------------------------- -- 10.4/11.0 MB 2.5 MB/s eta 0:00:01\n",
      "   ---------------------------------------  10.7/11.0 MB 2.5 MB/s eta 0:00:01\n",
      "   ---------------------------------------  10.8/11.0 MB 2.5 MB/s eta 0:00:01\n",
      "   ---------------------------------------  10.9/11.0 MB 2.5 MB/s eta 0:00:01\n",
      "   ---------------------------------------  11.0/11.0 MB 2.5 MB/s eta 0:00:01\n",
      "   ---------------------------------------- 11.0/11.0 MB 2.5 MB/s eta 0:00:00\n",
      "Downloading joblib-1.4.2-py3-none-any.whl (301 kB)\n",
      "   ---------------------------------------- 0.0/301.8 kB ? eta -:--:--\n",
      "   ------------------------------- -------- 235.5/301.8 kB 4.8 MB/s eta 0:00:01\n",
      "   ---------------------------------------- 301.8/301.8 kB 4.7 MB/s eta 0:00:00\n",
      "Downloading threadpoolctl-3.5.0-py3-none-any.whl (18 kB)\n",
      "Installing collected packages: threadpoolctl, joblib, scikit-learn\n",
      "Successfully installed joblib-1.4.2 scikit-learn-1.5.1 threadpoolctl-3.5.0\n",
      "Note: you may need to restart the kernel to use updated packages.\n"
     ]
    }
   ],
   "source": [
    "pip install scikit-learn"
   ]
  },
  {
   "cell_type": "code",
   "execution_count": 2,
   "metadata": {},
   "outputs": [],
   "source": [
    "import cv2\n",
    "import numpy as np\n",
    "import matplotlib.pyplot as plt\n",
    "# from mpl_toolkits.mplot3d import Axes3D\n",
    "import plotly.express as px\n",
    "import json\n",
    "\n",
    "\n",
    "json_open = open('05_image.json', 'r')\n",
    "json_load = json.load(json_open)\n",
    "\n",
    "# 画像を読み込む\n",
    "image = cv2.imread('05_image.png', cv2.IMREAD_UNCHANGED)\n",
    "# image = cv2.cvtColor(image, cv2.COLOR_BGR2RGB)  # BGRからRGBに変換\n",
    "\n",
    "# 1ピクセルごとに色を取得する\n",
    "colors = []\n",
    "xywh = json_load[\"frames\"][\"map00205_map2-5\"][\"frame\"]\n",
    "for y in range(xywh[\"y\"], xywh[\"y\"] + xywh[\"h\"], 1):\n",
    "    for x in range(xywh[\"x\"], xywh[\"x\"] + xywh[\"w\"], 1):\n",
    "        colors.append(image[y, x])\n",
    "\n",
    "_colors = np.array(colors)\n",
    "\n",
    "colors = np.unique(_colors, axis=0)\n",
    "colors = np.delete(colors, np.where(colors[:,3] != 255), 0)  # 透明色を除外\n",
    "\n",
    "colors_str = [f\"rgb({color[2]}, {color[1]}, {color[0]})\" for color in colors]\n"
   ]
  },
  {
   "cell_type": "code",
   "execution_count": 3,
   "metadata": {},
   "outputs": [
    {
     "data": {
      "application/vnd.plotly.v1+json": {
       "config": {
        "plotlyServerURL": "https://plot.ly"
       },
       "data": [
        {
         "hovertemplate": "x=%{x}<br>y=%{y}<br>z=%{z}<extra></extra>",
         "legendgroup": "",
         "marker": {
          "color": "rgb(3, 30, 22)",
          "symbol": "circle"
         },
         "mode": "markers",
         "name": "",
         "scene": "scene",
         "showlegend": false,
         "type": "scatter3d",
         "x": [
          22
         ],
         "y": [
          30
         ],
         "z": [
          3
         ]
        },
        {
         "hovertemplate": "x=%{x}<br>y=%{y}<br>z=%{z}<extra></extra>",
         "legendgroup": "",
         "marker": {
          "color": "rgb(20, 50, 27)",
          "symbol": "circle"
         },
         "mode": "markers",
         "name": "",
         "scene": "scene",
         "showlegend": false,
         "type": "scatter3d",
         "x": [
          27
         ],
         "y": [
          50
         ],
         "z": [
          20
         ]
        },
        {
         "hovertemplate": "x=%{x}<br>y=%{y}<br>z=%{z}<extra></extra>",
         "legendgroup": "",
         "marker": {
          "color": "rgb(3, 35, 37)",
          "symbol": "circle"
         },
         "mode": "markers",
         "name": "",
         "scene": "scene",
         "showlegend": false,
         "type": "scatter3d",
         "x": [
          37
         ],
         "y": [
          35
         ],
         "z": [
          3
         ]
        },
        {
         "hovertemplate": "x=%{x}<br>y=%{y}<br>z=%{z}<extra></extra>",
         "legendgroup": "",
         "marker": {
          "color": "rgb(32, 62, 39)",
          "symbol": "circle"
         },
         "mode": "markers",
         "name": "",
         "scene": "scene",
         "showlegend": false,
         "type": "scatter3d",
         "x": [
          39
         ],
         "y": [
          62
         ],
         "z": [
          32
         ]
        },
        {
         "hovertemplate": "x=%{x}<br>y=%{y}<br>z=%{z}<extra></extra>",
         "legendgroup": "",
         "marker": {
          "color": "rgb(41, 70, 47)",
          "symbol": "circle"
         },
         "mode": "markers",
         "name": "",
         "scene": "scene",
         "showlegend": false,
         "type": "scatter3d",
         "x": [
          47
         ],
         "y": [
          70
         ],
         "z": [
          41
         ]
        },
        {
         "hovertemplate": "x=%{x}<br>y=%{y}<br>z=%{z}<extra></extra>",
         "legendgroup": "",
         "marker": {
          "color": "rgb(7, 43, 50)",
          "symbol": "circle"
         },
         "mode": "markers",
         "name": "",
         "scene": "scene",
         "showlegend": false,
         "type": "scatter3d",
         "x": [
          50
         ],
         "y": [
          43
         ],
         "z": [
          7
         ]
        },
        {
         "hovertemplate": "x=%{x}<br>y=%{y}<br>z=%{z}<extra></extra>",
         "legendgroup": "",
         "marker": {
          "color": "rgb(20, 56, 55)",
          "symbol": "circle"
         },
         "mode": "markers",
         "name": "",
         "scene": "scene",
         "showlegend": false,
         "type": "scatter3d",
         "x": [
          55
         ],
         "y": [
          56
         ],
         "z": [
          20
         ]
        },
        {
         "hovertemplate": "x=%{x}<br>y=%{y}<br>z=%{z}<extra></extra>",
         "legendgroup": "",
         "marker": {
          "color": "rgb(50, 78, 55)",
          "symbol": "circle"
         },
         "mode": "markers",
         "name": "",
         "scene": "scene",
         "showlegend": false,
         "type": "scatter3d",
         "x": [
          55
         ],
         "y": [
          78
         ],
         "z": [
          50
         ]
        },
        {
         "hovertemplate": "x=%{x}<br>y=%{y}<br>z=%{z}<extra></extra>",
         "legendgroup": "",
         "marker": {
          "color": "rgb(2, 24, 61)",
          "symbol": "circle"
         },
         "mode": "markers",
         "name": "",
         "scene": "scene",
         "showlegend": false,
         "type": "scatter3d",
         "x": [
          61
         ],
         "y": [
          24
         ],
         "z": [
          2
         ]
        },
        {
         "hovertemplate": "x=%{x}<br>y=%{y}<br>z=%{z}<extra></extra>",
         "legendgroup": "",
         "marker": {
          "color": "rgb(60, 87, 63)",
          "symbol": "circle"
         },
         "mode": "markers",
         "name": "",
         "scene": "scene",
         "showlegend": false,
         "type": "scatter3d",
         "x": [
          63
         ],
         "y": [
          87
         ],
         "z": [
          60
         ]
        },
        {
         "hovertemplate": "x=%{x}<br>y=%{y}<br>z=%{z}<extra></extra>",
         "legendgroup": "",
         "marker": {
          "color": "rgb(3, 18, 64)",
          "symbol": "circle"
         },
         "mode": "markers",
         "name": "",
         "scene": "scene",
         "showlegend": false,
         "type": "scatter3d",
         "x": [
          64
         ],
         "y": [
          18
         ],
         "z": [
          3
         ]
        },
        {
         "hovertemplate": "x=%{x}<br>y=%{y}<br>z=%{z}<extra></extra>",
         "legendgroup": "",
         "marker": {
          "color": "rgb(2, 23, 66)",
          "symbol": "circle"
         },
         "mode": "markers",
         "name": "",
         "scene": "scene",
         "showlegend": false,
         "type": "scatter3d",
         "x": [
          66
         ],
         "y": [
          23
         ],
         "z": [
          2
         ]
        },
        {
         "hovertemplate": "x=%{x}<br>y=%{y}<br>z=%{z}<extra></extra>",
         "legendgroup": "",
         "marker": {
          "color": "rgb(3, 17, 67)",
          "symbol": "circle"
         },
         "mode": "markers",
         "name": "",
         "scene": "scene",
         "showlegend": false,
         "type": "scatter3d",
         "x": [
          67
         ],
         "y": [
          17
         ],
         "z": [
          3
         ]
        },
        {
         "hovertemplate": "x=%{x}<br>y=%{y}<br>z=%{z}<extra></extra>",
         "legendgroup": "",
         "marker": {
          "color": "rgb(4, 18, 68)",
          "symbol": "circle"
         },
         "mode": "markers",
         "name": "",
         "scene": "scene",
         "showlegend": false,
         "type": "scatter3d",
         "x": [
          68
         ],
         "y": [
          18
         ],
         "z": [
          4
         ]
        },
        {
         "hovertemplate": "x=%{x}<br>y=%{y}<br>z=%{z}<extra></extra>",
         "legendgroup": "",
         "marker": {
          "color": "rgb(13, 53, 68)",
          "symbol": "circle"
         },
         "mode": "markers",
         "name": "",
         "scene": "scene",
         "showlegend": false,
         "type": "scatter3d",
         "x": [
          68
         ],
         "y": [
          53
         ],
         "z": [
          13
         ]
        },
        {
         "hovertemplate": "x=%{x}<br>y=%{y}<br>z=%{z}<extra></extra>",
         "legendgroup": "",
         "marker": {
          "color": "rgb(31, 68, 68)",
          "symbol": "circle"
         },
         "mode": "markers",
         "name": "",
         "scene": "scene",
         "showlegend": false,
         "type": "scatter3d",
         "x": [
          68
         ],
         "y": [
          68
         ],
         "z": [
          31
         ]
        },
        {
         "hovertemplate": "x=%{x}<br>y=%{y}<br>z=%{z}<extra></extra>",
         "legendgroup": "",
         "marker": {
          "color": "rgb(4, 19, 70)",
          "symbol": "circle"
         },
         "mode": "markers",
         "name": "",
         "scene": "scene",
         "showlegend": false,
         "type": "scatter3d",
         "x": [
          70
         ],
         "y": [
          19
         ],
         "z": [
          4
         ]
        },
        {
         "hovertemplate": "x=%{x}<br>y=%{y}<br>z=%{z}<extra></extra>",
         "legendgroup": "",
         "marker": {
          "color": "rgb(7, 21, 70)",
          "symbol": "circle"
         },
         "mode": "markers",
         "name": "",
         "scene": "scene",
         "showlegend": false,
         "type": "scatter3d",
         "x": [
          70
         ],
         "y": [
          21
         ],
         "z": [
          7
         ]
        },
        {
         "hovertemplate": "x=%{x}<br>y=%{y}<br>z=%{z}<extra></extra>",
         "legendgroup": "",
         "marker": {
          "color": "rgb(72, 96, 71)",
          "symbol": "circle"
         },
         "mode": "markers",
         "name": "",
         "scene": "scene",
         "showlegend": false,
         "type": "scatter3d",
         "x": [
          71
         ],
         "y": [
          96
         ],
         "z": [
          72
         ]
        },
        {
         "hovertemplate": "x=%{x}<br>y=%{y}<br>z=%{z}<extra></extra>",
         "legendgroup": "",
         "marker": {
          "color": "rgb(4, 19, 72)",
          "symbol": "circle"
         },
         "mode": "markers",
         "name": "",
         "scene": "scene",
         "showlegend": false,
         "type": "scatter3d",
         "x": [
          72
         ],
         "y": [
          19
         ],
         "z": [
          4
         ]
        },
        {
         "hovertemplate": "x=%{x}<br>y=%{y}<br>z=%{z}<extra></extra>",
         "legendgroup": "",
         "marker": {
          "color": "rgb(6, 21, 72)",
          "symbol": "circle"
         },
         "mode": "markers",
         "name": "",
         "scene": "scene",
         "showlegend": false,
         "type": "scatter3d",
         "x": [
          72
         ],
         "y": [
          21
         ],
         "z": [
          6
         ]
        },
        {
         "hovertemplate": "x=%{x}<br>y=%{y}<br>z=%{z}<extra></extra>",
         "legendgroup": "",
         "marker": {
          "color": "rgb(3, 25, 72)",
          "symbol": "circle"
         },
         "mode": "markers",
         "name": "",
         "scene": "scene",
         "showlegend": false,
         "type": "scatter3d",
         "x": [
          72
         ],
         "y": [
          25
         ],
         "z": [
          3
         ]
        },
        {
         "hovertemplate": "x=%{x}<br>y=%{y}<br>z=%{z}<extra></extra>",
         "legendgroup": "",
         "marker": {
          "color": "rgb(6, 21, 74)",
          "symbol": "circle"
         },
         "mode": "markers",
         "name": "",
         "scene": "scene",
         "showlegend": false,
         "type": "scatter3d",
         "x": [
          74
         ],
         "y": [
          21
         ],
         "z": [
          6
         ]
        },
        {
         "hovertemplate": "x=%{x}<br>y=%{y}<br>z=%{z}<extra></extra>",
         "legendgroup": "",
         "marker": {
          "color": "rgb(12, 26, 75)",
          "symbol": "circle"
         },
         "mode": "markers",
         "name": "",
         "scene": "scene",
         "showlegend": false,
         "type": "scatter3d",
         "x": [
          75
         ],
         "y": [
          26
         ],
         "z": [
          12
         ]
        },
        {
         "hovertemplate": "x=%{x}<br>y=%{y}<br>z=%{z}<extra></extra>",
         "legendgroup": "",
         "marker": {
          "color": "rgb(47, 81, 75)",
          "symbol": "circle"
         },
         "mode": "markers",
         "name": "",
         "scene": "scene",
         "showlegend": false,
         "type": "scatter3d",
         "x": [
          75
         ],
         "y": [
          81
         ],
         "z": [
          47
         ]
        },
        {
         "hovertemplate": "x=%{x}<br>y=%{y}<br>z=%{z}<extra></extra>",
         "legendgroup": "",
         "marker": {
          "color": "rgb(6, 21, 76)",
          "symbol": "circle"
         },
         "mode": "markers",
         "name": "",
         "scene": "scene",
         "showlegend": false,
         "type": "scatter3d",
         "x": [
          76
         ],
         "y": [
          21
         ],
         "z": [
          6
         ]
        },
        {
         "hovertemplate": "x=%{x}<br>y=%{y}<br>z=%{z}<extra></extra>",
         "legendgroup": "",
         "marker": {
          "color": "rgb(6, 23, 76)",
          "symbol": "circle"
         },
         "mode": "markers",
         "name": "",
         "scene": "scene",
         "showlegend": false,
         "type": "scatter3d",
         "x": [
          76
         ],
         "y": [
          23
         ],
         "z": [
          6
         ]
        },
        {
         "hovertemplate": "x=%{x}<br>y=%{y}<br>z=%{z}<extra></extra>",
         "legendgroup": "",
         "marker": {
          "color": "rgb(8, 24, 76)",
          "symbol": "circle"
         },
         "mode": "markers",
         "name": "",
         "scene": "scene",
         "showlegend": false,
         "type": "scatter3d",
         "x": [
          76
         ],
         "y": [
          24
         ],
         "z": [
          8
         ]
        },
        {
         "hovertemplate": "x=%{x}<br>y=%{y}<br>z=%{z}<extra></extra>",
         "legendgroup": "",
         "marker": {
          "color": "rgb(5, 22, 78)",
          "symbol": "circle"
         },
         "mode": "markers",
         "name": "",
         "scene": "scene",
         "showlegend": false,
         "type": "scatter3d",
         "x": [
          78
         ],
         "y": [
          22
         ],
         "z": [
          5
         ]
        },
        {
         "hovertemplate": "x=%{x}<br>y=%{y}<br>z=%{z}<extra></extra>",
         "legendgroup": "",
         "marker": {
          "color": "rgb(7, 23, 78)",
          "symbol": "circle"
         },
         "mode": "markers",
         "name": "",
         "scene": "scene",
         "showlegend": false,
         "type": "scatter3d",
         "x": [
          78
         ],
         "y": [
          23
         ],
         "z": [
          7
         ]
        },
        {
         "hovertemplate": "x=%{x}<br>y=%{y}<br>z=%{z}<extra></extra>",
         "legendgroup": "",
         "marker": {
          "color": "rgb(10, 25, 78)",
          "symbol": "circle"
         },
         "mode": "markers",
         "name": "",
         "scene": "scene",
         "showlegend": false,
         "type": "scatter3d",
         "x": [
          78
         ],
         "y": [
          25
         ],
         "z": [
          10
         ]
        },
        {
         "hovertemplate": "x=%{x}<br>y=%{y}<br>z=%{z}<extra></extra>",
         "legendgroup": "",
         "marker": {
          "color": "rgb(7, 26, 79)",
          "symbol": "circle"
         },
         "mode": "markers",
         "name": "",
         "scene": "scene",
         "showlegend": false,
         "type": "scatter3d",
         "x": [
          79
         ],
         "y": [
          26
         ],
         "z": [
          7
         ]
        },
        {
         "hovertemplate": "x=%{x}<br>y=%{y}<br>z=%{z}<extra></extra>",
         "legendgroup": "",
         "marker": {
          "color": "rgb(13, 28, 79)",
          "symbol": "circle"
         },
         "mode": "markers",
         "name": "",
         "scene": "scene",
         "showlegend": false,
         "type": "scatter3d",
         "x": [
          79
         ],
         "y": [
          28
         ],
         "z": [
          13
         ]
        },
        {
         "hovertemplate": "x=%{x}<br>y=%{y}<br>z=%{z}<extra></extra>",
         "legendgroup": "",
         "marker": {
          "color": "rgb(6, 24, 80)",
          "symbol": "circle"
         },
         "mode": "markers",
         "name": "",
         "scene": "scene",
         "showlegend": false,
         "type": "scatter3d",
         "x": [
          80
         ],
         "y": [
          24
         ],
         "z": [
          6
         ]
        },
        {
         "hovertemplate": "x=%{x}<br>y=%{y}<br>z=%{z}<extra></extra>",
         "legendgroup": "",
         "marker": {
          "color": "rgb(15, 30, 80)",
          "symbol": "circle"
         },
         "mode": "markers",
         "name": "",
         "scene": "scene",
         "showlegend": false,
         "type": "scatter3d",
         "x": [
          80
         ],
         "y": [
          30
         ],
         "z": [
          15
         ]
        },
        {
         "hovertemplate": "x=%{x}<br>y=%{y}<br>z=%{z}<extra></extra>",
         "legendgroup": "",
         "marker": {
          "color": "rgb(5, 22, 81)",
          "symbol": "circle"
         },
         "mode": "markers",
         "name": "",
         "scene": "scene",
         "showlegend": false,
         "type": "scatter3d",
         "x": [
          81
         ],
         "y": [
          22
         ],
         "z": [
          5
         ]
        },
        {
         "hovertemplate": "x=%{x}<br>y=%{y}<br>z=%{z}<extra></extra>",
         "legendgroup": "",
         "marker": {
          "color": "rgb(7, 25, 81)",
          "symbol": "circle"
         },
         "mode": "markers",
         "name": "",
         "scene": "scene",
         "showlegend": false,
         "type": "scatter3d",
         "x": [
          81
         ],
         "y": [
          25
         ],
         "z": [
          7
         ]
        },
        {
         "hovertemplate": "x=%{x}<br>y=%{y}<br>z=%{z}<extra></extra>",
         "legendgroup": "",
         "marker": {
          "color": "rgb(10, 27, 81)",
          "symbol": "circle"
         },
         "mode": "markers",
         "name": "",
         "scene": "scene",
         "showlegend": false,
         "type": "scatter3d",
         "x": [
          81
         ],
         "y": [
          27
         ],
         "z": [
          10
         ]
        },
        {
         "hovertemplate": "x=%{x}<br>y=%{y}<br>z=%{z}<extra></extra>",
         "legendgroup": "",
         "marker": {
          "color": "rgb(81, 106, 82)",
          "symbol": "circle"
         },
         "mode": "markers",
         "name": "",
         "scene": "scene",
         "showlegend": false,
         "type": "scatter3d",
         "x": [
          82
         ],
         "y": [
          106
         ],
         "z": [
          81
         ]
        },
        {
         "hovertemplate": "x=%{x}<br>y=%{y}<br>z=%{z}<extra></extra>",
         "legendgroup": "",
         "marker": {
          "color": "rgb(6, 25, 83)",
          "symbol": "circle"
         },
         "mode": "markers",
         "name": "",
         "scene": "scene",
         "showlegend": false,
         "type": "scatter3d",
         "x": [
          83
         ],
         "y": [
          25
         ],
         "z": [
          6
         ]
        },
        {
         "hovertemplate": "x=%{x}<br>y=%{y}<br>z=%{z}<extra></extra>",
         "legendgroup": "",
         "marker": {
          "color": "rgb(8, 27, 83)",
          "symbol": "circle"
         },
         "mode": "markers",
         "name": "",
         "scene": "scene",
         "showlegend": false,
         "type": "scatter3d",
         "x": [
          83
         ],
         "y": [
          27
         ],
         "z": [
          8
         ]
        },
        {
         "hovertemplate": "x=%{x}<br>y=%{y}<br>z=%{z}<extra></extra>",
         "legendgroup": "",
         "marker": {
          "color": "rgb(13, 29, 83)",
          "symbol": "circle"
         },
         "mode": "markers",
         "name": "",
         "scene": "scene",
         "showlegend": false,
         "type": "scatter3d",
         "x": [
          83
         ],
         "y": [
          29
         ],
         "z": [
          13
         ]
        },
        {
         "hovertemplate": "x=%{x}<br>y=%{y}<br>z=%{z}<extra></extra>",
         "legendgroup": "",
         "marker": {
          "color": "rgb(5, 22, 84)",
          "symbol": "circle"
         },
         "mode": "markers",
         "name": "",
         "scene": "scene",
         "showlegend": false,
         "type": "scatter3d",
         "x": [
          84
         ],
         "y": [
          22
         ],
         "z": [
          5
         ]
        },
        {
         "hovertemplate": "x=%{x}<br>y=%{y}<br>z=%{z}<extra></extra>",
         "legendgroup": "",
         "marker": {
          "color": "rgb(6, 27, 84)",
          "symbol": "circle"
         },
         "mode": "markers",
         "name": "",
         "scene": "scene",
         "showlegend": false,
         "type": "scatter3d",
         "x": [
          84
         ],
         "y": [
          27
         ],
         "z": [
          6
         ]
        },
        {
         "hovertemplate": "x=%{x}<br>y=%{y}<br>z=%{z}<extra></extra>",
         "legendgroup": "",
         "marker": {
          "color": "rgb(9, 29, 84)",
          "symbol": "circle"
         },
         "mode": "markers",
         "name": "",
         "scene": "scene",
         "showlegend": false,
         "type": "scatter3d",
         "x": [
          84
         ],
         "y": [
          29
         ],
         "z": [
          9
         ]
        },
        {
         "hovertemplate": "x=%{x}<br>y=%{y}<br>z=%{z}<extra></extra>",
         "legendgroup": "",
         "marker": {
          "color": "rgb(17, 33, 84)",
          "symbol": "circle"
         },
         "mode": "markers",
         "name": "",
         "scene": "scene",
         "showlegend": false,
         "type": "scatter3d",
         "x": [
          84
         ],
         "y": [
          33
         ],
         "z": [
          17
         ]
        },
        {
         "hovertemplate": "x=%{x}<br>y=%{y}<br>z=%{z}<extra></extra>",
         "legendgroup": "",
         "marker": {
          "color": "rgb(61, 93, 84)",
          "symbol": "circle"
         },
         "mode": "markers",
         "name": "",
         "scene": "scene",
         "showlegend": false,
         "type": "scatter3d",
         "x": [
          84
         ],
         "y": [
          93
         ],
         "z": [
          61
         ]
        },
        {
         "hovertemplate": "x=%{x}<br>y=%{y}<br>z=%{z}<extra></extra>",
         "legendgroup": "",
         "marker": {
          "color": "rgb(5, 23, 86)",
          "symbol": "circle"
         },
         "mode": "markers",
         "name": "",
         "scene": "scene",
         "showlegend": false,
         "type": "scatter3d",
         "x": [
          86
         ],
         "y": [
          23
         ],
         "z": [
          5
         ]
        },
        {
         "hovertemplate": "x=%{x}<br>y=%{y}<br>z=%{z}<extra></extra>",
         "legendgroup": "",
         "marker": {
          "color": "rgb(7, 26, 86)",
          "symbol": "circle"
         },
         "mode": "markers",
         "name": "",
         "scene": "scene",
         "showlegend": false,
         "type": "scatter3d",
         "x": [
          86
         ],
         "y": [
          26
         ],
         "z": [
          7
         ]
        },
        {
         "hovertemplate": "x=%{x}<br>y=%{y}<br>z=%{z}<extra></extra>",
         "legendgroup": "",
         "marker": {
          "color": "rgb(8, 29, 86)",
          "symbol": "circle"
         },
         "mode": "markers",
         "name": "",
         "scene": "scene",
         "showlegend": false,
         "type": "scatter3d",
         "x": [
          86
         ],
         "y": [
          29
         ],
         "z": [
          8
         ]
        },
        {
         "hovertemplate": "x=%{x}<br>y=%{y}<br>z=%{z}<extra></extra>",
         "legendgroup": "",
         "marker": {
          "color": "rgb(21, 64, 86)",
          "symbol": "circle"
         },
         "mode": "markers",
         "name": "",
         "scene": "scene",
         "showlegend": false,
         "type": "scatter3d",
         "x": [
          86
         ],
         "y": [
          64
         ],
         "z": [
          21
         ]
        },
        {
         "hovertemplate": "x=%{x}<br>y=%{y}<br>z=%{z}<extra></extra>",
         "legendgroup": "",
         "marker": {
          "color": "rgb(11, 29, 87)",
          "symbol": "circle"
         },
         "mode": "markers",
         "name": "",
         "scene": "scene",
         "showlegend": false,
         "type": "scatter3d",
         "x": [
          87
         ],
         "y": [
          29
         ],
         "z": [
          11
         ]
        },
        {
         "hovertemplate": "x=%{x}<br>y=%{y}<br>z=%{z}<extra></extra>",
         "legendgroup": "",
         "marker": {
          "color": "rgb(14, 32, 87)",
          "symbol": "circle"
         },
         "mode": "markers",
         "name": "",
         "scene": "scene",
         "showlegend": false,
         "type": "scatter3d",
         "x": [
          87
         ],
         "y": [
          32
         ],
         "z": [
          14
         ]
        },
        {
         "hovertemplate": "x=%{x}<br>y=%{y}<br>z=%{z}<extra></extra>",
         "legendgroup": "",
         "marker": {
          "color": "rgb(5, 25, 88)",
          "symbol": "circle"
         },
         "mode": "markers",
         "name": "",
         "scene": "scene",
         "showlegend": false,
         "type": "scatter3d",
         "x": [
          88
         ],
         "y": [
          25
         ],
         "z": [
          5
         ]
        },
        {
         "hovertemplate": "x=%{x}<br>y=%{y}<br>z=%{z}<extra></extra>",
         "legendgroup": "",
         "marker": {
          "color": "rgb(7, 28, 88)",
          "symbol": "circle"
         },
         "mode": "markers",
         "name": "",
         "scene": "scene",
         "showlegend": false,
         "type": "scatter3d",
         "x": [
          88
         ],
         "y": [
          28
         ],
         "z": [
          7
         ]
        },
        {
         "hovertemplate": "x=%{x}<br>y=%{y}<br>z=%{z}<extra></extra>",
         "legendgroup": "",
         "marker": {
          "color": "rgb(5, 23, 89)",
          "symbol": "circle"
         },
         "mode": "markers",
         "name": "",
         "scene": "scene",
         "showlegend": false,
         "type": "scatter3d",
         "x": [
          89
         ],
         "y": [
          23
         ],
         "z": [
          5
         ]
        },
        {
         "hovertemplate": "x=%{x}<br>y=%{y}<br>z=%{z}<extra></extra>",
         "legendgroup": "",
         "marker": {
          "color": "rgb(9, 31, 89)",
          "symbol": "circle"
         },
         "mode": "markers",
         "name": "",
         "scene": "scene",
         "showlegend": false,
         "type": "scatter3d",
         "x": [
          89
         ],
         "y": [
          31
         ],
         "z": [
          9
         ]
        },
        {
         "hovertemplate": "x=%{x}<br>y=%{y}<br>z=%{z}<extra></extra>",
         "legendgroup": "",
         "marker": {
          "color": "rgb(7, 26, 90)",
          "symbol": "circle"
         },
         "mode": "markers",
         "name": "",
         "scene": "scene",
         "showlegend": false,
         "type": "scatter3d",
         "x": [
          90
         ],
         "y": [
          26
         ],
         "z": [
          7
         ]
        },
        {
         "hovertemplate": "x=%{x}<br>y=%{y}<br>z=%{z}<extra></extra>",
         "legendgroup": "",
         "marker": {
          "color": "rgb(6, 29, 90)",
          "symbol": "circle"
         },
         "mode": "markers",
         "name": "",
         "scene": "scene",
         "showlegend": false,
         "type": "scatter3d",
         "x": [
          90
         ],
         "y": [
          29
         ],
         "z": [
          6
         ]
        },
        {
         "hovertemplate": "x=%{x}<br>y=%{y}<br>z=%{z}<extra></extra>",
         "legendgroup": "",
         "marker": {
          "color": "rgb(11, 29, 90)",
          "symbol": "circle"
         },
         "mode": "markers",
         "name": "",
         "scene": "scene",
         "showlegend": false,
         "type": "scatter3d",
         "x": [
          90
         ],
         "y": [
          29
         ],
         "z": [
          11
         ]
        },
        {
         "hovertemplate": "x=%{x}<br>y=%{y}<br>z=%{z}<extra></extra>",
         "legendgroup": "",
         "marker": {
          "color": "rgb(13, 33, 90)",
          "symbol": "circle"
         },
         "mode": "markers",
         "name": "",
         "scene": "scene",
         "showlegend": false,
         "type": "scatter3d",
         "x": [
          90
         ],
         "y": [
          33
         ],
         "z": [
          13
         ]
        },
        {
         "hovertemplate": "x=%{x}<br>y=%{y}<br>z=%{z}<extra></extra>",
         "legendgroup": "",
         "marker": {
          "color": "rgb(17, 36, 90)",
          "symbol": "circle"
         },
         "mode": "markers",
         "name": "",
         "scene": "scene",
         "showlegend": false,
         "type": "scatter3d",
         "x": [
          90
         ],
         "y": [
          36
         ],
         "z": [
          17
         ]
        },
        {
         "hovertemplate": "x=%{x}<br>y=%{y}<br>z=%{z}<extra></extra>",
         "legendgroup": "",
         "marker": {
          "color": "rgb(94, 117, 90)",
          "symbol": "circle"
         },
         "mode": "markers",
         "name": "",
         "scene": "scene",
         "showlegend": false,
         "type": "scatter3d",
         "x": [
          90
         ],
         "y": [
          117
         ],
         "z": [
          94
         ]
        },
        {
         "hovertemplate": "x=%{x}<br>y=%{y}<br>z=%{z}<extra></extra>",
         "legendgroup": "",
         "marker": {
          "color": "rgb(3, 26, 91)",
          "symbol": "circle"
         },
         "mode": "markers",
         "name": "",
         "scene": "scene",
         "showlegend": false,
         "type": "scatter3d",
         "x": [
          91
         ],
         "y": [
          26
         ],
         "z": [
          3
         ]
        },
        {
         "hovertemplate": "x=%{x}<br>y=%{y}<br>z=%{z}<extra></extra>",
         "legendgroup": "",
         "marker": {
          "color": "rgb(6, 24, 92)",
          "symbol": "circle"
         },
         "mode": "markers",
         "name": "",
         "scene": "scene",
         "showlegend": false,
         "type": "scatter3d",
         "x": [
          92
         ],
         "y": [
          24
         ],
         "z": [
          6
         ]
        },
        {
         "hovertemplate": "x=%{x}<br>y=%{y}<br>z=%{z}<extra></extra>",
         "legendgroup": "",
         "marker": {
          "color": "rgb(8, 27, 92)",
          "symbol": "circle"
         },
         "mode": "markers",
         "name": "",
         "scene": "scene",
         "showlegend": false,
         "type": "scatter3d",
         "x": [
          92
         ],
         "y": [
          27
         ],
         "z": [
          8
         ]
        },
        {
         "hovertemplate": "x=%{x}<br>y=%{y}<br>z=%{z}<extra></extra>",
         "legendgroup": "",
         "marker": {
          "color": "rgb(8, 31, 92)",
          "symbol": "circle"
         },
         "mode": "markers",
         "name": "",
         "scene": "scene",
         "showlegend": false,
         "type": "scatter3d",
         "x": [
          92
         ],
         "y": [
          31
         ],
         "z": [
          8
         ]
        },
        {
         "hovertemplate": "x=%{x}<br>y=%{y}<br>z=%{z}<extra></extra>",
         "legendgroup": "",
         "marker": {
          "color": "rgb(6, 25, 93)",
          "symbol": "circle"
         },
         "mode": "markers",
         "name": "",
         "scene": "scene",
         "showlegend": false,
         "type": "scatter3d",
         "x": [
          93
         ],
         "y": [
          25
         ],
         "z": [
          6
         ]
        },
        {
         "hovertemplate": "x=%{x}<br>y=%{y}<br>z=%{z}<extra></extra>",
         "legendgroup": "",
         "marker": {
          "color": "rgb(5, 29, 93)",
          "symbol": "circle"
         },
         "mode": "markers",
         "name": "",
         "scene": "scene",
         "showlegend": false,
         "type": "scatter3d",
         "x": [
          93
         ],
         "y": [
          29
         ],
         "z": [
          5
         ]
        },
        {
         "hovertemplate": "x=%{x}<br>y=%{y}<br>z=%{z}<extra></extra>",
         "legendgroup": "",
         "marker": {
          "color": "rgb(9, 34, 93)",
          "symbol": "circle"
         },
         "mode": "markers",
         "name": "",
         "scene": "scene",
         "showlegend": false,
         "type": "scatter3d",
         "x": [
          93
         ],
         "y": [
          34
         ],
         "z": [
          9
         ]
        },
        {
         "hovertemplate": "x=%{x}<br>y=%{y}<br>z=%{z}<extra></extra>",
         "legendgroup": "",
         "marker": {
          "color": "rgb(13, 31, 94)",
          "symbol": "circle"
         },
         "mode": "markers",
         "name": "",
         "scene": "scene",
         "showlegend": false,
         "type": "scatter3d",
         "x": [
          94
         ],
         "y": [
          31
         ],
         "z": [
          13
         ]
        },
        {
         "hovertemplate": "x=%{x}<br>y=%{y}<br>z=%{z}<extra></extra>",
         "legendgroup": "",
         "marker": {
          "color": "rgb(14, 36, 94)",
          "symbol": "circle"
         },
         "mode": "markers",
         "name": "",
         "scene": "scene",
         "showlegend": false,
         "type": "scatter3d",
         "x": [
          94
         ],
         "y": [
          36
         ],
         "z": [
          14
         ]
        },
        {
         "hovertemplate": "x=%{x}<br>y=%{y}<br>z=%{z}<extra></extra>",
         "legendgroup": "",
         "marker": {
          "color": "rgb(8, 27, 95)",
          "symbol": "circle"
         },
         "mode": "markers",
         "name": "",
         "scene": "scene",
         "showlegend": false,
         "type": "scatter3d",
         "x": [
          95
         ],
         "y": [
          27
         ],
         "z": [
          8
         ]
        },
        {
         "hovertemplate": "x=%{x}<br>y=%{y}<br>z=%{z}<extra></extra>",
         "legendgroup": "",
         "marker": {
          "color": "rgb(3, 28, 95)",
          "symbol": "circle"
         },
         "mode": "markers",
         "name": "",
         "scene": "scene",
         "showlegend": false,
         "type": "scatter3d",
         "x": [
          95
         ],
         "y": [
          28
         ],
         "z": [
          3
         ]
        },
        {
         "hovertemplate": "x=%{x}<br>y=%{y}<br>z=%{z}<extra></extra>",
         "legendgroup": "",
         "marker": {
          "color": "rgb(7, 31, 95)",
          "symbol": "circle"
         },
         "mode": "markers",
         "name": "",
         "scene": "scene",
         "showlegend": false,
         "type": "scatter3d",
         "x": [
          95
         ],
         "y": [
          31
         ],
         "z": [
          7
         ]
        },
        {
         "hovertemplate": "x=%{x}<br>y=%{y}<br>z=%{z}<extra></extra>",
         "legendgroup": "",
         "marker": {
          "color": "rgb(9, 36, 95)",
          "symbol": "circle"
         },
         "mode": "markers",
         "name": "",
         "scene": "scene",
         "showlegend": false,
         "type": "scatter3d",
         "x": [
          95
         ],
         "y": [
          36
         ],
         "z": [
          9
         ]
        },
        {
         "hovertemplate": "x=%{x}<br>y=%{y}<br>z=%{z}<extra></extra>",
         "legendgroup": "",
         "marker": {
          "color": "rgb(19, 39, 95)",
          "symbol": "circle"
         },
         "mode": "markers",
         "name": "",
         "scene": "scene",
         "showlegend": false,
         "type": "scatter3d",
         "x": [
          95
         ],
         "y": [
          39
         ],
         "z": [
          19
         ]
        },
        {
         "hovertemplate": "x=%{x}<br>y=%{y}<br>z=%{z}<extra></extra>",
         "legendgroup": "",
         "marker": {
          "color": "rgb(10, 34, 96)",
          "symbol": "circle"
         },
         "mode": "markers",
         "name": "",
         "scene": "scene",
         "showlegend": false,
         "type": "scatter3d",
         "x": [
          96
         ],
         "y": [
          34
         ],
         "z": [
          10
         ]
        },
        {
         "hovertemplate": "x=%{x}<br>y=%{y}<br>z=%{z}<extra></extra>",
         "legendgroup": "",
         "marker": {
          "color": "rgb(5, 28, 97)",
          "symbol": "circle"
         },
         "mode": "markers",
         "name": "",
         "scene": "scene",
         "showlegend": false,
         "type": "scatter3d",
         "x": [
          97
         ],
         "y": [
          28
         ],
         "z": [
          5
         ]
        },
        {
         "hovertemplate": "x=%{x}<br>y=%{y}<br>z=%{z}<extra></extra>",
         "legendgroup": "",
         "marker": {
          "color": "rgb(9, 29, 97)",
          "symbol": "circle"
         },
         "mode": "markers",
         "name": "",
         "scene": "scene",
         "showlegend": false,
         "type": "scatter3d",
         "x": [
          97
         ],
         "y": [
          29
         ],
         "z": [
          9
         ]
        },
        {
         "hovertemplate": "x=%{x}<br>y=%{y}<br>z=%{z}<extra></extra>",
         "legendgroup": "",
         "marker": {
          "color": "rgb(5, 31, 97)",
          "symbol": "circle"
         },
         "mode": "markers",
         "name": "",
         "scene": "scene",
         "showlegend": false,
         "type": "scatter3d",
         "x": [
          97
         ],
         "y": [
          31
         ],
         "z": [
          5
         ]
        },
        {
         "hovertemplate": "x=%{x}<br>y=%{y}<br>z=%{z}<extra></extra>",
         "legendgroup": "",
         "marker": {
          "color": "rgb(14, 32, 97)",
          "symbol": "circle"
         },
         "mode": "markers",
         "name": "",
         "scene": "scene",
         "showlegend": false,
         "type": "scatter3d",
         "x": [
          97
         ],
         "y": [
          32
         ],
         "z": [
          14
         ]
        },
        {
         "hovertemplate": "x=%{x}<br>y=%{y}<br>z=%{z}<extra></extra>",
         "legendgroup": "",
         "marker": {
          "color": "rgb(6, 33, 97)",
          "symbol": "circle"
         },
         "mode": "markers",
         "name": "",
         "scene": "scene",
         "showlegend": false,
         "type": "scatter3d",
         "x": [
          97
         ],
         "y": [
          33
         ],
         "z": [
          6
         ]
        },
        {
         "hovertemplate": "x=%{x}<br>y=%{y}<br>z=%{z}<extra></extra>",
         "legendgroup": "",
         "marker": {
          "color": "rgb(7, 36, 97)",
          "symbol": "circle"
         },
         "mode": "markers",
         "name": "",
         "scene": "scene",
         "showlegend": false,
         "type": "scatter3d",
         "x": [
          97
         ],
         "y": [
          36
         ],
         "z": [
          7
         ]
        },
        {
         "hovertemplate": "x=%{x}<br>y=%{y}<br>z=%{z}<extra></extra>",
         "legendgroup": "",
         "marker": {
          "color": "rgb(12, 36, 98)",
          "symbol": "circle"
         },
         "mode": "markers",
         "name": "",
         "scene": "scene",
         "showlegend": false,
         "type": "scatter3d",
         "x": [
          98
         ],
         "y": [
          36
         ],
         "z": [
          12
         ]
        },
        {
         "hovertemplate": "x=%{x}<br>y=%{y}<br>z=%{z}<extra></extra>",
         "legendgroup": "",
         "marker": {
          "color": "rgb(14, 40, 98)",
          "symbol": "circle"
         },
         "mode": "markers",
         "name": "",
         "scene": "scene",
         "showlegend": false,
         "type": "scatter3d",
         "x": [
          98
         ],
         "y": [
          40
         ],
         "z": [
          14
         ]
        },
        {
         "hovertemplate": "x=%{x}<br>y=%{y}<br>z=%{z}<extra></extra>",
         "legendgroup": "",
         "marker": {
          "color": "rgb(9, 32, 99)",
          "symbol": "circle"
         },
         "mode": "markers",
         "name": "",
         "scene": "scene",
         "showlegend": false,
         "type": "scatter3d",
         "x": [
          99
         ],
         "y": [
          32
         ],
         "z": [
          9
         ]
        },
        {
         "hovertemplate": "x=%{x}<br>y=%{y}<br>z=%{z}<extra></extra>",
         "legendgroup": "",
         "marker": {
          "color": "rgb(6, 35, 99)",
          "symbol": "circle"
         },
         "mode": "markers",
         "name": "",
         "scene": "scene",
         "showlegend": false,
         "type": "scatter3d",
         "x": [
          99
         ],
         "y": [
          35
         ],
         "z": [
          6
         ]
        },
        {
         "hovertemplate": "x=%{x}<br>y=%{y}<br>z=%{z}<extra></extra>",
         "legendgroup": "",
         "marker": {
          "color": "rgb(9, 38, 99)",
          "symbol": "circle"
         },
         "mode": "markers",
         "name": "",
         "scene": "scene",
         "showlegend": false,
         "type": "scatter3d",
         "x": [
          99
         ],
         "y": [
          38
         ],
         "z": [
          9
         ]
        },
        {
         "hovertemplate": "x=%{x}<br>y=%{y}<br>z=%{z}<extra></extra>",
         "legendgroup": "",
         "marker": {
          "color": "rgb(8, 29, 100)",
          "symbol": "circle"
         },
         "mode": "markers",
         "name": "",
         "scene": "scene",
         "showlegend": false,
         "type": "scatter3d",
         "x": [
          100
         ],
         "y": [
          29
         ],
         "z": [
          8
         ]
        },
        {
         "hovertemplate": "x=%{x}<br>y=%{y}<br>z=%{z}<extra></extra>",
         "legendgroup": "",
         "marker": {
          "color": "rgb(4, 31, 100)",
          "symbol": "circle"
         },
         "mode": "markers",
         "name": "",
         "scene": "scene",
         "showlegend": false,
         "type": "scatter3d",
         "x": [
          100
         ],
         "y": [
          31
         ],
         "z": [
          4
         ]
        },
        {
         "hovertemplate": "x=%{x}<br>y=%{y}<br>z=%{z}<extra></extra>",
         "legendgroup": "",
         "marker": {
          "color": "rgb(16, 35, 101)",
          "symbol": "circle"
         },
         "mode": "markers",
         "name": "",
         "scene": "scene",
         "showlegend": false,
         "type": "scatter3d",
         "x": [
          101
         ],
         "y": [
          35
         ],
         "z": [
          16
         ]
        },
        {
         "hovertemplate": "x=%{x}<br>y=%{y}<br>z=%{z}<extra></extra>",
         "legendgroup": "",
         "marker": {
          "color": "rgb(10, 36, 101)",
          "symbol": "circle"
         },
         "mode": "markers",
         "name": "",
         "scene": "scene",
         "showlegend": false,
         "type": "scatter3d",
         "x": [
          101
         ],
         "y": [
          36
         ],
         "z": [
          10
         ]
        },
        {
         "hovertemplate": "x=%{x}<br>y=%{y}<br>z=%{z}<extra></extra>",
         "legendgroup": "",
         "marker": {
          "color": "rgb(13, 39, 101)",
          "symbol": "circle"
         },
         "mode": "markers",
         "name": "",
         "scene": "scene",
         "showlegend": false,
         "type": "scatter3d",
         "x": [
          101
         ],
         "y": [
          39
         ],
         "z": [
          13
         ]
        },
        {
         "hovertemplate": "x=%{x}<br>y=%{y}<br>z=%{z}<extra></extra>",
         "legendgroup": "",
         "marker": {
          "color": "rgb(18, 43, 101)",
          "symbol": "circle"
         },
         "mode": "markers",
         "name": "",
         "scene": "scene",
         "showlegend": false,
         "type": "scatter3d",
         "x": [
          101
         ],
         "y": [
          43
         ],
         "z": [
          18
         ]
        },
        {
         "hovertemplate": "x=%{x}<br>y=%{y}<br>z=%{z}<extra></extra>",
         "legendgroup": "",
         "marker": {
          "color": "rgb(9, 32, 102)",
          "symbol": "circle"
         },
         "mode": "markers",
         "name": "",
         "scene": "scene",
         "showlegend": false,
         "type": "scatter3d",
         "x": [
          102
         ],
         "y": [
          32
         ],
         "z": [
          9
         ]
        },
        {
         "hovertemplate": "x=%{x}<br>y=%{y}<br>z=%{z}<extra></extra>",
         "legendgroup": "",
         "marker": {
          "color": "rgb(5, 33, 102)",
          "symbol": "circle"
         },
         "mode": "markers",
         "name": "",
         "scene": "scene",
         "showlegend": false,
         "type": "scatter3d",
         "x": [
          102
         ],
         "y": [
          33
         ],
         "z": [
          5
         ]
        },
        {
         "hovertemplate": "x=%{x}<br>y=%{y}<br>z=%{z}<extra></extra>",
         "legendgroup": "",
         "marker": {
          "color": "rgb(6, 36, 102)",
          "symbol": "circle"
         },
         "mode": "markers",
         "name": "",
         "scene": "scene",
         "showlegend": false,
         "type": "scatter3d",
         "x": [
          102
         ],
         "y": [
          36
         ],
         "z": [
          6
         ]
        },
        {
         "hovertemplate": "x=%{x}<br>y=%{y}<br>z=%{z}<extra></extra>",
         "legendgroup": "",
         "marker": {
          "color": "rgb(8, 38, 102)",
          "symbol": "circle"
         },
         "mode": "markers",
         "name": "",
         "scene": "scene",
         "showlegend": false,
         "type": "scatter3d",
         "x": [
          102
         ],
         "y": [
          38
         ],
         "z": [
          8
         ]
        },
        {
         "hovertemplate": "x=%{x}<br>y=%{y}<br>z=%{z}<extra></extra>",
         "legendgroup": "",
         "marker": {
          "color": "rgb(107, 128, 103)",
          "symbol": "circle"
         },
         "mode": "markers",
         "name": "",
         "scene": "scene",
         "showlegend": false,
         "type": "scatter3d",
         "x": [
          103
         ],
         "y": [
          128
         ],
         "z": [
          107
         ]
        },
        {
         "hovertemplate": "x=%{x}<br>y=%{y}<br>z=%{z}<extra></extra>",
         "legendgroup": "",
         "marker": {
          "color": "rgb(6, 34, 104)",
          "symbol": "circle"
         },
         "mode": "markers",
         "name": "",
         "scene": "scene",
         "showlegend": false,
         "type": "scatter3d",
         "x": [
          104
         ],
         "y": [
          34
         ],
         "z": [
          6
         ]
        },
        {
         "hovertemplate": "x=%{x}<br>y=%{y}<br>z=%{z}<extra></extra>",
         "legendgroup": "",
         "marker": {
          "color": "rgb(10, 34, 104)",
          "symbol": "circle"
         },
         "mode": "markers",
         "name": "",
         "scene": "scene",
         "showlegend": false,
         "type": "scatter3d",
         "x": [
          104
         ],
         "y": [
          34
         ],
         "z": [
          10
         ]
        },
        {
         "hovertemplate": "x=%{x}<br>y=%{y}<br>z=%{z}<extra></extra>",
         "legendgroup": "",
         "marker": {
          "color": "rgb(11, 37, 104)",
          "symbol": "circle"
         },
         "mode": "markers",
         "name": "",
         "scene": "scene",
         "showlegend": false,
         "type": "scatter3d",
         "x": [
          104
         ],
         "y": [
          37
         ],
         "z": [
          11
         ]
        },
        {
         "hovertemplate": "x=%{x}<br>y=%{y}<br>z=%{z}<extra></extra>",
         "legendgroup": "",
         "marker": {
          "color": "rgb(6, 38, 104)",
          "symbol": "circle"
         },
         "mode": "markers",
         "name": "",
         "scene": "scene",
         "showlegend": false,
         "type": "scatter3d",
         "x": [
          104
         ],
         "y": [
          38
         ],
         "z": [
          6
         ]
        },
        {
         "hovertemplate": "x=%{x}<br>y=%{y}<br>z=%{z}<extra></extra>",
         "legendgroup": "",
         "marker": {
          "color": "rgb(9, 40, 104)",
          "symbol": "circle"
         },
         "mode": "markers",
         "name": "",
         "scene": "scene",
         "showlegend": false,
         "type": "scatter3d",
         "x": [
          104
         ],
         "y": [
          40
         ],
         "z": [
          9
         ]
        },
        {
         "hovertemplate": "x=%{x}<br>y=%{y}<br>z=%{z}<extra></extra>",
         "legendgroup": "",
         "marker": {
          "color": "rgb(14, 42, 104)",
          "symbol": "circle"
         },
         "mode": "markers",
         "name": "",
         "scene": "scene",
         "showlegend": false,
         "type": "scatter3d",
         "x": [
          104
         ],
         "y": [
          42
         ],
         "z": [
          14
         ]
        },
        {
         "hovertemplate": "x=%{x}<br>y=%{y}<br>z=%{z}<extra></extra>",
         "legendgroup": "",
         "marker": {
          "color": "rgb(75, 106, 104)",
          "symbol": "circle"
         },
         "mode": "markers",
         "name": "",
         "scene": "scene",
         "showlegend": false,
         "type": "scatter3d",
         "x": [
          104
         ],
         "y": [
          106
         ],
         "z": [
          75
         ]
        },
        {
         "hovertemplate": "x=%{x}<br>y=%{y}<br>z=%{z}<extra></extra>",
         "legendgroup": "",
         "marker": {
          "color": "rgb(6, 36, 106)",
          "symbol": "circle"
         },
         "mode": "markers",
         "name": "",
         "scene": "scene",
         "showlegend": false,
         "type": "scatter3d",
         "x": [
          106
         ],
         "y": [
          36
         ],
         "z": [
          6
         ]
        },
        {
         "hovertemplate": "x=%{x}<br>y=%{y}<br>z=%{z}<extra></extra>",
         "legendgroup": "",
         "marker": {
          "color": "rgb(9, 40, 106)",
          "symbol": "circle"
         },
         "mode": "markers",
         "name": "",
         "scene": "scene",
         "showlegend": false,
         "type": "scatter3d",
         "x": [
          106
         ],
         "y": [
          40
         ],
         "z": [
          9
         ]
        },
        {
         "hovertemplate": "x=%{x}<br>y=%{y}<br>z=%{z}<extra></extra>",
         "legendgroup": "",
         "marker": {
          "color": "rgb(10, 35, 107)",
          "symbol": "circle"
         },
         "mode": "markers",
         "name": "",
         "scene": "scene",
         "showlegend": false,
         "type": "scatter3d",
         "x": [
          107
         ],
         "y": [
          35
         ],
         "z": [
          10
         ]
        },
        {
         "hovertemplate": "x=%{x}<br>y=%{y}<br>z=%{z}<extra></extra>",
         "legendgroup": "",
         "marker": {
          "color": "rgb(15, 40, 107)",
          "symbol": "circle"
         },
         "mode": "markers",
         "name": "",
         "scene": "scene",
         "showlegend": false,
         "type": "scatter3d",
         "x": [
          107
         ],
         "y": [
          40
         ],
         "z": [
          15
         ]
        },
        {
         "hovertemplate": "x=%{x}<br>y=%{y}<br>z=%{z}<extra></extra>",
         "legendgroup": "",
         "marker": {
          "color": "rgb(15, 44, 107)",
          "symbol": "circle"
         },
         "mode": "markers",
         "name": "",
         "scene": "scene",
         "showlegend": false,
         "type": "scatter3d",
         "x": [
          107
         ],
         "y": [
          44
         ],
         "z": [
          15
         ]
        },
        {
         "hovertemplate": "x=%{x}<br>y=%{y}<br>z=%{z}<extra></extra>",
         "legendgroup": "",
         "marker": {
          "color": "rgb(19, 46, 107)",
          "symbol": "circle"
         },
         "mode": "markers",
         "name": "",
         "scene": "scene",
         "showlegend": false,
         "type": "scatter3d",
         "x": [
          107
         ],
         "y": [
          46
         ],
         "z": [
          19
         ]
        },
        {
         "hovertemplate": "x=%{x}<br>y=%{y}<br>z=%{z}<extra></extra>",
         "legendgroup": "",
         "marker": {
          "color": "rgb(41, 60, 107)",
          "symbol": "circle"
         },
         "mode": "markers",
         "name": "",
         "scene": "scene",
         "showlegend": false,
         "type": "scatter3d",
         "x": [
          107
         ],
         "y": [
          60
         ],
         "z": [
          41
         ]
        },
        {
         "hovertemplate": "x=%{x}<br>y=%{y}<br>z=%{z}<extra></extra>",
         "legendgroup": "",
         "marker": {
          "color": "rgb(28, 76, 107)",
          "symbol": "circle"
         },
         "mode": "markers",
         "name": "",
         "scene": "scene",
         "showlegend": false,
         "type": "scatter3d",
         "x": [
          107
         ],
         "y": [
          76
         ],
         "z": [
          28
         ]
        },
        {
         "hovertemplate": "x=%{x}<br>y=%{y}<br>z=%{z}<extra></extra>",
         "legendgroup": "",
         "marker": {
          "color": "rgb(126, 142, 107)",
          "symbol": "circle"
         },
         "mode": "markers",
         "name": "",
         "scene": "scene",
         "showlegend": false,
         "type": "scatter3d",
         "x": [
          107
         ],
         "y": [
          142
         ],
         "z": [
          126
         ]
        },
        {
         "hovertemplate": "x=%{x}<br>y=%{y}<br>z=%{z}<extra></extra>",
         "legendgroup": "",
         "marker": {
          "color": "rgb(6, 38, 108)",
          "symbol": "circle"
         },
         "mode": "markers",
         "name": "",
         "scene": "scene",
         "showlegend": false,
         "type": "scatter3d",
         "x": [
          108
         ],
         "y": [
          38
         ],
         "z": [
          6
         ]
        },
        {
         "hovertemplate": "x=%{x}<br>y=%{y}<br>z=%{z}<extra></extra>",
         "legendgroup": "",
         "marker": {
          "color": "rgb(10, 38, 108)",
          "symbol": "circle"
         },
         "mode": "markers",
         "name": "",
         "scene": "scene",
         "showlegend": false,
         "type": "scatter3d",
         "x": [
          108
         ],
         "y": [
          38
         ],
         "z": [
          10
         ]
        },
        {
         "hovertemplate": "x=%{x}<br>y=%{y}<br>z=%{z}<extra></extra>",
         "legendgroup": "",
         "marker": {
          "color": "rgb(6, 41, 108)",
          "symbol": "circle"
         },
         "mode": "markers",
         "name": "",
         "scene": "scene",
         "showlegend": false,
         "type": "scatter3d",
         "x": [
          108
         ],
         "y": [
          41
         ],
         "z": [
          6
         ]
        },
        {
         "hovertemplate": "x=%{x}<br>y=%{y}<br>z=%{z}<extra></extra>",
         "legendgroup": "",
         "marker": {
          "color": "rgb(56, 67, 108)",
          "symbol": "circle"
         },
         "mode": "markers",
         "name": "",
         "scene": "scene",
         "showlegend": false,
         "type": "scatter3d",
         "x": [
          108
         ],
         "y": [
          67
         ],
         "z": [
          56
         ]
        },
        {
         "hovertemplate": "x=%{x}<br>y=%{y}<br>z=%{z}<extra></extra>",
         "legendgroup": "",
         "marker": {
          "color": "rgb(10, 43, 109)",
          "symbol": "circle"
         },
         "mode": "markers",
         "name": "",
         "scene": "scene",
         "showlegend": false,
         "type": "scatter3d",
         "x": [
          109
         ],
         "y": [
          43
         ],
         "z": [
          10
         ]
        },
        {
         "hovertemplate": "x=%{x}<br>y=%{y}<br>z=%{z}<extra></extra>",
         "legendgroup": "",
         "marker": {
          "color": "rgb(5, 39, 110)",
          "symbol": "circle"
         },
         "mode": "markers",
         "name": "",
         "scene": "scene",
         "showlegend": false,
         "type": "scatter3d",
         "x": [
          110
         ],
         "y": [
          39
         ],
         "z": [
          5
         ]
        },
        {
         "hovertemplate": "x=%{x}<br>y=%{y}<br>z=%{z}<extra></extra>",
         "legendgroup": "",
         "marker": {
          "color": "rgb(15, 42, 110)",
          "symbol": "circle"
         },
         "mode": "markers",
         "name": "",
         "scene": "scene",
         "showlegend": false,
         "type": "scatter3d",
         "x": [
          110
         ],
         "y": [
          42
         ],
         "z": [
          15
         ]
        },
        {
         "hovertemplate": "x=%{x}<br>y=%{y}<br>z=%{z}<extra></extra>",
         "legendgroup": "",
         "marker": {
          "color": "rgb(11, 39, 111)",
          "symbol": "circle"
         },
         "mode": "markers",
         "name": "",
         "scene": "scene",
         "showlegend": false,
         "type": "scatter3d",
         "x": [
          111
         ],
         "y": [
          39
         ],
         "z": [
          11
         ]
        },
        {
         "hovertemplate": "x=%{x}<br>y=%{y}<br>z=%{z}<extra></extra>",
         "legendgroup": "",
         "marker": {
          "color": "rgb(6, 42, 111)",
          "symbol": "circle"
         },
         "mode": "markers",
         "name": "",
         "scene": "scene",
         "showlegend": false,
         "type": "scatter3d",
         "x": [
          111
         ],
         "y": [
          42
         ],
         "z": [
          6
         ]
        },
        {
         "hovertemplate": "x=%{x}<br>y=%{y}<br>z=%{z}<extra></extra>",
         "legendgroup": "",
         "marker": {
          "color": "rgb(13, 46, 111)",
          "symbol": "circle"
         },
         "mode": "markers",
         "name": "",
         "scene": "scene",
         "showlegend": false,
         "type": "scatter3d",
         "x": [
          111
         ],
         "y": [
          46
         ],
         "z": [
          13
         ]
        },
        {
         "hovertemplate": "x=%{x}<br>y=%{y}<br>z=%{z}<extra></extra>",
         "legendgroup": "",
         "marker": {
          "color": "rgb(10, 43, 112)",
          "symbol": "circle"
         },
         "mode": "markers",
         "name": "",
         "scene": "scene",
         "showlegend": false,
         "type": "scatter3d",
         "x": [
          112
         ],
         "y": [
          43
         ],
         "z": [
          10
         ]
        },
        {
         "hovertemplate": "x=%{x}<br>y=%{y}<br>z=%{z}<extra></extra>",
         "legendgroup": "",
         "marker": {
          "color": "rgb(17, 45, 112)",
          "symbol": "circle"
         },
         "mode": "markers",
         "name": "",
         "scene": "scene",
         "showlegend": false,
         "type": "scatter3d",
         "x": [
          112
         ],
         "y": [
          45
         ],
         "z": [
          17
         ]
        },
        {
         "hovertemplate": "x=%{x}<br>y=%{y}<br>z=%{z}<extra></extra>",
         "legendgroup": "",
         "marker": {
          "color": "rgb(18, 49, 112)",
          "symbol": "circle"
         },
         "mode": "markers",
         "name": "",
         "scene": "scene",
         "showlegend": false,
         "type": "scatter3d",
         "x": [
          112
         ],
         "y": [
          49
         ],
         "z": [
          18
         ]
        },
        {
         "hovertemplate": "x=%{x}<br>y=%{y}<br>z=%{z}<extra></extra>",
         "legendgroup": "",
         "marker": {
          "color": "rgb(56, 68, 112)",
          "symbol": "circle"
         },
         "mode": "markers",
         "name": "",
         "scene": "scene",
         "showlegend": false,
         "type": "scatter3d",
         "x": [
          112
         ],
         "y": [
          68
         ],
         "z": [
          56
         ]
        },
        {
         "hovertemplate": "x=%{x}<br>y=%{y}<br>z=%{z}<extra></extra>",
         "legendgroup": "",
         "marker": {
          "color": "rgb(6, 41, 113)",
          "symbol": "circle"
         },
         "mode": "markers",
         "name": "",
         "scene": "scene",
         "showlegend": false,
         "type": "scatter3d",
         "x": [
          113
         ],
         "y": [
          41
         ],
         "z": [
          6
         ]
        },
        {
         "hovertemplate": "x=%{x}<br>y=%{y}<br>z=%{z}<extra></extra>",
         "legendgroup": "",
         "marker": {
          "color": "rgb(6, 45, 113)",
          "symbol": "circle"
         },
         "mode": "markers",
         "name": "",
         "scene": "scene",
         "showlegend": false,
         "type": "scatter3d",
         "x": [
          113
         ],
         "y": [
          45
         ],
         "z": [
          6
         ]
        },
        {
         "hovertemplate": "x=%{x}<br>y=%{y}<br>z=%{z}<extra></extra>",
         "legendgroup": "",
         "marker": {
          "color": "rgb(10, 45, 113)",
          "symbol": "circle"
         },
         "mode": "markers",
         "name": "",
         "scene": "scene",
         "showlegend": false,
         "type": "scatter3d",
         "x": [
          113
         ],
         "y": [
          45
         ],
         "z": [
          10
         ]
        },
        {
         "hovertemplate": "x=%{x}<br>y=%{y}<br>z=%{z}<extra></extra>",
         "legendgroup": "",
         "marker": {
          "color": "rgb(5, 43, 114)",
          "symbol": "circle"
         },
         "mode": "markers",
         "name": "",
         "scene": "scene",
         "showlegend": false,
         "type": "scatter3d",
         "x": [
          114
         ],
         "y": [
          43
         ],
         "z": [
          5
         ]
        },
        {
         "hovertemplate": "x=%{x}<br>y=%{y}<br>z=%{z}<extra></extra>",
         "legendgroup": "",
         "marker": {
          "color": "rgb(13, 48, 114)",
          "symbol": "circle"
         },
         "mode": "markers",
         "name": "",
         "scene": "scene",
         "showlegend": false,
         "type": "scatter3d",
         "x": [
          114
         ],
         "y": [
          48
         ],
         "z": [
          13
         ]
        },
        {
         "hovertemplate": "x=%{x}<br>y=%{y}<br>z=%{z}<extra></extra>",
         "legendgroup": "",
         "marker": {
          "color": "rgb(20, 52, 115)",
          "symbol": "circle"
         },
         "mode": "markers",
         "name": "",
         "scene": "scene",
         "showlegend": false,
         "type": "scatter3d",
         "x": [
          115
         ],
         "y": [
          52
         ],
         "z": [
          20
         ]
        },
        {
         "hovertemplate": "x=%{x}<br>y=%{y}<br>z=%{z}<extra></extra>",
         "legendgroup": "",
         "marker": {
          "color": "rgb(5, 45, 116)",
          "symbol": "circle"
         },
         "mode": "markers",
         "name": "",
         "scene": "scene",
         "showlegend": false,
         "type": "scatter3d",
         "x": [
          116
         ],
         "y": [
          45
         ],
         "z": [
          5
         ]
        },
        {
         "hovertemplate": "x=%{x}<br>y=%{y}<br>z=%{z}<extra></extra>",
         "legendgroup": "",
         "marker": {
          "color": "rgb(10, 46, 116)",
          "symbol": "circle"
         },
         "mode": "markers",
         "name": "",
         "scene": "scene",
         "showlegend": false,
         "type": "scatter3d",
         "x": [
          116
         ],
         "y": [
          46
         ],
         "z": [
          10
         ]
        },
        {
         "hovertemplate": "x=%{x}<br>y=%{y}<br>z=%{z}<extra></extra>",
         "legendgroup": "",
         "marker": {
          "color": "rgb(56, 70, 116)",
          "symbol": "circle"
         },
         "mode": "markers",
         "name": "",
         "scene": "scene",
         "showlegend": false,
         "type": "scatter3d",
         "x": [
          116
         ],
         "y": [
          70
         ],
         "z": [
          56
         ]
        },
        {
         "hovertemplate": "x=%{x}<br>y=%{y}<br>z=%{z}<extra></extra>",
         "legendgroup": "",
         "marker": {
          "color": "rgb(15, 50, 117)",
          "symbol": "circle"
         },
         "mode": "markers",
         "name": "",
         "scene": "scene",
         "showlegend": false,
         "type": "scatter3d",
         "x": [
          117
         ],
         "y": [
          50
         ],
         "z": [
          15
         ]
        },
        {
         "hovertemplate": "x=%{x}<br>y=%{y}<br>z=%{z}<extra></extra>",
         "legendgroup": "",
         "marker": {
          "color": "rgb(3, 45, 118)",
          "symbol": "circle"
         },
         "mode": "markers",
         "name": "",
         "scene": "scene",
         "showlegend": false,
         "type": "scatter3d",
         "x": [
          118
         ],
         "y": [
          45
         ],
         "z": [
          3
         ]
        },
        {
         "hovertemplate": "x=%{x}<br>y=%{y}<br>z=%{z}<extra></extra>",
         "legendgroup": "",
         "marker": {
          "color": "rgb(9, 45, 118)",
          "symbol": "circle"
         },
         "mode": "markers",
         "name": "",
         "scene": "scene",
         "showlegend": false,
         "type": "scatter3d",
         "x": [
          118
         ],
         "y": [
          45
         ],
         "z": [
          9
         ]
        },
        {
         "hovertemplate": "x=%{x}<br>y=%{y}<br>z=%{z}<extra></extra>",
         "legendgroup": "",
         "marker": {
          "color": "rgb(11, 49, 118)",
          "symbol": "circle"
         },
         "mode": "markers",
         "name": "",
         "scene": "scene",
         "showlegend": false,
         "type": "scatter3d",
         "x": [
          118
         ],
         "y": [
          49
         ],
         "z": [
          11
         ]
        },
        {
         "hovertemplate": "x=%{x}<br>y=%{y}<br>z=%{z}<extra></extra>",
         "legendgroup": "",
         "marker": {
          "color": "rgb(6, 48, 119)",
          "symbol": "circle"
         },
         "mode": "markers",
         "name": "",
         "scene": "scene",
         "showlegend": false,
         "type": "scatter3d",
         "x": [
          119
         ],
         "y": [
          48
         ],
         "z": [
          6
         ]
        },
        {
         "hovertemplate": "x=%{x}<br>y=%{y}<br>z=%{z}<extra></extra>",
         "legendgroup": "",
         "marker": {
          "color": "rgb(18, 54, 119)",
          "symbol": "circle"
         },
         "mode": "markers",
         "name": "",
         "scene": "scene",
         "showlegend": false,
         "type": "scatter3d",
         "x": [
          119
         ],
         "y": [
          54
         ],
         "z": [
          18
         ]
        },
        {
         "hovertemplate": "x=%{x}<br>y=%{y}<br>z=%{z}<extra></extra>",
         "legendgroup": "",
         "marker": {
          "color": "rgb(14, 52, 120)",
          "symbol": "circle"
         },
         "mode": "markers",
         "name": "",
         "scene": "scene",
         "showlegend": false,
         "type": "scatter3d",
         "x": [
          120
         ],
         "y": [
          52
         ],
         "z": [
          14
         ]
        },
        {
         "hovertemplate": "x=%{x}<br>y=%{y}<br>z=%{z}<extra></extra>",
         "legendgroup": "",
         "marker": {
          "color": "rgb(24, 59, 120)",
          "symbol": "circle"
         },
         "mode": "markers",
         "name": "",
         "scene": "scene",
         "showlegend": false,
         "type": "scatter3d",
         "x": [
          120
         ],
         "y": [
          59
         ],
         "z": [
          24
         ]
        },
        {
         "hovertemplate": "x=%{x}<br>y=%{y}<br>z=%{z}<extra></extra>",
         "legendgroup": "",
         "marker": {
          "color": "rgb(57, 73, 120)",
          "symbol": "circle"
         },
         "mode": "markers",
         "name": "",
         "scene": "scene",
         "showlegend": false,
         "type": "scatter3d",
         "x": [
          120
         ],
         "y": [
          73
         ],
         "z": [
          57
         ]
        },
        {
         "hovertemplate": "x=%{x}<br>y=%{y}<br>z=%{z}<extra></extra>",
         "legendgroup": "",
         "marker": {
          "color": "rgb(3, 46, 121)",
          "symbol": "circle"
         },
         "mode": "markers",
         "name": "",
         "scene": "scene",
         "showlegend": false,
         "type": "scatter3d",
         "x": [
          121
         ],
         "y": [
          46
         ],
         "z": [
          3
         ]
        },
        {
         "hovertemplate": "x=%{x}<br>y=%{y}<br>z=%{z}<extra></extra>",
         "legendgroup": "",
         "marker": {
          "color": "rgb(10, 50, 121)",
          "symbol": "circle"
         },
         "mode": "markers",
         "name": "",
         "scene": "scene",
         "showlegend": false,
         "type": "scatter3d",
         "x": [
          121
         ],
         "y": [
          50
         ],
         "z": [
          10
         ]
        },
        {
         "hovertemplate": "x=%{x}<br>y=%{y}<br>z=%{z}<extra></extra>",
         "legendgroup": "",
         "marker": {
          "color": "rgb(53, 69, 121)",
          "symbol": "circle"
         },
         "mode": "markers",
         "name": "",
         "scene": "scene",
         "showlegend": false,
         "type": "scatter3d",
         "x": [
          121
         ],
         "y": [
          69
         ],
         "z": [
          53
         ]
        },
        {
         "hovertemplate": "x=%{x}<br>y=%{y}<br>z=%{z}<extra></extra>",
         "legendgroup": "",
         "marker": {
          "color": "rgb(6, 49, 122)",
          "symbol": "circle"
         },
         "mode": "markers",
         "name": "",
         "scene": "scene",
         "showlegend": false,
         "type": "scatter3d",
         "x": [
          122
         ],
         "y": [
          49
         ],
         "z": [
          6
         ]
        },
        {
         "hovertemplate": "x=%{x}<br>y=%{y}<br>z=%{z}<extra></extra>",
         "legendgroup": "",
         "marker": {
          "color": "rgb(15, 56, 123)",
          "symbol": "circle"
         },
         "mode": "markers",
         "name": "",
         "scene": "scene",
         "showlegend": false,
         "type": "scatter3d",
         "x": [
          123
         ],
         "y": [
          56
         ],
         "z": [
          15
         ]
        },
        {
         "hovertemplate": "x=%{x}<br>y=%{y}<br>z=%{z}<extra></extra>",
         "legendgroup": "",
         "marker": {
          "color": "rgb(10, 53, 124)",
          "symbol": "circle"
         },
         "mode": "markers",
         "name": "",
         "scene": "scene",
         "showlegend": false,
         "type": "scatter3d",
         "x": [
          124
         ],
         "y": [
          53
         ],
         "z": [
          10
         ]
        },
        {
         "hovertemplate": "x=%{x}<br>y=%{y}<br>z=%{z}<extra></extra>",
         "legendgroup": "",
         "marker": {
          "color": "rgb(20, 60, 124)",
          "symbol": "circle"
         },
         "mode": "markers",
         "name": "",
         "scene": "scene",
         "showlegend": false,
         "type": "scatter3d",
         "x": [
          124
         ],
         "y": [
          60
         ],
         "z": [
          20
         ]
        },
        {
         "hovertemplate": "x=%{x}<br>y=%{y}<br>z=%{z}<extra></extra>",
         "legendgroup": "",
         "marker": {
          "color": "rgb(5, 50, 125)",
          "symbol": "circle"
         },
         "mode": "markers",
         "name": "",
         "scene": "scene",
         "showlegend": false,
         "type": "scatter3d",
         "x": [
          125
         ],
         "y": [
          50
         ],
         "z": [
          5
         ]
        },
        {
         "hovertemplate": "x=%{x}<br>y=%{y}<br>z=%{z}<extra></extra>",
         "legendgroup": "",
         "marker": {
          "color": "rgb(56, 72, 125)",
          "symbol": "circle"
         },
         "mode": "markers",
         "name": "",
         "scene": "scene",
         "showlegend": false,
         "type": "scatter3d",
         "x": [
          125
         ],
         "y": [
          72
         ],
         "z": [
          56
         ]
        },
        {
         "hovertemplate": "x=%{x}<br>y=%{y}<br>z=%{z}<extra></extra>",
         "legendgroup": "",
         "marker": {
          "color": "rgb(57, 77, 126)",
          "symbol": "circle"
         },
         "mode": "markers",
         "name": "",
         "scene": "scene",
         "showlegend": false,
         "type": "scatter3d",
         "x": [
          126
         ],
         "y": [
          77
         ],
         "z": [
          57
         ]
        },
        {
         "hovertemplate": "x=%{x}<br>y=%{y}<br>z=%{z}<extra></extra>",
         "legendgroup": "",
         "marker": {
          "color": "rgb(36, 88, 126)",
          "symbol": "circle"
         },
         "mode": "markers",
         "name": "",
         "scene": "scene",
         "showlegend": false,
         "type": "scatter3d",
         "x": [
          126
         ],
         "y": [
          88
         ],
         "z": [
          36
         ]
        },
        {
         "hovertemplate": "x=%{x}<br>y=%{y}<br>z=%{z}<extra></extra>",
         "legendgroup": "",
         "marker": {
          "color": "rgb(3, 50, 127)",
          "symbol": "circle"
         },
         "mode": "markers",
         "name": "",
         "scene": "scene",
         "showlegend": false,
         "type": "scatter3d",
         "x": [
          127
         ],
         "y": [
          50
         ],
         "z": [
          3
         ]
        },
        {
         "hovertemplate": "x=%{x}<br>y=%{y}<br>z=%{z}<extra></extra>",
         "legendgroup": "",
         "marker": {
          "color": "rgb(11, 55, 127)",
          "symbol": "circle"
         },
         "mode": "markers",
         "name": "",
         "scene": "scene",
         "showlegend": false,
         "type": "scatter3d",
         "x": [
          127
         ],
         "y": [
          55
         ],
         "z": [
          11
         ]
        },
        {
         "hovertemplate": "x=%{x}<br>y=%{y}<br>z=%{z}<extra></extra>",
         "legendgroup": "",
         "marker": {
          "color": "rgb(16, 59, 127)",
          "symbol": "circle"
         },
         "mode": "markers",
         "name": "",
         "scene": "scene",
         "showlegend": false,
         "type": "scatter3d",
         "x": [
          127
         ],
         "y": [
          59
         ],
         "z": [
          16
         ]
        },
        {
         "hovertemplate": "x=%{x}<br>y=%{y}<br>z=%{z}<extra></extra>",
         "legendgroup": "",
         "marker": {
          "color": "rgb(24, 66, 128)",
          "symbol": "circle"
         },
         "mode": "markers",
         "name": "",
         "scene": "scene",
         "showlegend": false,
         "type": "scatter3d",
         "x": [
          128
         ],
         "y": [
          66
         ],
         "z": [
          24
         ]
        },
        {
         "hovertemplate": "x=%{x}<br>y=%{y}<br>z=%{z}<extra></extra>",
         "legendgroup": "",
         "marker": {
          "color": "rgb(4, 53, 129)",
          "symbol": "circle"
         },
         "mode": "markers",
         "name": "",
         "scene": "scene",
         "showlegend": false,
         "type": "scatter3d",
         "x": [
          129
         ],
         "y": [
          53
         ],
         "z": [
          4
         ]
        },
        {
         "hovertemplate": "x=%{x}<br>y=%{y}<br>z=%{z}<extra></extra>",
         "legendgroup": "",
         "marker": {
          "color": "rgb(10, 57, 130)",
          "symbol": "circle"
         },
         "mode": "markers",
         "name": "",
         "scene": "scene",
         "showlegend": false,
         "type": "scatter3d",
         "x": [
          130
         ],
         "y": [
          57
         ],
         "z": [
          10
         ]
        },
        {
         "hovertemplate": "x=%{x}<br>y=%{y}<br>z=%{z}<extra></extra>",
         "legendgroup": "",
         "marker": {
          "color": "rgb(16, 62, 130)",
          "symbol": "circle"
         },
         "mode": "markers",
         "name": "",
         "scene": "scene",
         "showlegend": false,
         "type": "scatter3d",
         "x": [
          130
         ],
         "y": [
          62
         ],
         "z": [
          16
         ]
        },
        {
         "hovertemplate": "x=%{x}<br>y=%{y}<br>z=%{z}<extra></extra>",
         "legendgroup": "",
         "marker": {
          "color": "rgb(57, 78, 130)",
          "symbol": "circle"
         },
         "mode": "markers",
         "name": "",
         "scene": "scene",
         "showlegend": false,
         "type": "scatter3d",
         "x": [
          130
         ],
         "y": [
          78
         ],
         "z": [
          57
         ]
        },
        {
         "hovertemplate": "x=%{x}<br>y=%{y}<br>z=%{z}<extra></extra>",
         "legendgroup": "",
         "marker": {
          "color": "rgb(16, 64, 133)",
          "symbol": "circle"
         },
         "mode": "markers",
         "name": "",
         "scene": "scene",
         "showlegend": false,
         "type": "scatter3d",
         "x": [
          133
         ],
         "y": [
          64
         ],
         "z": [
          16
         ]
        },
        {
         "hovertemplate": "x=%{x}<br>y=%{y}<br>z=%{z}<extra></extra>",
         "legendgroup": "",
         "marker": {
          "color": "rgb(58, 80, 133)",
          "symbol": "circle"
         },
         "mode": "markers",
         "name": "",
         "scene": "scene",
         "showlegend": false,
         "type": "scatter3d",
         "x": [
          133
         ],
         "y": [
          80
         ],
         "z": [
          58
         ]
        },
        {
         "hovertemplate": "x=%{x}<br>y=%{y}<br>z=%{z}<extra></extra>",
         "legendgroup": "",
         "marker": {
          "color": "rgb(3, 54, 134)",
          "symbol": "circle"
         },
         "mode": "markers",
         "name": "",
         "scene": "scene",
         "showlegend": false,
         "type": "scatter3d",
         "x": [
          134
         ],
         "y": [
          54
         ],
         "z": [
          3
         ]
        },
        {
         "hovertemplate": "x=%{x}<br>y=%{y}<br>z=%{z}<extra></extra>",
         "legendgroup": "",
         "marker": {
          "color": "rgb(10, 60, 134)",
          "symbol": "circle"
         },
         "mode": "markers",
         "name": "",
         "scene": "scene",
         "showlegend": false,
         "type": "scatter3d",
         "x": [
          134
         ],
         "y": [
          60
         ],
         "z": [
          10
         ]
        },
        {
         "hovertemplate": "x=%{x}<br>y=%{y}<br>z=%{z}<extra></extra>",
         "legendgroup": "",
         "marker": {
          "color": "rgb(18, 67, 135)",
          "symbol": "circle"
         },
         "mode": "markers",
         "name": "",
         "scene": "scene",
         "showlegend": false,
         "type": "scatter3d",
         "x": [
          135
         ],
         "y": [
          67
         ],
         "z": [
          18
         ]
        },
        {
         "hovertemplate": "x=%{x}<br>y=%{y}<br>z=%{z}<extra></extra>",
         "legendgroup": "",
         "marker": {
          "color": "rgb(25, 72, 135)",
          "symbol": "circle"
         },
         "mode": "markers",
         "name": "",
         "scene": "scene",
         "showlegend": false,
         "type": "scatter3d",
         "x": [
          135
         ],
         "y": [
          72
         ],
         "z": [
          25
         ]
        },
        {
         "hovertemplate": "x=%{x}<br>y=%{y}<br>z=%{z}<extra></extra>",
         "legendgroup": "",
         "marker": {
          "color": "rgb(58, 83, 137)",
          "symbol": "circle"
         },
         "mode": "markers",
         "name": "",
         "scene": "scene",
         "showlegend": false,
         "type": "scatter3d",
         "x": [
          137
         ],
         "y": [
          83
         ],
         "z": [
          58
         ]
        },
        {
         "hovertemplate": "x=%{x}<br>y=%{y}<br>z=%{z}<extra></extra>",
         "legendgroup": "",
         "marker": {
          "color": "rgb(11, 63, 138)",
          "symbol": "circle"
         },
         "mode": "markers",
         "name": "",
         "scene": "scene",
         "showlegend": false,
         "type": "scatter3d",
         "x": [
          138
         ],
         "y": [
          63
         ],
         "z": [
          11
         ]
        },
        {
         "hovertemplate": "x=%{x}<br>y=%{y}<br>z=%{z}<extra></extra>",
         "legendgroup": "",
         "marker": {
          "color": "rgb(19, 71, 138)",
          "symbol": "circle"
         },
         "mode": "markers",
         "name": "",
         "scene": "scene",
         "showlegend": false,
         "type": "scatter3d",
         "x": [
          138
         ],
         "y": [
          71
         ],
         "z": [
          19
         ]
        },
        {
         "hovertemplate": "x=%{x}<br>y=%{y}<br>z=%{z}<extra></extra>",
         "legendgroup": "",
         "marker": {
          "color": "rgb(2, 56, 140)",
          "symbol": "circle"
         },
         "mode": "markers",
         "name": "",
         "scene": "scene",
         "showlegend": false,
         "type": "scatter3d",
         "x": [
          140
         ],
         "y": [
          56
         ],
         "z": [
          2
         ]
        },
        {
         "hovertemplate": "x=%{x}<br>y=%{y}<br>z=%{z}<extra></extra>",
         "legendgroup": "",
         "marker": {
          "color": "rgb(27, 77, 140)",
          "symbol": "circle"
         },
         "mode": "markers",
         "name": "",
         "scene": "scene",
         "showlegend": false,
         "type": "scatter3d",
         "x": [
          140
         ],
         "y": [
          77
         ],
         "z": [
          27
         ]
        },
        {
         "hovertemplate": "x=%{x}<br>y=%{y}<br>z=%{z}<extra></extra>",
         "legendgroup": "",
         "marker": {
          "color": "rgb(13, 67, 141)",
          "symbol": "circle"
         },
         "mode": "markers",
         "name": "",
         "scene": "scene",
         "showlegend": false,
         "type": "scatter3d",
         "x": [
          141
         ],
         "y": [
          67
         ],
         "z": [
          13
         ]
        },
        {
         "hovertemplate": "x=%{x}<br>y=%{y}<br>z=%{z}<extra></extra>",
         "legendgroup": "",
         "marker": {
          "color": "rgb(50, 85, 141)",
          "symbol": "circle"
         },
         "mode": "markers",
         "name": "",
         "scene": "scene",
         "showlegend": false,
         "type": "scatter3d",
         "x": [
          141
         ],
         "y": [
          85
         ],
         "z": [
          50
         ]
        },
        {
         "hovertemplate": "x=%{x}<br>y=%{y}<br>z=%{z}<extra></extra>",
         "legendgroup": "",
         "marker": {
          "color": "rgb(20, 74, 142)",
          "symbol": "circle"
         },
         "mode": "markers",
         "name": "",
         "scene": "scene",
         "showlegend": false,
         "type": "scatter3d",
         "x": [
          142
         ],
         "y": [
          74
         ],
         "z": [
          20
         ]
        },
        {
         "hovertemplate": "x=%{x}<br>y=%{y}<br>z=%{z}<extra></extra>",
         "legendgroup": "",
         "marker": {
          "color": "rgb(58, 86, 142)",
          "symbol": "circle"
         },
         "mode": "markers",
         "name": "",
         "scene": "scene",
         "showlegend": false,
         "type": "scatter3d",
         "x": [
          142
         ],
         "y": [
          86
         ],
         "z": [
          58
         ]
        },
        {
         "hovertemplate": "x=%{x}<br>y=%{y}<br>z=%{z}<extra></extra>",
         "legendgroup": "",
         "marker": {
          "color": "rgb(14, 71, 145)",
          "symbol": "circle"
         },
         "mode": "markers",
         "name": "",
         "scene": "scene",
         "showlegend": false,
         "type": "scatter3d",
         "x": [
          145
         ],
         "y": [
          71
         ],
         "z": [
          14
         ]
        },
        {
         "hovertemplate": "x=%{x}<br>y=%{y}<br>z=%{z}<extra></extra>",
         "legendgroup": "",
         "marker": {
          "color": "rgb(22, 78, 145)",
          "symbol": "circle"
         },
         "mode": "markers",
         "name": "",
         "scene": "scene",
         "showlegend": false,
         "type": "scatter3d",
         "x": [
          145
         ],
         "y": [
          78
         ],
         "z": [
          22
         ]
        },
        {
         "hovertemplate": "x=%{x}<br>y=%{y}<br>z=%{z}<extra></extra>",
         "legendgroup": "",
         "marker": {
          "color": "rgb(4, 62, 146)",
          "symbol": "circle"
         },
         "mode": "markers",
         "name": "",
         "scene": "scene",
         "showlegend": false,
         "type": "scatter3d",
         "x": [
          146
         ],
         "y": [
          62
         ],
         "z": [
          4
         ]
        },
        {
         "hovertemplate": "x=%{x}<br>y=%{y}<br>z=%{z}<extra></extra>",
         "legendgroup": "",
         "marker": {
          "color": "rgb(29, 83, 146)",
          "symbol": "circle"
         },
         "mode": "markers",
         "name": "",
         "scene": "scene",
         "showlegend": false,
         "type": "scatter3d",
         "x": [
          146
         ],
         "y": [
          83
         ],
         "z": [
          29
         ]
        },
        {
         "hovertemplate": "x=%{x}<br>y=%{y}<br>z=%{z}<extra></extra>",
         "legendgroup": "",
         "marker": {
          "color": "rgb(62, 95, 147)",
          "symbol": "circle"
         },
         "mode": "markers",
         "name": "",
         "scene": "scene",
         "showlegend": false,
         "type": "scatter3d",
         "x": [
          147
         ],
         "y": [
          95
         ],
         "z": [
          62
         ]
        },
        {
         "hovertemplate": "x=%{x}<br>y=%{y}<br>z=%{z}<extra></extra>",
         "legendgroup": "",
         "marker": {
          "color": "rgb(54, 90, 149)",
          "symbol": "circle"
         },
         "mode": "markers",
         "name": "",
         "scene": "scene",
         "showlegend": false,
         "type": "scatter3d",
         "x": [
          149
         ],
         "y": [
          90
         ],
         "z": [
          54
         ]
        },
        {
         "hovertemplate": "x=%{x}<br>y=%{y}<br>z=%{z}<extra></extra>",
         "legendgroup": "",
         "marker": {
          "color": "rgb(15, 75, 150)",
          "symbol": "circle"
         },
         "mode": "markers",
         "name": "",
         "scene": "scene",
         "showlegend": false,
         "type": "scatter3d",
         "x": [
          150
         ],
         "y": [
          75
         ],
         "z": [
          15
         ]
        },
        {
         "hovertemplate": "x=%{x}<br>y=%{y}<br>z=%{z}<extra></extra>",
         "legendgroup": "",
         "marker": {
          "color": "rgb(22, 81, 150)",
          "symbol": "circle"
         },
         "mode": "markers",
         "name": "",
         "scene": "scene",
         "showlegend": false,
         "type": "scatter3d",
         "x": [
          150
         ],
         "y": [
          81
         ],
         "z": [
          22
         ]
        },
        {
         "hovertemplate": "x=%{x}<br>y=%{y}<br>z=%{z}<extra></extra>",
         "legendgroup": "",
         "marker": {
          "color": "rgb(25, 86, 152)",
          "symbol": "circle"
         },
         "mode": "markers",
         "name": "",
         "scene": "scene",
         "showlegend": false,
         "type": "scatter3d",
         "x": [
          152
         ],
         "y": [
          86
         ],
         "z": [
          25
         ]
        },
        {
         "hovertemplate": "x=%{x}<br>y=%{y}<br>z=%{z}<extra></extra>",
         "legendgroup": "",
         "marker": {
          "color": "rgb(34, 90, 152)",
          "symbol": "circle"
         },
         "mode": "markers",
         "name": "",
         "scene": "scene",
         "showlegend": false,
         "type": "scatter3d",
         "x": [
          152
         ],
         "y": [
          90
         ],
         "z": [
          34
         ]
        },
        {
         "hovertemplate": "x=%{x}<br>y=%{y}<br>z=%{z}<extra></extra>",
         "legendgroup": "",
         "marker": {
          "color": "rgb(16, 81, 155)",
          "symbol": "circle"
         },
         "mode": "markers",
         "name": "",
         "scene": "scene",
         "showlegend": false,
         "type": "scatter3d",
         "x": [
          155
         ],
         "y": [
          81
         ],
         "z": [
          16
         ]
        },
        {
         "hovertemplate": "x=%{x}<br>y=%{y}<br>z=%{z}<extra></extra>",
         "legendgroup": "",
         "marker": {
          "color": "rgb(28, 91, 156)",
          "symbol": "circle"
         },
         "mode": "markers",
         "name": "",
         "scene": "scene",
         "showlegend": false,
         "type": "scatter3d",
         "x": [
          156
         ],
         "y": [
          91
         ],
         "z": [
          28
         ]
        },
        {
         "hovertemplate": "x=%{x}<br>y=%{y}<br>z=%{z}<extra></extra>",
         "legendgroup": "",
         "marker": {
          "color": "rgb(63, 103, 158)",
          "symbol": "circle"
         },
         "mode": "markers",
         "name": "",
         "scene": "scene",
         "showlegend": false,
         "type": "scatter3d",
         "x": [
          158
         ],
         "y": [
          103
         ],
         "z": [
          63
         ]
        },
        {
         "hovertemplate": "x=%{x}<br>y=%{y}<br>z=%{z}<extra></extra>",
         "legendgroup": "",
         "marker": {
          "color": "rgb(20, 86, 160)",
          "symbol": "circle"
         },
         "mode": "markers",
         "name": "",
         "scene": "scene",
         "showlegend": false,
         "type": "scatter3d",
         "x": [
          160
         ],
         "y": [
          86
         ],
         "z": [
          20
         ]
        },
        {
         "hovertemplate": "x=%{x}<br>y=%{y}<br>z=%{z}<extra></extra>",
         "legendgroup": "",
         "marker": {
          "color": "rgb(25, 96, 160)",
          "symbol": "circle"
         },
         "mode": "markers",
         "name": "",
         "scene": "scene",
         "showlegend": false,
         "type": "scatter3d",
         "x": [
          160
         ],
         "y": [
          96
         ],
         "z": [
          25
         ]
        },
        {
         "hovertemplate": "x=%{x}<br>y=%{y}<br>z=%{z}<extra></extra>",
         "legendgroup": "",
         "marker": {
          "color": "rgb(35, 96, 160)",
          "symbol": "circle"
         },
         "mode": "markers",
         "name": "",
         "scene": "scene",
         "showlegend": false,
         "type": "scatter3d",
         "x": [
          160
         ],
         "y": [
          96
         ],
         "z": [
          35
         ]
        },
        {
         "hovertemplate": "x=%{x}<br>y=%{y}<br>z=%{z}<extra></extra>",
         "legendgroup": "",
         "marker": {
          "color": "rgb(25, 92, 165)",
          "symbol": "circle"
         },
         "mode": "markers",
         "name": "",
         "scene": "scene",
         "showlegend": false,
         "type": "scatter3d",
         "x": [
          165
         ],
         "y": [
          92
         ],
         "z": [
          25
         ]
        },
        {
         "hovertemplate": "x=%{x}<br>y=%{y}<br>z=%{z}<extra></extra>",
         "legendgroup": "",
         "marker": {
          "color": "rgb(28, 102, 165)",
          "symbol": "circle"
         },
         "mode": "markers",
         "name": "",
         "scene": "scene",
         "showlegend": false,
         "type": "scatter3d",
         "x": [
          165
         ],
         "y": [
          102
         ],
         "z": [
          28
         ]
        },
        {
         "hovertemplate": "x=%{x}<br>y=%{y}<br>z=%{z}<extra></extra>",
         "legendgroup": "",
         "marker": {
          "color": "rgb(44, 103, 165)",
          "symbol": "circle"
         },
         "mode": "markers",
         "name": "",
         "scene": "scene",
         "showlegend": false,
         "type": "scatter3d",
         "x": [
          165
         ],
         "y": [
          103
         ],
         "z": [
          44
         ]
        },
        {
         "hovertemplate": "x=%{x}<br>y=%{y}<br>z=%{z}<extra></extra>",
         "legendgroup": "",
         "marker": {
          "color": "rgb(68, 113, 167)",
          "symbol": "circle"
         },
         "mode": "markers",
         "name": "",
         "scene": "scene",
         "showlegend": false,
         "type": "scatter3d",
         "x": [
          167
         ],
         "y": [
          113
         ],
         "z": [
          68
         ]
        },
        {
         "hovertemplate": "x=%{x}<br>y=%{y}<br>z=%{z}<extra></extra>",
         "legendgroup": "",
         "marker": {
          "color": "rgb(36, 99, 168)",
          "symbol": "circle"
         },
         "mode": "markers",
         "name": "",
         "scene": "scene",
         "showlegend": false,
         "type": "scatter3d",
         "x": [
          168
         ],
         "y": [
          99
         ],
         "z": [
          36
         ]
        },
        {
         "hovertemplate": "x=%{x}<br>y=%{y}<br>z=%{z}<extra></extra>",
         "legendgroup": "",
         "marker": {
          "color": "rgb(31, 110, 171)",
          "symbol": "circle"
         },
         "mode": "markers",
         "name": "",
         "scene": "scene",
         "showlegend": false,
         "type": "scatter3d",
         "x": [
          171
         ],
         "y": [
          110
         ],
         "z": [
          31
         ]
        },
        {
         "hovertemplate": "x=%{x}<br>y=%{y}<br>z=%{z}<extra></extra>",
         "legendgroup": "",
         "marker": {
          "color": "rgb(43, 106, 175)",
          "symbol": "circle"
         },
         "mode": "markers",
         "name": "",
         "scene": "scene",
         "showlegend": false,
         "type": "scatter3d",
         "x": [
          175
         ],
         "y": [
          106
         ],
         "z": [
          43
         ]
        },
        {
         "hovertemplate": "x=%{x}<br>y=%{y}<br>z=%{z}<extra></extra>",
         "legendgroup": "",
         "marker": {
          "color": "rgb(23, 93, 176)",
          "symbol": "circle"
         },
         "mode": "markers",
         "name": "",
         "scene": "scene",
         "showlegend": false,
         "type": "scatter3d",
         "x": [
          176
         ],
         "y": [
          93
         ],
         "z": [
          23
         ]
        },
        {
         "hovertemplate": "x=%{x}<br>y=%{y}<br>z=%{z}<extra></extra>",
         "legendgroup": "",
         "marker": {
          "color": "rgb(32, 102, 176)",
          "symbol": "circle"
         },
         "mode": "markers",
         "name": "",
         "scene": "scene",
         "showlegend": false,
         "type": "scatter3d",
         "x": [
          176
         ],
         "y": [
          102
         ],
         "z": [
          32
         ]
        },
        {
         "hovertemplate": "x=%{x}<br>y=%{y}<br>z=%{z}<extra></extra>",
         "legendgroup": "",
         "marker": {
          "color": "rgb(51, 113, 177)",
          "symbol": "circle"
         },
         "mode": "markers",
         "name": "",
         "scene": "scene",
         "showlegend": false,
         "type": "scatter3d",
         "x": [
          177
         ],
         "y": [
          113
         ],
         "z": [
          51
         ]
        },
        {
         "hovertemplate": "x=%{x}<br>y=%{y}<br>z=%{z}<extra></extra>",
         "legendgroup": "",
         "marker": {
          "color": "rgb(31, 115, 177)",
          "symbol": "circle"
         },
         "mode": "markers",
         "name": "",
         "scene": "scene",
         "showlegend": false,
         "type": "scatter3d",
         "x": [
          177
         ],
         "y": [
          115
         ],
         "z": [
          31
         ]
        },
        {
         "hovertemplate": "x=%{x}<br>y=%{y}<br>z=%{z}<extra></extra>",
         "legendgroup": "",
         "marker": {
          "color": "rgb(73, 124, 177)",
          "symbol": "circle"
         },
         "mode": "markers",
         "name": "",
         "scene": "scene",
         "showlegend": false,
         "type": "scatter3d",
         "x": [
          177
         ],
         "y": [
          124
         ],
         "z": [
          73
         ]
        },
        {
         "hovertemplate": "x=%{x}<br>y=%{y}<br>z=%{z}<extra></extra>",
         "legendgroup": "",
         "marker": {
          "color": "rgb(31, 121, 184)",
          "symbol": "circle"
         },
         "mode": "markers",
         "name": "",
         "scene": "scene",
         "showlegend": false,
         "type": "scatter3d",
         "x": [
          184
         ],
         "y": [
          121
         ],
         "z": [
          31
         ]
        },
        {
         "hovertemplate": "x=%{x}<br>y=%{y}<br>z=%{z}<extra></extra>",
         "legendgroup": "",
         "marker": {
          "color": "rgb(43, 113, 186)",
          "symbol": "circle"
         },
         "mode": "markers",
         "name": "",
         "scene": "scene",
         "showlegend": false,
         "type": "scatter3d",
         "x": [
          186
         ],
         "y": [
          113
         ],
         "z": [
          43
         ]
        },
        {
         "hovertemplate": "x=%{x}<br>y=%{y}<br>z=%{z}<extra></extra>",
         "legendgroup": "",
         "marker": {
          "color": "rgb(77, 134, 186)",
          "symbol": "circle"
         },
         "mode": "markers",
         "name": "",
         "scene": "scene",
         "showlegend": false,
         "type": "scatter3d",
         "x": [
          186
         ],
         "y": [
          134
         ],
         "z": [
          77
         ]
        },
        {
         "hovertemplate": "x=%{x}<br>y=%{y}<br>z=%{z}<extra></extra>",
         "legendgroup": "",
         "marker": {
          "color": "rgb(58, 118, 187)",
          "symbol": "circle"
         },
         "mode": "markers",
         "name": "",
         "scene": "scene",
         "showlegend": false,
         "type": "scatter3d",
         "x": [
          187
         ],
         "y": [
          118
         ],
         "z": [
          58
         ]
        },
        {
         "hovertemplate": "x=%{x}<br>y=%{y}<br>z=%{z}<extra></extra>",
         "legendgroup": "",
         "marker": {
          "color": "rgb(30, 104, 191)",
          "symbol": "circle"
         },
         "mode": "markers",
         "name": "",
         "scene": "scene",
         "showlegend": false,
         "type": "scatter3d",
         "x": [
          191
         ],
         "y": [
          104
         ],
         "z": [
          30
         ]
        },
        {
         "hovertemplate": "x=%{x}<br>y=%{y}<br>z=%{z}<extra></extra>",
         "legendgroup": "",
         "marker": {
          "color": "rgb(64, 126, 196)",
          "symbol": "circle"
         },
         "mode": "markers",
         "name": "",
         "scene": "scene",
         "showlegend": false,
         "type": "scatter3d",
         "x": [
          196
         ],
         "y": [
          126
         ],
         "z": [
          64
         ]
        },
        {
         "hovertemplate": "x=%{x}<br>y=%{y}<br>z=%{z}<extra></extra>",
         "legendgroup": "",
         "marker": {
          "color": "rgb(93, 141, 199)",
          "symbol": "circle"
         },
         "mode": "markers",
         "name": "",
         "scene": "scene",
         "showlegend": false,
         "type": "scatter3d",
         "x": [
          199
         ],
         "y": [
          141
         ],
         "z": [
          93
         ]
        },
        {
         "hovertemplate": "x=%{x}<br>y=%{y}<br>z=%{z}<extra></extra>",
         "legendgroup": "",
         "marker": {
          "color": "rgb(44, 119, 200)",
          "symbol": "circle"
         },
         "mode": "markers",
         "name": "",
         "scene": "scene",
         "showlegend": false,
         "type": "scatter3d",
         "x": [
          200
         ],
         "y": [
          119
         ],
         "z": [
          44
         ]
        },
        {
         "hovertemplate": "x=%{x}<br>y=%{y}<br>z=%{z}<extra></extra>",
         "legendgroup": "",
         "marker": {
          "color": "rgb(72, 134, 201)",
          "symbol": "circle"
         },
         "mode": "markers",
         "name": "",
         "scene": "scene",
         "showlegend": false,
         "type": "scatter3d",
         "x": [
          201
         ],
         "y": [
          134
         ],
         "z": [
          72
         ]
        },
        {
         "hovertemplate": "x=%{x}<br>y=%{y}<br>z=%{z}<extra></extra>",
         "legendgroup": "",
         "marker": {
          "color": "rgb(76, 140, 211)",
          "symbol": "circle"
         },
         "mode": "markers",
         "name": "",
         "scene": "scene",
         "showlegend": false,
         "type": "scatter3d",
         "x": [
          211
         ],
         "y": [
          140
         ],
         "z": [
          76
         ]
        },
        {
         "hovertemplate": "x=%{x}<br>y=%{y}<br>z=%{z}<extra></extra>",
         "legendgroup": "",
         "marker": {
          "color": "rgb(53, 130, 214)",
          "symbol": "circle"
         },
         "mode": "markers",
         "name": "",
         "scene": "scene",
         "showlegend": false,
         "type": "scatter3d",
         "x": [
          214
         ],
         "y": [
          130
         ],
         "z": [
          53
         ]
        },
        {
         "hovertemplate": "x=%{x}<br>y=%{y}<br>z=%{z}<extra></extra>",
         "legendgroup": "",
         "marker": {
          "color": "rgb(86, 148, 219)",
          "symbol": "circle"
         },
         "mode": "markers",
         "name": "",
         "scene": "scene",
         "showlegend": false,
         "type": "scatter3d",
         "x": [
          219
         ],
         "y": [
          148
         ],
         "z": [
          86
         ]
        },
        {
         "hovertemplate": "x=%{x}<br>y=%{y}<br>z=%{z}<extra></extra>",
         "legendgroup": "",
         "marker": {
          "color": "rgb(102, 157, 222)",
          "symbol": "circle"
         },
         "mode": "markers",
         "name": "",
         "scene": "scene",
         "showlegend": false,
         "type": "scatter3d",
         "x": [
          222
         ],
         "y": [
          157
         ],
         "z": [
          102
         ]
        },
        {
         "hovertemplate": "x=%{x}<br>y=%{y}<br>z=%{z}<extra></extra>",
         "legendgroup": "",
         "marker": {
          "color": "rgb(70, 146, 229)",
          "symbol": "circle"
         },
         "mode": "markers",
         "name": "",
         "scene": "scene",
         "showlegend": false,
         "type": "scatter3d",
         "x": [
          229
         ],
         "y": [
          146
         ],
         "z": [
          70
         ]
        },
        {
         "hovertemplate": "x=%{x}<br>y=%{y}<br>z=%{z}<extra></extra>",
         "legendgroup": "",
         "marker": {
          "color": "rgb(118, 170, 229)",
          "symbol": "circle"
         },
         "mode": "markers",
         "name": "",
         "scene": "scene",
         "showlegend": false,
         "type": "scatter3d",
         "x": [
          229
         ],
         "y": [
          170
         ],
         "z": [
          118
         ]
        },
        {
         "hovertemplate": "x=%{x}<br>y=%{y}<br>z=%{z}<extra></extra>",
         "legendgroup": "",
         "marker": {
          "color": "rgb(83, 157, 238)",
          "symbol": "circle"
         },
         "mode": "markers",
         "name": "",
         "scene": "scene",
         "showlegend": false,
         "type": "scatter3d",
         "x": [
          238
         ],
         "y": [
          157
         ],
         "z": [
          83
         ]
        },
        {
         "hovertemplate": "x=%{x}<br>y=%{y}<br>z=%{z}<extra></extra>",
         "legendgroup": "",
         "marker": {
          "color": "rgb(130, 191, 246)",
          "symbol": "circle"
         },
         "mode": "markers",
         "name": "",
         "scene": "scene",
         "showlegend": false,
         "type": "scatter3d",
         "x": [
          246
         ],
         "y": [
          191
         ],
         "z": [
          130
         ]
        },
        {
         "hovertemplate": "x=%{x}<br>y=%{y}<br>z=%{z}<extra></extra>",
         "legendgroup": "",
         "marker": {
          "color": "rgb(94, 171, 253)",
          "symbol": "circle"
         },
         "mode": "markers",
         "name": "",
         "scene": "scene",
         "showlegend": false,
         "type": "scatter3d",
         "x": [
          253
         ],
         "y": [
          171
         ],
         "z": [
          94
         ]
        }
       ],
       "layout": {
        "legend": {
         "tracegroupgap": 0
        },
        "margin": {
         "t": 60
        },
        "scene": {
         "domain": {
          "x": [
           0,
           1
          ],
          "y": [
           0,
           1
          ]
         },
         "xaxis": {
          "title": {
           "text": "x"
          }
         },
         "yaxis": {
          "title": {
           "text": "y"
          }
         },
         "zaxis": {
          "title": {
           "text": "z"
          }
         }
        },
        "template": {
         "data": {
          "bar": [
           {
            "error_x": {
             "color": "#2a3f5f"
            },
            "error_y": {
             "color": "#2a3f5f"
            },
            "marker": {
             "line": {
              "color": "#E5ECF6",
              "width": 0.5
             },
             "pattern": {
              "fillmode": "overlay",
              "size": 10,
              "solidity": 0.2
             }
            },
            "type": "bar"
           }
          ],
          "barpolar": [
           {
            "marker": {
             "line": {
              "color": "#E5ECF6",
              "width": 0.5
             },
             "pattern": {
              "fillmode": "overlay",
              "size": 10,
              "solidity": 0.2
             }
            },
            "type": "barpolar"
           }
          ],
          "carpet": [
           {
            "aaxis": {
             "endlinecolor": "#2a3f5f",
             "gridcolor": "white",
             "linecolor": "white",
             "minorgridcolor": "white",
             "startlinecolor": "#2a3f5f"
            },
            "baxis": {
             "endlinecolor": "#2a3f5f",
             "gridcolor": "white",
             "linecolor": "white",
             "minorgridcolor": "white",
             "startlinecolor": "#2a3f5f"
            },
            "type": "carpet"
           }
          ],
          "choropleth": [
           {
            "colorbar": {
             "outlinewidth": 0,
             "ticks": ""
            },
            "type": "choropleth"
           }
          ],
          "contour": [
           {
            "colorbar": {
             "outlinewidth": 0,
             "ticks": ""
            },
            "colorscale": [
             [
              0,
              "#0d0887"
             ],
             [
              0.1111111111111111,
              "#46039f"
             ],
             [
              0.2222222222222222,
              "#7201a8"
             ],
             [
              0.3333333333333333,
              "#9c179e"
             ],
             [
              0.4444444444444444,
              "#bd3786"
             ],
             [
              0.5555555555555556,
              "#d8576b"
             ],
             [
              0.6666666666666666,
              "#ed7953"
             ],
             [
              0.7777777777777778,
              "#fb9f3a"
             ],
             [
              0.8888888888888888,
              "#fdca26"
             ],
             [
              1,
              "#f0f921"
             ]
            ],
            "type": "contour"
           }
          ],
          "contourcarpet": [
           {
            "colorbar": {
             "outlinewidth": 0,
             "ticks": ""
            },
            "type": "contourcarpet"
           }
          ],
          "heatmap": [
           {
            "colorbar": {
             "outlinewidth": 0,
             "ticks": ""
            },
            "colorscale": [
             [
              0,
              "#0d0887"
             ],
             [
              0.1111111111111111,
              "#46039f"
             ],
             [
              0.2222222222222222,
              "#7201a8"
             ],
             [
              0.3333333333333333,
              "#9c179e"
             ],
             [
              0.4444444444444444,
              "#bd3786"
             ],
             [
              0.5555555555555556,
              "#d8576b"
             ],
             [
              0.6666666666666666,
              "#ed7953"
             ],
             [
              0.7777777777777778,
              "#fb9f3a"
             ],
             [
              0.8888888888888888,
              "#fdca26"
             ],
             [
              1,
              "#f0f921"
             ]
            ],
            "type": "heatmap"
           }
          ],
          "heatmapgl": [
           {
            "colorbar": {
             "outlinewidth": 0,
             "ticks": ""
            },
            "colorscale": [
             [
              0,
              "#0d0887"
             ],
             [
              0.1111111111111111,
              "#46039f"
             ],
             [
              0.2222222222222222,
              "#7201a8"
             ],
             [
              0.3333333333333333,
              "#9c179e"
             ],
             [
              0.4444444444444444,
              "#bd3786"
             ],
             [
              0.5555555555555556,
              "#d8576b"
             ],
             [
              0.6666666666666666,
              "#ed7953"
             ],
             [
              0.7777777777777778,
              "#fb9f3a"
             ],
             [
              0.8888888888888888,
              "#fdca26"
             ],
             [
              1,
              "#f0f921"
             ]
            ],
            "type": "heatmapgl"
           }
          ],
          "histogram": [
           {
            "marker": {
             "pattern": {
              "fillmode": "overlay",
              "size": 10,
              "solidity": 0.2
             }
            },
            "type": "histogram"
           }
          ],
          "histogram2d": [
           {
            "colorbar": {
             "outlinewidth": 0,
             "ticks": ""
            },
            "colorscale": [
             [
              0,
              "#0d0887"
             ],
             [
              0.1111111111111111,
              "#46039f"
             ],
             [
              0.2222222222222222,
              "#7201a8"
             ],
             [
              0.3333333333333333,
              "#9c179e"
             ],
             [
              0.4444444444444444,
              "#bd3786"
             ],
             [
              0.5555555555555556,
              "#d8576b"
             ],
             [
              0.6666666666666666,
              "#ed7953"
             ],
             [
              0.7777777777777778,
              "#fb9f3a"
             ],
             [
              0.8888888888888888,
              "#fdca26"
             ],
             [
              1,
              "#f0f921"
             ]
            ],
            "type": "histogram2d"
           }
          ],
          "histogram2dcontour": [
           {
            "colorbar": {
             "outlinewidth": 0,
             "ticks": ""
            },
            "colorscale": [
             [
              0,
              "#0d0887"
             ],
             [
              0.1111111111111111,
              "#46039f"
             ],
             [
              0.2222222222222222,
              "#7201a8"
             ],
             [
              0.3333333333333333,
              "#9c179e"
             ],
             [
              0.4444444444444444,
              "#bd3786"
             ],
             [
              0.5555555555555556,
              "#d8576b"
             ],
             [
              0.6666666666666666,
              "#ed7953"
             ],
             [
              0.7777777777777778,
              "#fb9f3a"
             ],
             [
              0.8888888888888888,
              "#fdca26"
             ],
             [
              1,
              "#f0f921"
             ]
            ],
            "type": "histogram2dcontour"
           }
          ],
          "mesh3d": [
           {
            "colorbar": {
             "outlinewidth": 0,
             "ticks": ""
            },
            "type": "mesh3d"
           }
          ],
          "parcoords": [
           {
            "line": {
             "colorbar": {
              "outlinewidth": 0,
              "ticks": ""
             }
            },
            "type": "parcoords"
           }
          ],
          "pie": [
           {
            "automargin": true,
            "type": "pie"
           }
          ],
          "scatter": [
           {
            "fillpattern": {
             "fillmode": "overlay",
             "size": 10,
             "solidity": 0.2
            },
            "type": "scatter"
           }
          ],
          "scatter3d": [
           {
            "line": {
             "colorbar": {
              "outlinewidth": 0,
              "ticks": ""
             }
            },
            "marker": {
             "colorbar": {
              "outlinewidth": 0,
              "ticks": ""
             }
            },
            "type": "scatter3d"
           }
          ],
          "scattercarpet": [
           {
            "marker": {
             "colorbar": {
              "outlinewidth": 0,
              "ticks": ""
             }
            },
            "type": "scattercarpet"
           }
          ],
          "scattergeo": [
           {
            "marker": {
             "colorbar": {
              "outlinewidth": 0,
              "ticks": ""
             }
            },
            "type": "scattergeo"
           }
          ],
          "scattergl": [
           {
            "marker": {
             "colorbar": {
              "outlinewidth": 0,
              "ticks": ""
             }
            },
            "type": "scattergl"
           }
          ],
          "scattermapbox": [
           {
            "marker": {
             "colorbar": {
              "outlinewidth": 0,
              "ticks": ""
             }
            },
            "type": "scattermapbox"
           }
          ],
          "scatterpolar": [
           {
            "marker": {
             "colorbar": {
              "outlinewidth": 0,
              "ticks": ""
             }
            },
            "type": "scatterpolar"
           }
          ],
          "scatterpolargl": [
           {
            "marker": {
             "colorbar": {
              "outlinewidth": 0,
              "ticks": ""
             }
            },
            "type": "scatterpolargl"
           }
          ],
          "scatterternary": [
           {
            "marker": {
             "colorbar": {
              "outlinewidth": 0,
              "ticks": ""
             }
            },
            "type": "scatterternary"
           }
          ],
          "surface": [
           {
            "colorbar": {
             "outlinewidth": 0,
             "ticks": ""
            },
            "colorscale": [
             [
              0,
              "#0d0887"
             ],
             [
              0.1111111111111111,
              "#46039f"
             ],
             [
              0.2222222222222222,
              "#7201a8"
             ],
             [
              0.3333333333333333,
              "#9c179e"
             ],
             [
              0.4444444444444444,
              "#bd3786"
             ],
             [
              0.5555555555555556,
              "#d8576b"
             ],
             [
              0.6666666666666666,
              "#ed7953"
             ],
             [
              0.7777777777777778,
              "#fb9f3a"
             ],
             [
              0.8888888888888888,
              "#fdca26"
             ],
             [
              1,
              "#f0f921"
             ]
            ],
            "type": "surface"
           }
          ],
          "table": [
           {
            "cells": {
             "fill": {
              "color": "#EBF0F8"
             },
             "line": {
              "color": "white"
             }
            },
            "header": {
             "fill": {
              "color": "#C8D4E3"
             },
             "line": {
              "color": "white"
             }
            },
            "type": "table"
           }
          ]
         },
         "layout": {
          "annotationdefaults": {
           "arrowcolor": "#2a3f5f",
           "arrowhead": 0,
           "arrowwidth": 1
          },
          "autotypenumbers": "strict",
          "coloraxis": {
           "colorbar": {
            "outlinewidth": 0,
            "ticks": ""
           }
          },
          "colorscale": {
           "diverging": [
            [
             0,
             "#8e0152"
            ],
            [
             0.1,
             "#c51b7d"
            ],
            [
             0.2,
             "#de77ae"
            ],
            [
             0.3,
             "#f1b6da"
            ],
            [
             0.4,
             "#fde0ef"
            ],
            [
             0.5,
             "#f7f7f7"
            ],
            [
             0.6,
             "#e6f5d0"
            ],
            [
             0.7,
             "#b8e186"
            ],
            [
             0.8,
             "#7fbc41"
            ],
            [
             0.9,
             "#4d9221"
            ],
            [
             1,
             "#276419"
            ]
           ],
           "sequential": [
            [
             0,
             "#0d0887"
            ],
            [
             0.1111111111111111,
             "#46039f"
            ],
            [
             0.2222222222222222,
             "#7201a8"
            ],
            [
             0.3333333333333333,
             "#9c179e"
            ],
            [
             0.4444444444444444,
             "#bd3786"
            ],
            [
             0.5555555555555556,
             "#d8576b"
            ],
            [
             0.6666666666666666,
             "#ed7953"
            ],
            [
             0.7777777777777778,
             "#fb9f3a"
            ],
            [
             0.8888888888888888,
             "#fdca26"
            ],
            [
             1,
             "#f0f921"
            ]
           ],
           "sequentialminus": [
            [
             0,
             "#0d0887"
            ],
            [
             0.1111111111111111,
             "#46039f"
            ],
            [
             0.2222222222222222,
             "#7201a8"
            ],
            [
             0.3333333333333333,
             "#9c179e"
            ],
            [
             0.4444444444444444,
             "#bd3786"
            ],
            [
             0.5555555555555556,
             "#d8576b"
            ],
            [
             0.6666666666666666,
             "#ed7953"
            ],
            [
             0.7777777777777778,
             "#fb9f3a"
            ],
            [
             0.8888888888888888,
             "#fdca26"
            ],
            [
             1,
             "#f0f921"
            ]
           ]
          },
          "colorway": [
           "#636efa",
           "#EF553B",
           "#00cc96",
           "#ab63fa",
           "#FFA15A",
           "#19d3f3",
           "#FF6692",
           "#B6E880",
           "#FF97FF",
           "#FECB52"
          ],
          "font": {
           "color": "#2a3f5f"
          },
          "geo": {
           "bgcolor": "white",
           "lakecolor": "white",
           "landcolor": "#E5ECF6",
           "showlakes": true,
           "showland": true,
           "subunitcolor": "white"
          },
          "hoverlabel": {
           "align": "left"
          },
          "hovermode": "closest",
          "mapbox": {
           "style": "light"
          },
          "paper_bgcolor": "white",
          "plot_bgcolor": "#E5ECF6",
          "polar": {
           "angularaxis": {
            "gridcolor": "white",
            "linecolor": "white",
            "ticks": ""
           },
           "bgcolor": "#E5ECF6",
           "radialaxis": {
            "gridcolor": "white",
            "linecolor": "white",
            "ticks": ""
           }
          },
          "scene": {
           "xaxis": {
            "backgroundcolor": "#E5ECF6",
            "gridcolor": "white",
            "gridwidth": 2,
            "linecolor": "white",
            "showbackground": true,
            "ticks": "",
            "zerolinecolor": "white"
           },
           "yaxis": {
            "backgroundcolor": "#E5ECF6",
            "gridcolor": "white",
            "gridwidth": 2,
            "linecolor": "white",
            "showbackground": true,
            "ticks": "",
            "zerolinecolor": "white"
           },
           "zaxis": {
            "backgroundcolor": "#E5ECF6",
            "gridcolor": "white",
            "gridwidth": 2,
            "linecolor": "white",
            "showbackground": true,
            "ticks": "",
            "zerolinecolor": "white"
           }
          },
          "shapedefaults": {
           "line": {
            "color": "#2a3f5f"
           }
          },
          "ternary": {
           "aaxis": {
            "gridcolor": "white",
            "linecolor": "white",
            "ticks": ""
           },
           "baxis": {
            "gridcolor": "white",
            "linecolor": "white",
            "ticks": ""
           },
           "bgcolor": "#E5ECF6",
           "caxis": {
            "gridcolor": "white",
            "linecolor": "white",
            "ticks": ""
           }
          },
          "title": {
           "x": 0.05
          },
          "xaxis": {
           "automargin": true,
           "gridcolor": "white",
           "linecolor": "white",
           "ticks": "",
           "title": {
            "standoff": 15
           },
           "zerolinecolor": "white",
           "zerolinewidth": 2
          },
          "yaxis": {
           "automargin": true,
           "gridcolor": "white",
           "linecolor": "white",
           "ticks": "",
           "title": {
            "standoff": 15
           },
           "zerolinecolor": "white",
           "zerolinewidth": 2
          }
         }
        }
       }
      }
     },
     "metadata": {},
     "output_type": "display_data"
    }
   ],
   "source": [
    "\n",
    "\n",
    "fig = px.scatter_3d(x=colors[:, 0], y=colors[:, 1], z=colors[:, 2], color=colors_str, color_discrete_map=\"identity\")\n",
    "fig.show()\n"
   ]
  },
  {
   "cell_type": "code",
   "execution_count": 4,
   "metadata": {},
   "outputs": [
    {
     "name": "stdout",
     "output_type": "stream",
     "text": [
      "L*a*b*値: [53.58501345216902, 0.0011570453747333787, -0.0058762614675078595]\n"
     ]
    }
   ],
   "source": [
    "import numpy as np\n",
    "\n",
    "def bgr_to_lab(input_color):\n",
    "    b, g, r = input_color[0] / 255.0, input_color[1] / 255.0, input_color[2] / 255.0\n",
    "\n",
    "    r = r / 12.92 if r <= 0.04045 else ((r + 0.055) / 1.055) ** 2.4\n",
    "    g = g / 12.92 if g <= 0.04045 else ((g + 0.055) / 1.055) ** 2.4\n",
    "    b = b / 12.92 if b <= 0.04045 else ((b + 0.055) / 1.055) ** 2.4\n",
    "\n",
    "\n",
    "    x = (r * 0.4124) + (g * 0.3576) + (b * 0.1805)\n",
    "    y = (r * 0.2126) + (g * 0.7152) + (b * 0.0722)\n",
    "    z = (r * 0.0193) + (g * 0.1192) + (b * 0.9505)\n",
    "\n",
    "    x *= 100\n",
    "    y *= 100\n",
    "    z *= 100\n",
    "\n",
    "    X_n = 95.0489\n",
    "    Y_n = 100.0\n",
    "    Z_n = 108.8840\n",
    "\n",
    "    x = x / X_n\n",
    "    y = y / Y_n\n",
    "    z = z / Z_n\n",
    "\n",
    "    delta = 6 / 29\n",
    "    delta_3 = delta**3\n",
    "    delta__2 = delta**-2\n",
    "\n",
    "    def f(t):\n",
    "        return t ** (1/3) if t > delta_3 else delta__2 * t / 3 + 4/29\n",
    "\n",
    "    L = 116 * f(y) - 16\n",
    "    a = 500 * (f(x) - f(y))\n",
    "    b = 200 * (f(y) - f(z))\n",
    "\n",
    "    return [L, a, b]\n",
    "\n",
    "# RGB値の例\n",
    "rgb = [128, 128, 128]\n",
    "lab = bgr_to_lab(rgb)\n",
    "print(\"L*a*b*値:\", lab)\n",
    "\n"
   ]
  },
  {
   "cell_type": "code",
   "execution_count": 5,
   "metadata": {},
   "outputs": [
    {
     "data": {
      "application/vnd.plotly.v1+json": {
       "config": {
        "plotlyServerURL": "https://plot.ly"
       },
       "data": [
        {
         "hovertemplate": "x=%{x}<br>y=%{y}<br>z=%{z}<extra></extra>",
         "legendgroup": "",
         "marker": {
          "color": "rgb(3, 30, 22)",
          "symbol": "circle"
         },
         "mode": "markers",
         "name": "",
         "scene": "scene",
         "showlegend": false,
         "type": "scatter3d",
         "x": [
          9.039938908688526
         ],
         "y": [
          -12.47655938203153
         ],
         "z": [
          2.439599171494422
         ]
        },
        {
         "hovertemplate": "x=%{x}<br>y=%{y}<br>z=%{z}<extra></extra>",
         "legendgroup": "",
         "marker": {
          "color": "rgb(20, 50, 27)",
          "symbol": "circle"
         },
         "mode": "markers",
         "name": "",
         "scene": "scene",
         "showlegend": false,
         "type": "scatter3d",
         "x": [
          17.959523656946807
         ],
         "y": [
          -17.51968846078003
         ],
         "z": [
          11.304122744735196
         ]
        },
        {
         "hovertemplate": "x=%{x}<br>y=%{y}<br>z=%{z}<extra></extra>",
         "legendgroup": "",
         "marker": {
          "color": "rgb(3, 35, 37)",
          "symbol": "circle"
         },
         "mode": "markers",
         "name": "",
         "scene": "scene",
         "showlegend": false,
         "type": "scatter3d",
         "x": [
          11.654795568147666
         ],
         "y": [
          -10.654296980482869
         ],
         "z": [
          -4.739808305570209
         ]
        },
        {
         "hovertemplate": "x=%{x}<br>y=%{y}<br>z=%{z}<extra></extra>",
         "legendgroup": "",
         "marker": {
          "color": "rgb(32, 62, 39)",
          "symbol": "circle"
         },
         "mode": "markers",
         "name": "",
         "scene": "scene",
         "showlegend": false,
         "type": "scatter3d",
         "x": [
          23.334045931175822
         ],
         "y": [
          -17.275309852024634
         ],
         "z": [
          10.74246610941284
         ]
        },
        {
         "hovertemplate": "x=%{x}<br>y=%{y}<br>z=%{z}<extra></extra>",
         "legendgroup": "",
         "marker": {
          "color": "rgb(41, 70, 47)",
          "symbol": "circle"
         },
         "mode": "markers",
         "name": "",
         "scene": "scene",
         "showlegend": false,
         "type": "scatter3d",
         "x": [
          26.896461136405165
         ],
         "y": [
          -16.70919172898891
         ],
         "z": [
          10.521404144667667
         ]
        },
        {
         "hovertemplate": "x=%{x}<br>y=%{y}<br>z=%{z}<extra></extra>",
         "legendgroup": "",
         "marker": {
          "color": "rgb(7, 43, 50)",
          "symbol": "circle"
         },
         "mode": "markers",
         "name": "",
         "scene": "scene",
         "showlegend": false,
         "type": "scatter3d",
         "x": [
          15.504102607243375
         ],
         "y": [
          -9.623843669923637
         ],
         "z": [
          -8.188233905189545
         ]
        },
        {
         "hovertemplate": "x=%{x}<br>y=%{y}<br>z=%{z}<extra></extra>",
         "legendgroup": "",
         "marker": {
          "color": "rgb(20, 56, 55)",
          "symbol": "circle"
         },
         "mode": "markers",
         "name": "",
         "scene": "scene",
         "showlegend": false,
         "type": "scatter3d",
         "x": [
          21.029550248148276
         ],
         "y": [
          -13.081212707976492
         ],
         "z": [
          -3.2794727809556945
         ]
        },
        {
         "hovertemplate": "x=%{x}<br>y=%{y}<br>z=%{z}<extra></extra>",
         "legendgroup": "",
         "marker": {
          "color": "rgb(50, 78, 55)",
          "symbol": "circle"
         },
         "mode": "markers",
         "name": "",
         "scene": "scene",
         "showlegend": false,
         "type": "scatter3d",
         "x": [
          30.406581364641646
         ],
         "y": [
          -16.12539349177894
         ],
         "z": [
          10.349790115714164
         ]
        },
        {
         "hovertemplate": "x=%{x}<br>y=%{y}<br>z=%{z}<extra></extra>",
         "legendgroup": "",
         "marker": {
          "color": "rgb(2, 24, 61)",
          "symbol": "circle"
         },
         "mode": "markers",
         "name": "",
         "scene": "scene",
         "showlegend": false,
         "type": "scatter3d",
         "x": [
          9.017205082380194
         ],
         "y": [
          8.397482462473002
         ],
         "z": [
          -26.2474738913415
         ]
        },
        {
         "hovertemplate": "x=%{x}<br>y=%{y}<br>z=%{z}<extra></extra>",
         "legendgroup": "",
         "marker": {
          "color": "rgb(60, 87, 63)",
          "symbol": "circle"
         },
         "mode": "markers",
         "name": "",
         "scene": "scene",
         "showlegend": false,
         "type": "scatter3d",
         "x": [
          34.26438724166452
         ],
         "y": [
          -15.721487326330912
         ],
         "z": [
          10.776539336468193
         ]
        },
        {
         "hovertemplate": "x=%{x}<br>y=%{y}<br>z=%{z}<extra></extra>",
         "legendgroup": "",
         "marker": {
          "color": "rgb(3, 18, 64)",
          "symbol": "circle"
         },
         "mode": "markers",
         "name": "",
         "scene": "scene",
         "showlegend": false,
         "type": "scatter3d",
         "x": [
          7.42633287515973
         ],
         "y": [
          14.775674162368885
         ],
         "z": [
          -30.975532831889275
         ]
        },
        {
         "hovertemplate": "x=%{x}<br>y=%{y}<br>z=%{z}<extra></extra>",
         "legendgroup": "",
         "marker": {
          "color": "rgb(2, 23, 66)",
          "symbol": "circle"
         },
         "mode": "markers",
         "name": "",
         "scene": "scene",
         "showlegend": false,
         "type": "scatter3d",
         "x": [
          9.149107210972314
         ],
         "y": [
          11.624365966287394
         ],
         "z": [
          -29.579391171880353
         ]
        },
        {
         "hovertemplate": "x=%{x}<br>y=%{y}<br>z=%{z}<extra></extra>",
         "legendgroup": "",
         "marker": {
          "color": "rgb(3, 17, 67)",
          "symbol": "circle"
         },
         "mode": "markers",
         "name": "",
         "scene": "scene",
         "showlegend": false,
         "type": "scatter3d",
         "x": [
          7.456749389473096
         ],
         "y": [
          16.949125279994455
         ],
         "z": [
          -33.05428375874824
         ]
        },
        {
         "hovertemplate": "x=%{x}<br>y=%{y}<br>z=%{z}<extra></extra>",
         "legendgroup": "",
         "marker": {
          "color": "rgb(4, 18, 68)",
          "symbol": "circle"
         },
         "mode": "markers",
         "name": "",
         "scene": "scene",
         "showlegend": false,
         "type": "scatter3d",
         "x": [
          7.910885399201749
         ],
         "y": [
          16.808091314154826
         ],
         "z": [
          -33.013062808925795
         ]
        },
        {
         "hovertemplate": "x=%{x}<br>y=%{y}<br>z=%{z}<extra></extra>",
         "legendgroup": "",
         "marker": {
          "color": "rgb(13, 53, 68)",
          "symbol": "circle"
         },
         "mode": "markers",
         "name": "",
         "scene": "scene",
         "showlegend": false,
         "type": "scatter3d",
         "x": [
          20.23957931985977
         ],
         "y": [
          -7.8568665187633835
         ],
         "z": [
          -13.313291266105242
         ]
        },
        {
         "hovertemplate": "x=%{x}<br>y=%{y}<br>z=%{z}<extra></extra>",
         "legendgroup": "",
         "marker": {
          "color": "rgb(31, 68, 68)",
          "symbol": "circle"
         },
         "mode": "markers",
         "name": "",
         "scene": "scene",
         "showlegend": false,
         "type": "scatter3d",
         "x": [
          26.28243580617584
         ],
         "y": [
          -13.170247864604773
         ],
         "z": [
          -4.083753281477476
         ]
        },
        {
         "hovertemplate": "x=%{x}<br>y=%{y}<br>z=%{z}<extra></extra>",
         "legendgroup": "",
         "marker": {
          "color": "rgb(4, 19, 70)",
          "symbol": "circle"
         },
         "mode": "markers",
         "name": "",
         "scene": "scene",
         "showlegend": false,
         "type": "scatter3d",
         "x": [
          8.426918710610806
         ],
         "y": [
          16.937293729476846
         ],
         "z": [
          -33.57263671912328
         ]
        },
        {
         "hovertemplate": "x=%{x}<br>y=%{y}<br>z=%{z}<extra></extra>",
         "legendgroup": "",
         "marker": {
          "color": "rgb(7, 21, 70)",
          "symbol": "circle"
         },
         "mode": "markers",
         "name": "",
         "scene": "scene",
         "showlegend": false,
         "type": "scatter3d",
         "x": [
          9.18732028378573
         ],
         "y": [
          15.76093078827219
         ],
         "z": [
          -32.3193628644071
         ]
        },
        {
         "hovertemplate": "x=%{x}<br>y=%{y}<br>z=%{z}<extra></extra>",
         "legendgroup": "",
         "marker": {
          "color": "rgb(72, 96, 71)",
          "symbol": "circle"
         },
         "mode": "markers",
         "name": "",
         "scene": "scene",
         "showlegend": false,
         "type": "scatter3d",
         "x": [
          38.19616487986398
         ],
         "y": [
          -14.549781040031572
         ],
         "z": [
          11.426846873755158
         ]
        },
        {
         "hovertemplate": "x=%{x}<br>y=%{y}<br>z=%{z}<extra></extra>",
         "legendgroup": "",
         "marker": {
          "color": "rgb(4, 19, 72)",
          "symbol": "circle"
         },
         "mode": "markers",
         "name": "",
         "scene": "scene",
         "showlegend": false,
         "type": "scatter3d",
         "x": [
          8.648852019658552
         ],
         "y": [
          17.83646277374086
         ],
         "z": [
          -34.60871488011431
         ]
        },
        {
         "hovertemplate": "x=%{x}<br>y=%{y}<br>z=%{z}<extra></extra>",
         "legendgroup": "",
         "marker": {
          "color": "rgb(6, 21, 72)",
          "symbol": "circle"
         },
         "mode": "markers",
         "name": "",
         "scene": "scene",
         "showlegend": false,
         "type": "scatter3d",
         "x": [
          9.344056863847559
         ],
         "y": [
          16.53433984738953
         ],
         "z": [
          -33.46333571430634
         ]
        },
        {
         "hovertemplate": "x=%{x}<br>y=%{y}<br>z=%{z}<extra></extra>",
         "legendgroup": "",
         "marker": {
          "color": "rgb(3, 25, 72)",
          "symbol": "circle"
         },
         "mode": "markers",
         "name": "",
         "scene": "scene",
         "showlegend": false,
         "type": "scatter3d",
         "x": [
          10.427639397690754
         ],
         "y": [
          13.014597823207838
         ],
         "z": [
          -31.696689291048536
         ]
        },
        {
         "hovertemplate": "x=%{x}<br>y=%{y}<br>z=%{z}<extra></extra>",
         "legendgroup": "",
         "marker": {
          "color": "rgb(6, 21, 74)",
          "symbol": "circle"
         },
         "mode": "markers",
         "name": "",
         "scene": "scene",
         "showlegend": false,
         "type": "scatter3d",
         "x": [
          9.557182916469987
         ],
         "y": [
          17.427567997643585
         ],
         "z": [
          -34.50679338846865
         ]
        },
        {
         "hovertemplate": "x=%{x}<br>y=%{y}<br>z=%{z}<extra></extra>",
         "legendgroup": "",
         "marker": {
          "color": "rgb(12, 26, 75)",
          "symbol": "circle"
         },
         "mode": "markers",
         "name": "",
         "scene": "scene",
         "showlegend": false,
         "type": "scatter3d",
         "x": [
          11.448880499069464
         ],
         "y": [
          14.737606878488865
         ],
         "z": [
          -32.093755997726795
         ]
        },
        {
         "hovertemplate": "x=%{x}<br>y=%{y}<br>z=%{z}<extra></extra>",
         "legendgroup": "",
         "marker": {
          "color": "rgb(47, 81, 75)",
          "symbol": "circle"
         },
         "mode": "markers",
         "name": "",
         "scene": "scene",
         "showlegend": false,
         "type": "scatter3d",
         "x": [
          31.80052686931611
         ],
         "y": [
          -14.00399266662314
         ],
         "z": [
          -0.37534656309889947
         ]
        },
        {
         "hovertemplate": "x=%{x}<br>y=%{y}<br>z=%{z}<extra></extra>",
         "legendgroup": "",
         "marker": {
          "color": "rgb(6, 21, 76)",
          "symbol": "circle"
         },
         "mode": "markers",
         "name": "",
         "scene": "scene",
         "showlegend": false,
         "type": "scatter3d",
         "x": [
          9.773531227029444
         ],
         "y": [
          18.313005955226515
         ],
         "z": [
          -35.53901714006588
         ]
        },
        {
         "hovertemplate": "x=%{x}<br>y=%{y}<br>z=%{z}<extra></extra>",
         "legendgroup": "",
         "marker": {
          "color": "rgb(6, 23, 76)",
          "symbol": "circle"
         },
         "mode": "markers",
         "name": "",
         "scene": "scene",
         "showlegend": false,
         "type": "scatter3d",
         "x": [
          10.359021505283085
         ],
         "y": [
          16.782499271226907
         ],
         "z": [
          -34.57831645189249
         ]
        },
        {
         "hovertemplate": "x=%{x}<br>y=%{y}<br>z=%{z}<extra></extra>",
         "legendgroup": "",
         "marker": {
          "color": "rgb(8, 24, 76)",
          "symbol": "circle"
         },
         "mode": "markers",
         "name": "",
         "scene": "scene",
         "showlegend": false,
         "type": "scatter3d",
         "x": [
          10.75285463287124
         ],
         "y": [
          16.24180646281205
         ],
         "z": [
          -33.92956156900368
         ]
        },
        {
         "hovertemplate": "x=%{x}<br>y=%{y}<br>z=%{z}<extra></extra>",
         "legendgroup": "",
         "marker": {
          "color": "rgb(5, 22, 78)",
          "symbol": "circle"
         },
         "mode": "markers",
         "name": "",
         "scene": "scene",
         "showlegend": false,
         "type": "scatter3d",
         "x": [
          10.229805221159737
         ],
         "y": [
          18.327987217117954
         ],
         "z": [
          -36.17294525039517
         ]
        },
        {
         "hovertemplate": "x=%{x}<br>y=%{y}<br>z=%{z}<extra></extra>",
         "legendgroup": "",
         "marker": {
          "color": "rgb(7, 23, 78)",
          "symbol": "circle"
         },
         "mode": "markers",
         "name": "",
         "scene": "scene",
         "showlegend": false,
         "type": "scatter3d",
         "x": [
          10.616415399360374
         ],
         "y": [
          17.782562933382206
         ],
         "z": [
          -35.534707951321856
         ]
        },
        {
         "hovertemplate": "x=%{x}<br>y=%{y}<br>z=%{z}<extra></extra>",
         "legendgroup": "",
         "marker": {
          "color": "rgb(10, 25, 78)",
          "symbol": "circle"
         },
         "mode": "markers",
         "name": "",
         "scene": "scene",
         "showlegend": false,
         "type": "scatter3d",
         "x": [
          11.344195483373468
         ],
         "y": [
          16.584100210154844
         ],
         "z": [
          -34.33713874414065
         ]
        },
        {
         "hovertemplate": "x=%{x}<br>y=%{y}<br>z=%{z}<extra></extra>",
         "legendgroup": "",
         "marker": {
          "color": "rgb(7, 26, 79)",
          "symbol": "circle"
         },
         "mode": "markers",
         "name": "",
         "scene": "scene",
         "showlegend": false,
         "type": "scatter3d",
         "x": [
          11.610360415824275
         ],
         "y": [
          15.928512770030782
         ],
         "z": [
          -34.594147628729424
         ]
        },
        {
         "hovertemplate": "x=%{x}<br>y=%{y}<br>z=%{z}<extra></extra>",
         "legendgroup": "",
         "marker": {
          "color": "rgb(13, 28, 79)",
          "symbol": "circle"
         },
         "mode": "markers",
         "name": "",
         "scene": "scene",
         "showlegend": false,
         "type": "scatter3d",
         "x": [
          12.484105054385694
         ],
         "y": [
          15.08897074174867
         ],
         "z": [
          -33.15633609409259
         ]
        },
        {
         "hovertemplate": "x=%{x}<br>y=%{y}<br>z=%{z}<extra></extra>",
         "legendgroup": "",
         "marker": {
          "color": "rgb(6, 24, 80)",
          "symbol": "circle"
         },
         "mode": "markers",
         "name": "",
         "scene": "scene",
         "showlegend": false,
         "type": "scatter3d",
         "x": [
          11.072364944920434
         ],
         "y": [
          17.798331980455814
         ],
         "z": [
          -36.16314893836605
         ]
        },
        {
         "hovertemplate": "x=%{x}<br>y=%{y}<br>z=%{z}<extra></extra>",
         "legendgroup": "",
         "marker": {
          "color": "rgb(15, 30, 80)",
          "symbol": "circle"
         },
         "mode": "markers",
         "name": "",
         "scene": "scene",
         "showlegend": false,
         "type": "scatter3d",
         "x": [
          13.286641519923375
         ],
         "y": [
          14.270997300504822
         ],
         "z": [
          -32.52912021485812
         ]
        },
        {
         "hovertemplate": "x=%{x}<br>y=%{y}<br>z=%{z}<extra></extra>",
         "legendgroup": "",
         "marker": {
          "color": "rgb(5, 22, 81)",
          "symbol": "circle"
         },
         "mode": "markers",
         "name": "",
         "scene": "scene",
         "showlegend": false,
         "type": "scatter3d",
         "x": [
          10.558586301831827
         ],
         "y": [
          19.648196717405142
         ],
         "z": [
          -37.694356214359594
         ]
        },
        {
         "hovertemplate": "x=%{x}<br>y=%{y}<br>z=%{z}<extra></extra>",
         "legendgroup": "",
         "marker": {
          "color": "rgb(7, 25, 81)",
          "symbol": "circle"
         },
         "mode": "markers",
         "name": "",
         "scene": "scene",
         "showlegend": false,
         "type": "scatter3d",
         "x": [
          11.514754724989274
         ],
         "y": [
          17.584766134097972
         ],
         "z": [
          -36.12096178981204
         ]
        },
        {
         "hovertemplate": "x=%{x}<br>y=%{y}<br>z=%{z}<extra></extra>",
         "legendgroup": "",
         "marker": {
          "color": "rgb(10, 27, 81)",
          "symbol": "circle"
         },
         "mode": "markers",
         "name": "",
         "scene": "scene",
         "showlegend": false,
         "type": "scatter3d",
         "x": [
          12.237588959419778
         ],
         "y": [
          16.37706232842945
         ],
         "z": [
          -34.93261763693325
         ]
        },
        {
         "hovertemplate": "x=%{x}<br>y=%{y}<br>z=%{z}<extra></extra>",
         "legendgroup": "",
         "marker": {
          "color": "rgb(81, 106, 82)",
          "symbol": "circle"
         },
         "mode": "markers",
         "name": "",
         "scene": "scene",
         "showlegend": false,
         "type": "scatter3d",
         "x": [
          42.25653039002796
         ],
         "y": [
          -14.512299541686923
         ],
         "z": [
          10.518790312045379
         ]
        },
        {
         "hovertemplate": "x=%{x}<br>y=%{y}<br>z=%{z}<extra></extra>",
         "legendgroup": "",
         "marker": {
          "color": "rgb(6, 25, 83)",
          "symbol": "circle"
         },
         "mode": "markers",
         "name": "",
         "scene": "scene",
         "showlegend": false,
         "type": "scatter3d",
         "x": [
          11.678712854213831
         ],
         "y": [
          18.365383453823505
         ],
         "z": [
          -37.2194401664669
         ]
        },
        {
         "hovertemplate": "x=%{x}<br>y=%{y}<br>z=%{z}<extra></extra>",
         "legendgroup": "",
         "marker": {
          "color": "rgb(8, 27, 83)",
          "symbol": "circle"
         },
         "mode": "markers",
         "name": "",
         "scene": "scene",
         "showlegend": false,
         "type": "scatter3d",
         "x": [
          12.351621419891444
         ],
         "y": [
          17.050305537933824
         ],
         "z": [
          -36.113322386372246
         ]
        },
        {
         "hovertemplate": "x=%{x}<br>y=%{y}<br>z=%{z}<extra></extra>",
         "legendgroup": "",
         "marker": {
          "color": "rgb(13, 29, 83)",
          "symbol": "circle"
         },
         "mode": "markers",
         "name": "",
         "scene": "scene",
         "showlegend": false,
         "type": "scatter3d",
         "x": [
          13.161979033456976
         ],
         "y": [
          16.07226845783677
         ],
         "z": [
          -34.780151360477475
         ]
        },
        {
         "hovertemplate": "x=%{x}<br>y=%{y}<br>z=%{z}<extra></extra>",
         "legendgroup": "",
         "marker": {
          "color": "rgb(5, 22, 84)",
          "symbol": "circle"
         },
         "mode": "markers",
         "name": "",
         "scene": "scene",
         "showlegend": false,
         "type": "scatter3d",
         "x": [
          10.893742024396893
         ],
         "y": [
          20.950020275576282
         ],
         "z": [
          -39.192936603945434
         ]
        },
        {
         "hovertemplate": "x=%{x}<br>y=%{y}<br>z=%{z}<extra></extra>",
         "legendgroup": "",
         "marker": {
          "color": "rgb(6, 27, 84)",
          "symbol": "circle"
         },
         "mode": "markers",
         "name": "",
         "scene": "scene",
         "showlegend": false,
         "type": "scatter3d",
         "x": [
          12.368790211450843
         ],
         "y": [
          17.28902826511021
         ],
         "z": [
          -36.76865986954482
         ]
        },
        {
         "hovertemplate": "x=%{x}<br>y=%{y}<br>z=%{z}<extra></extra>",
         "legendgroup": "",
         "marker": {
          "color": "rgb(9, 29, 84)",
          "symbol": "circle"
         },
         "mode": "markers",
         "name": "",
         "scene": "scene",
         "showlegend": false,
         "type": "scatter3d",
         "x": [
          13.088814689329595
         ],
         "y": [
          16.072371410074837
         ],
         "z": [
          -35.58580745542681
         ]
        },
        {
         "hovertemplate": "x=%{x}<br>y=%{y}<br>z=%{z}<extra></extra>",
         "legendgroup": "",
         "marker": {
          "color": "rgb(17, 33, 84)",
          "symbol": "circle"
         },
         "mode": "markers",
         "name": "",
         "scene": "scene",
         "showlegend": false,
         "type": "scatter3d",
         "x": [
          14.662800070837196
         ],
         "y": [
          14.013823976688016
         ],
         "z": [
          -33.00634669519798
         ]
        },
        {
         "hovertemplate": "x=%{x}<br>y=%{y}<br>z=%{z}<extra></extra>",
         "legendgroup": "",
         "marker": {
          "color": "rgb(61, 93, 84)",
          "symbol": "circle"
         },
         "mode": "markers",
         "name": "",
         "scene": "scene",
         "showlegend": false,
         "type": "scatter3d",
         "x": [
          36.85694491176095
         ],
         "y": [
          -13.956583508865139
         ],
         "z": [
          1.4375450984140725
         ]
        },
        {
         "hovertemplate": "x=%{x}<br>y=%{y}<br>z=%{z}<extra></extra>",
         "legendgroup": "",
         "marker": {
          "color": "rgb(5, 23, 86)",
          "symbol": "circle"
         },
         "mode": "markers",
         "name": "",
         "scene": "scene",
         "showlegend": false,
         "type": "scatter3d",
         "x": [
          11.393465598742239
         ],
         "y": [
          21.07377408625137
         ],
         "z": [
          -39.730265470415574
         ]
        },
        {
         "hovertemplate": "x=%{x}<br>y=%{y}<br>z=%{z}<extra></extra>",
         "legendgroup": "",
         "marker": {
          "color": "rgb(7, 26, 86)",
          "symbol": "circle"
         },
         "mode": "markers",
         "name": "",
         "scene": "scene",
         "showlegend": false,
         "type": "scatter3d",
         "x": [
          12.324554601664929
         ],
         "y": [
          19.025667404947196
         ],
         "z": [
          -38.196684295207525
         ]
        },
        {
         "hovertemplate": "x=%{x}<br>y=%{y}<br>z=%{z}<extra></extra>",
         "legendgroup": "",
         "marker": {
          "color": "rgb(8, 29, 86)",
          "symbol": "circle"
         },
         "mode": "markers",
         "name": "",
         "scene": "scene",
         "showlegend": false,
         "type": "scatter3d",
         "x": [
          13.24379804770032
         ],
         "y": [
          16.856422661821913
         ],
         "z": [
          -36.68901895236797
         ]
        },
        {
         "hovertemplate": "x=%{x}<br>y=%{y}<br>z=%{z}<extra></extra>",
         "legendgroup": "",
         "marker": {
          "color": "rgb(21, 64, 86)",
          "symbol": "circle"
         },
         "mode": "markers",
         "name": "",
         "scene": "scene",
         "showlegend": false,
         "type": "scatter3d",
         "x": [
          25.254175333070116
         ],
         "y": [
          -6.516621695241531
         ],
         "z": [
          -17.486675407437534
         ]
        },
        {
         "hovertemplate": "x=%{x}<br>y=%{y}<br>z=%{z}<extra></extra>",
         "legendgroup": "",
         "marker": {
          "color": "rgb(11, 29, 87)",
          "symbol": "circle"
         },
         "mode": "markers",
         "name": "",
         "scene": "scene",
         "showlegend": false,
         "type": "scatter3d",
         "x": [
          13.459747147837145
         ],
         "y": [
          17.59023003688176
         ],
         "z": [
          -37.006728908998824
         ]
        },
        {
         "hovertemplate": "x=%{x}<br>y=%{y}<br>z=%{z}<extra></extra>",
         "legendgroup": "",
         "marker": {
          "color": "rgb(14, 32, 87)",
          "symbol": "circle"
         },
         "mode": "markers",
         "name": "",
         "scene": "scene",
         "showlegend": false,
         "type": "scatter3d",
         "x": [
          14.48204489346072
         ],
         "y": [
          15.662869241935496
         ],
         "z": [
          -35.33216486786368
         ]
        },
        {
         "hovertemplate": "x=%{x}<br>y=%{y}<br>z=%{z}<extra></extra>",
         "legendgroup": "",
         "marker": {
          "color": "rgb(5, 25, 88)",
          "symbol": "circle"
         },
         "mode": "markers",
         "name": "",
         "scene": "scene",
         "showlegend": false,
         "type": "scatter3d",
         "x": [
          12.16976006076818
         ],
         "y": [
          20.457872597945098
         ],
         "z": [
          -39.80716297340609
         ]
        },
        {
         "hovertemplate": "x=%{x}<br>y=%{y}<br>z=%{z}<extra></extra>",
         "legendgroup": "",
         "marker": {
          "color": "rgb(7, 28, 88)",
          "symbol": "circle"
         },
         "mode": "markers",
         "name": "",
         "scene": "scene",
         "showlegend": false,
         "type": "scatter3d",
         "x": [
          13.109457260586137
         ],
         "y": [
          18.397258586857422
         ],
         "z": [
          -38.261289454236056
         ]
        },
        {
         "hovertemplate": "x=%{x}<br>y=%{y}<br>z=%{z}<extra></extra>",
         "legendgroup": "",
         "marker": {
          "color": "rgb(5, 23, 89)",
          "symbol": "circle"
         },
         "mode": "markers",
         "name": "",
         "scene": "scene",
         "showlegend": false,
         "type": "scatter3d",
         "x": [
          11.731675432895656
         ],
         "y": [
          22.35674854482547
         ],
         "z": [
          -41.20362846524868
         ]
        },
        {
         "hovertemplate": "x=%{x}<br>y=%{y}<br>z=%{z}<extra></extra>",
         "legendgroup": "",
         "marker": {
          "color": "rgb(9, 31, 89)",
          "symbol": "circle"
         },
         "mode": "markers",
         "name": "",
         "scene": "scene",
         "showlegend": false,
         "type": "scatter3d",
         "x": [
          14.169827342880442
         ],
         "y": [
          16.762946587771083
         ],
         "z": [
          -37.19587115926547
         ]
        },
        {
         "hovertemplate": "x=%{x}<br>y=%{y}<br>z=%{z}<extra></extra>",
         "legendgroup": "",
         "marker": {
          "color": "rgb(7, 26, 90)",
          "symbol": "circle"
         },
         "mode": "markers",
         "name": "",
         "scene": "scene",
         "showlegend": false,
         "type": "scatter3d",
         "x": [
          12.748157212383983
         ],
         "y": [
          20.75811930510521
         ],
         "z": [
          -40.20156525847612
         ]
        },
        {
         "hovertemplate": "x=%{x}<br>y=%{y}<br>z=%{z}<extra></extra>",
         "legendgroup": "",
         "marker": {
          "color": "rgb(6, 29, 90)",
          "symbol": "circle"
         },
         "mode": "markers",
         "name": "",
         "scene": "scene",
         "showlegend": false,
         "type": "scatter3d",
         "x": [
          13.565098839200108
         ],
         "y": [
          18.43026691053093
         ],
         "z": [
          -38.86209768638147
         ]
        },
        {
         "hovertemplate": "x=%{x}<br>y=%{y}<br>z=%{z}<extra></extra>",
         "legendgroup": "",
         "marker": {
          "color": "rgb(11, 29, 90)",
          "symbol": "circle"
         },
         "mode": "markers",
         "name": "",
         "scene": "scene",
         "showlegend": false,
         "type": "scatter3d",
         "x": [
          13.756885945056055
         ],
         "y": [
          18.888319272920867
         ],
         "z": [
          -38.54036311890007
         ]
        },
        {
         "hovertemplate": "x=%{x}<br>y=%{y}<br>z=%{z}<extra></extra>",
         "legendgroup": "",
         "marker": {
          "color": "rgb(13, 33, 90)",
          "symbol": "circle"
         },
         "mode": "markers",
         "name": "",
         "scene": "scene",
         "showlegend": false,
         "type": "scatter3d",
         "x": [
          15.015587439413903
         ],
         "y": [
          16.097087068128484
         ],
         "z": [
          -36.47970114258883
         ]
        },
        {
         "hovertemplate": "x=%{x}<br>y=%{y}<br>z=%{z}<extra></extra>",
         "legendgroup": "",
         "marker": {
          "color": "rgb(17, 36, 90)",
          "symbol": "circle"
         },
         "mode": "markers",
         "name": "",
         "scene": "scene",
         "showlegend": false,
         "type": "scatter3d",
         "x": [
          16.100297349501197
         ],
         "y": [
          14.338433459821637
         ],
         "z": [
          -34.70643192791037
         ]
        },
        {
         "hovertemplate": "x=%{x}<br>y=%{y}<br>z=%{z}<extra></extra>",
         "legendgroup": "",
         "marker": {
          "color": "rgb(94, 117, 90)",
          "symbol": "circle"
         },
         "mode": "markers",
         "name": "",
         "scene": "scene",
         "showlegend": false,
         "type": "scatter3d",
         "x": [
          46.76446213716035
         ],
         "y": [
          -14.098432739450717
         ],
         "z": [
          12.180488797896427
         ]
        },
        {
         "hovertemplate": "x=%{x}<br>y=%{y}<br>z=%{z}<extra></extra>",
         "legendgroup": "",
         "marker": {
          "color": "rgb(3, 26, 91)",
          "symbol": "circle"
         },
         "mode": "markers",
         "name": "",
         "scene": "scene",
         "showlegend": false,
         "type": "scatter3d",
         "x": [
          12.693494766099018
         ],
         "y": [
          20.842659128708306
         ],
         "z": [
          -40.969640453435275
         ]
        },
        {
         "hovertemplate": "x=%{x}<br>y=%{y}<br>z=%{z}<extra></extra>",
         "legendgroup": "",
         "marker": {
          "color": "rgb(6, 24, 92)",
          "symbol": "circle"
         },
         "mode": "markers",
         "name": "",
         "scene": "scene",
         "showlegend": false,
         "type": "scatter3d",
         "x": [
          12.381814034244787
         ],
         "y": [
          22.984105009636686
         ],
         "z": [
          -42.149931995089574
         ]
        },
        {
         "hovertemplate": "x=%{x}<br>y=%{y}<br>z=%{z}<extra></extra>",
         "legendgroup": "",
         "marker": {
          "color": "rgb(8, 27, 92)",
          "symbol": "circle"
         },
         "mode": "markers",
         "name": "",
         "scene": "scene",
         "showlegend": false,
         "type": "scatter3d",
         "x": [
          13.279997507874064
         ],
         "y": [
          20.96412216955537
         ],
         "z": [
          -40.66900286829455
         ]
        },
        {
         "hovertemplate": "x=%{x}<br>y=%{y}<br>z=%{z}<extra></extra>",
         "legendgroup": "",
         "marker": {
          "color": "rgb(8, 31, 92)",
          "symbol": "circle"
         },
         "mode": "markers",
         "name": "",
         "scene": "scene",
         "showlegend": false,
         "type": "scatter3d",
         "x": [
          14.4248093364492
         ],
         "y": [
          17.987955636948133
         ],
         "z": [
          -38.79142991836968
         ]
        },
        {
         "hovertemplate": "x=%{x}<br>y=%{y}<br>z=%{z}<extra></extra>",
         "legendgroup": "",
         "marker": {
          "color": "rgb(6, 25, 93)",
          "symbol": "circle"
         },
         "mode": "markers",
         "name": "",
         "scene": "scene",
         "showlegend": false,
         "type": "scatter3d",
         "x": [
          12.761672251374808
         ],
         "y": [
          22.684021477518233
         ],
         "z": [
          -42.19452715347635
         ]
        },
        {
         "hovertemplate": "x=%{x}<br>y=%{y}<br>z=%{z}<extra></extra>",
         "legendgroup": "",
         "marker": {
          "color": "rgb(5, 29, 93)",
          "symbol": "circle"
         },
         "mode": "markers",
         "name": "",
         "scene": "scene",
         "showlegend": false,
         "type": "scatter3d",
         "x": [
          13.834514891116214
         ],
         "y": [
          19.656803275889175
         ],
         "z": [
          -40.43190903818436
         ]
        },
        {
         "hovertemplate": "x=%{x}<br>y=%{y}<br>z=%{z}<extra></extra>",
         "legendgroup": "",
         "marker": {
          "color": "rgb(9, 34, 93)",
          "symbol": "circle"
         },
         "mode": "markers",
         "name": "",
         "scene": "scene",
         "showlegend": false,
         "type": "scatter3d",
         "x": [
          15.447548247668003
         ],
         "y": [
          16.262539810431743
         ],
         "z": [
          -37.78573320605548
         ]
        },
        {
         "hovertemplate": "x=%{x}<br>y=%{y}<br>z=%{z}<extra></extra>",
         "legendgroup": "",
         "marker": {
          "color": "rgb(13, 31, 94)",
          "symbol": "circle"
         },
         "mode": "markers",
         "name": "",
         "scene": "scene",
         "showlegend": false,
         "type": "scatter3d",
         "x": [
          14.809923121073965
         ],
         "y": [
          19.312331631544886
         ],
         "z": [
          -39.48865825780835
         ]
        },
        {
         "hovertemplate": "x=%{x}<br>y=%{y}<br>z=%{z}<extra></extra>",
         "legendgroup": "",
         "marker": {
          "color": "rgb(14, 36, 94)",
          "symbol": "circle"
         },
         "mode": "markers",
         "name": "",
         "scene": "scene",
         "showlegend": false,
         "type": "scatter3d",
         "x": [
          16.321736275535635
         ],
         "y": [
          15.695999058761789
         ],
         "z": [
          -37.01801333332806
         ]
        },
        {
         "hovertemplate": "x=%{x}<br>y=%{y}<br>z=%{z}<extra></extra>",
         "legendgroup": "",
         "marker": {
          "color": "rgb(8, 27, 95)",
          "symbol": "circle"
         },
         "mode": "markers",
         "name": "",
         "scene": "scene",
         "showlegend": false,
         "type": "scatter3d",
         "x": [
          13.601247338054716
         ],
         "y": [
          22.238931884956596
         ],
         "z": [
          -42.146248500572305
         ]
        },
        {
         "hovertemplate": "x=%{x}<br>y=%{y}<br>z=%{z}<extra></extra>",
         "legendgroup": "",
         "marker": {
          "color": "rgb(3, 28, 95)",
          "symbol": "circle"
         },
         "mode": "markers",
         "name": "",
         "scene": "scene",
         "showlegend": false,
         "type": "scatter3d",
         "x": [
          13.686371071192216
         ],
         "y": [
          21.101297829692555
         ],
         "z": [
          -42.01314585084689
         ]
        },
        {
         "hovertemplate": "x=%{x}<br>y=%{y}<br>z=%{z}<extra></extra>",
         "legendgroup": "",
         "marker": {
          "color": "rgb(7, 31, 95)",
          "symbol": "circle"
         },
         "mode": "markers",
         "name": "",
         "scene": "scene",
         "showlegend": false,
         "type": "scatter3d",
         "x": [
          14.687076500590305
         ],
         "y": [
          19.21063660174302
         ],
         "z": [
          -40.36457713349309
         ]
        },
        {
         "hovertemplate": "x=%{x}<br>y=%{y}<br>z=%{z}<extra></extra>",
         "legendgroup": "",
         "marker": {
          "color": "rgb(9, 36, 95)",
          "symbol": "circle"
         },
         "mode": "markers",
         "name": "",
         "scene": "scene",
         "showlegend": false,
         "type": "scatter3d",
         "x": [
          16.235775756836688
         ],
         "y": [
          15.640871588148308
         ],
         "z": [
          -37.829712843631036
         ]
        },
        {
         "hovertemplate": "x=%{x}<br>y=%{y}<br>z=%{z}<extra></extra>",
         "legendgroup": "",
         "marker": {
          "color": "rgb(19, 39, 95)",
          "symbol": "circle"
         },
         "mode": "markers",
         "name": "",
         "scene": "scene",
         "showlegend": false,
         "type": "scatter3d",
         "x": [
          17.53303254631181
         ],
         "y": [
          14.514933906085242
         ],
         "z": [
          -35.70196733469794
         ]
        },
        {
         "hovertemplate": "x=%{x}<br>y=%{y}<br>z=%{z}<extra></extra>",
         "legendgroup": "",
         "marker": {
          "color": "rgb(10, 34, 96)",
          "symbol": "circle"
         },
         "mode": "markers",
         "name": "",
         "scene": "scene",
         "showlegend": false,
         "type": "scatter3d",
         "x": [
          15.76354288112762
         ],
         "y": [
          17.66591368130954
         ],
         "z": [
          -39.262792437832296
         ]
        },
        {
         "hovertemplate": "x=%{x}<br>y=%{y}<br>z=%{z}<extra></extra>",
         "legendgroup": "",
         "marker": {
          "color": "rgb(5, 28, 97)",
          "symbol": "circle"
         },
         "mode": "markers",
         "name": "",
         "scene": "scene",
         "showlegend": false,
         "type": "scatter3d",
         "x": [
          13.977230785776467
         ],
         "y": [
          22.123890911335153
         ],
         "z": [
          -42.86296821892599
         ]
        },
        {
         "hovertemplate": "x=%{x}<br>y=%{y}<br>z=%{z}<extra></extra>",
         "legendgroup": "",
         "marker": {
          "color": "rgb(9, 29, 97)",
          "symbol": "circle"
         },
         "mode": "markers",
         "name": "",
         "scene": "scene",
         "showlegend": false,
         "type": "scatter3d",
         "x": [
          14.399890529655814
         ],
         "y": [
          21.708832198487098
         ],
         "z": [
          -42.1626745180772
         ]
        },
        {
         "hovertemplate": "x=%{x}<br>y=%{y}<br>z=%{z}<extra></extra>",
         "legendgroup": "",
         "marker": {
          "color": "rgb(5, 31, 97)",
          "symbol": "circle"
         },
         "mode": "markers",
         "name": "",
         "scene": "scene",
         "showlegend": false,
         "type": "scatter3d",
         "x": [
          14.818771293439468
         ],
         "y": [
          19.91368015133885
         ],
         "z": [
          -41.4802351486559
         ]
        },
        {
         "hovertemplate": "x=%{x}<br>y=%{y}<br>z=%{z}<extra></extra>",
         "legendgroup": "",
         "marker": {
          "color": "rgb(14, 32, 97)",
          "symbol": "circle"
         },
         "mode": "markers",
         "name": "",
         "scene": "scene",
         "showlegend": false,
         "type": "scatter3d",
         "x": [
          15.431798506531948
         ],
         "y": [
          19.94901879456401
         ],
         "z": [
          -40.462637800990706
         ]
        },
        {
         "hovertemplate": "x=%{x}<br>y=%{y}<br>z=%{z}<extra></extra>",
         "legendgroup": "",
         "marker": {
          "color": "rgb(6, 33, 97)",
          "symbol": "circle"
         },
         "mode": "markers",
         "name": "",
         "scene": "scene",
         "showlegend": false,
         "type": "scatter3d",
         "x": [
          15.432036029291709
         ],
         "y": [
          18.507481324362974
         ],
         "z": [
          -40.47358238541465
         ]
        },
        {
         "hovertemplate": "x=%{x}<br>y=%{y}<br>z=%{z}<extra></extra>",
         "legendgroup": "",
         "marker": {
          "color": "rgb(7, 36, 97)",
          "symbol": "circle"
         },
         "mode": "markers",
         "name": "",
         "scene": "scene",
         "showlegend": false,
         "type": "scatter3d",
         "x": [
          16.35519052160999
         ],
         "y": [
          16.34690126330077
         ],
         "z": [
          -38.962738221448966
         ]
        },
        {
         "hovertemplate": "x=%{x}<br>y=%{y}<br>z=%{z}<extra></extra>",
         "legendgroup": "",
         "marker": {
          "color": "rgb(12, 36, 98)",
          "symbol": "circle"
         },
         "mode": "markers",
         "name": "",
         "scene": "scene",
         "showlegend": false,
         "type": "scatter3d",
         "x": [
          16.610454065147415
         ],
         "y": [
          17.224584796413534
         ],
         "z": [
          -39.20023952083572
         ]
        },
        {
         "hovertemplate": "x=%{x}<br>y=%{y}<br>z=%{z}<extra></extra>",
         "legendgroup": "",
         "marker": {
          "color": "rgb(14, 40, 98)",
          "symbol": "circle"
         },
         "mode": "markers",
         "name": "",
         "scene": "scene",
         "showlegend": false,
         "type": "scatter3d",
         "x": [
          17.885956474802498
         ],
         "y": [
          14.450852244990319
         ],
         "z": [
          -37.11934015291687
         ]
        },
        {
         "hovertemplate": "x=%{x}<br>y=%{y}<br>z=%{z}<extra></extra>",
         "legendgroup": "",
         "marker": {
          "color": "rgb(9, 32, 99)",
          "symbol": "circle"
         },
         "mode": "markers",
         "name": "",
         "scene": "scene",
         "showlegend": false,
         "type": "scatter3d",
         "x": [
          15.44495831338675
         ],
         "y": [
          20.362952437200516
         ],
         "z": [
          -41.77207586223998
         ]
        },
        {
         "hovertemplate": "x=%{x}<br>y=%{y}<br>z=%{z}<extra></extra>",
         "legendgroup": "",
         "marker": {
          "color": "rgb(6, 35, 99)",
          "symbol": "circle"
         },
         "mode": "markers",
         "name": "",
         "scene": "scene",
         "showlegend": false,
         "type": "scatter3d",
         "x": [
          16.213635186692812
         ],
         "y": [
          17.892236138087576
         ],
         "z": [
          -40.51693627596645
         ]
        },
        {
         "hovertemplate": "x=%{x}<br>y=%{y}<br>z=%{z}<extra></extra>",
         "legendgroup": "",
         "marker": {
          "color": "rgb(9, 38, 99)",
          "symbol": "circle"
         },
         "mode": "markers",
         "name": "",
         "scene": "scene",
         "showlegend": false,
         "type": "scatter3d",
         "x": [
          17.203349073971104
         ],
         "y": [
          15.905921465403678
         ],
         "z": [
          -38.89658934040497
         ]
        },
        {
         "hovertemplate": "x=%{x}<br>y=%{y}<br>z=%{z}<extra></extra>",
         "legendgroup": "",
         "marker": {
          "color": "rgb(8, 29, 100)",
          "symbol": "circle"
         },
         "mode": "markers",
         "name": "",
         "scene": "scene",
         "showlegend": false,
         "type": "scatter3d",
         "x": [
          14.682027396471028
         ],
         "y": [
          22.898498951460454
         ],
         "z": [
          -43.68734725761758
         ]
        },
        {
         "hovertemplate": "x=%{x}<br>y=%{y}<br>z=%{z}<extra></extra>",
         "legendgroup": "",
         "marker": {
          "color": "rgb(4, 31, 100)",
          "symbol": "circle"
         },
         "mode": "markers",
         "name": "",
         "scene": "scene",
         "showlegend": false,
         "type": "scatter3d",
         "x": [
          15.093392107342247
         ],
         "y": [
          21.135424655611164
         ],
         "z": [
          -43.016228710562785
         ]
        },
        {
         "hovertemplate": "x=%{x}<br>y=%{y}<br>z=%{z}<extra></extra>",
         "legendgroup": "",
         "marker": {
          "color": "rgb(16, 35, 101)",
          "symbol": "circle"
         },
         "mode": "markers",
         "name": "",
         "scene": "scene",
         "showlegend": false,
         "type": "scatter3d",
         "x": [
          16.756822698666703
         ],
         "y": [
          19.643514811271857
         ],
         "z": [
          -40.93194127897105
         ]
        },
        {
         "hovertemplate": "x=%{x}<br>y=%{y}<br>z=%{z}<extra></extra>",
         "legendgroup": "",
         "marker": {
          "color": "rgb(10, 36, 101)",
          "symbol": "circle"
         },
         "mode": "markers",
         "name": "",
         "scene": "scene",
         "showlegend": false,
         "type": "scatter3d",
         "x": [
          16.824857098434386
         ],
         "y": [
          18.349878766454026
         ],
         "z": [
          -40.829623939547275
         ]
        },
        {
         "hovertemplate": "x=%{x}<br>y=%{y}<br>z=%{z}<extra></extra>",
         "legendgroup": "",
         "marker": {
          "color": "rgb(13, 39, 101)",
          "symbol": "circle"
         },
         "mode": "markers",
         "name": "",
         "scene": "scene",
         "showlegend": false,
         "type": "scatter3d",
         "x": [
          17.810576708037274
         ],
         "y": [
          16.392225622633873
         ],
         "z": [
          -39.216360760269794
         ]
        },
        {
         "hovertemplate": "x=%{x}<br>y=%{y}<br>z=%{z}<extra></extra>",
         "legendgroup": "",
         "marker": {
          "color": "rgb(18, 43, 101)",
          "symbol": "circle"
         },
         "mode": "markers",
         "name": "",
         "scene": "scene",
         "showlegend": false,
         "type": "scatter3d",
         "x": [
          19.207387885563556
         ],
         "y": [
          13.989727581491945
         ],
         "z": [
          -36.93674938742452
         ]
        },
        {
         "hovertemplate": "x=%{x}<br>y=%{y}<br>z=%{z}<extra></extra>",
         "legendgroup": "",
         "marker": {
          "color": "rgb(9, 32, 102)",
          "symbol": "circle"
         },
         "mode": "markers",
         "name": "",
         "scene": "scene",
         "showlegend": false,
         "type": "scatter3d",
         "x": [
          15.749596787042798
         ],
         "y": [
          21.642324916061412
         ],
         "z": [
          -43.25034678288454
         ]
        },
        {
         "hovertemplate": "x=%{x}<br>y=%{y}<br>z=%{z}<extra></extra>",
         "legendgroup": "",
         "marker": {
          "color": "rgb(5, 33, 102)",
          "symbol": "circle"
         },
         "mode": "markers",
         "name": "",
         "scene": "scene",
         "showlegend": false,
         "type": "scatter3d",
         "x": [
          15.897952907693057
         ],
         "y": [
          20.605289392522042
         ],
         "z": [
          -43.011828678613426
         ]
        },
        {
         "hovertemplate": "x=%{x}<br>y=%{y}<br>z=%{z}<extra></extra>",
         "legendgroup": "",
         "marker": {
          "color": "rgb(6, 36, 102)",
          "symbol": "circle"
         },
         "mode": "markers",
         "name": "",
         "scene": "scene",
         "showlegend": false,
         "type": "scatter3d",
         "x": [
          16.795432395409136
         ],
         "y": [
          18.463667322425298
         ],
         "z": [
          -41.539842257713524
         ]
        },
        {
         "hovertemplate": "x=%{x}<br>y=%{y}<br>z=%{z}<extra></extra>",
         "legendgroup": "",
         "marker": {
          "color": "rgb(8, 38, 102)",
          "symbol": "circle"
         },
         "mode": "markers",
         "name": "",
         "scene": "scene",
         "showlegend": false,
         "type": "scatter3d",
         "x": [
          17.44698480611212
         ],
         "y": [
          17.13916872142962
         ],
         "z": [
          -40.47223958332169
         ]
        },
        {
         "hovertemplate": "x=%{x}<br>y=%{y}<br>z=%{z}<extra></extra>",
         "legendgroup": "",
         "marker": {
          "color": "rgb(107, 128, 103)",
          "symbol": "circle"
         },
         "mode": "markers",
         "name": "",
         "scene": "scene",
         "showlegend": false,
         "type": "scatter3d",
         "x": [
          51.31700871244141
         ],
         "y": [
          -12.763280698086021
         ],
         "z": [
          11.079554173545802
         ]
        },
        {
         "hovertemplate": "x=%{x}<br>y=%{y}<br>z=%{z}<extra></extra>",
         "legendgroup": "",
         "marker": {
          "color": "rgb(6, 34, 104)",
          "symbol": "circle"
         },
         "mode": "markers",
         "name": "",
         "scene": "scene",
         "showlegend": false,
         "type": "scatter3d",
         "x": [
          16.416000312019584
         ],
         "y": [
          20.809379571935654
         ],
         "z": [
          -43.473490707568494
         ]
        },
        {
         "hovertemplate": "x=%{x}<br>y=%{y}<br>z=%{z}<extra></extra>",
         "legendgroup": "",
         "marker": {
          "color": "rgb(10, 34, 104)",
          "symbol": "circle"
         },
         "mode": "markers",
         "name": "",
         "scene": "scene",
         "showlegend": false,
         "type": "scatter3d",
         "x": [
          16.543306624986087
         ],
         "y": [
          21.10786542906304
         ],
         "z": [
          -43.25980929994867
         ]
        },
        {
         "hovertemplate": "x=%{x}<br>y=%{y}<br>z=%{z}<extra></extra>",
         "legendgroup": "",
         "marker": {
          "color": "rgb(11, 37, 104)",
          "symbol": "circle"
         },
         "mode": "markers",
         "name": "",
         "scene": "scene",
         "showlegend": false,
         "type": "scatter3d",
         "x": [
          17.431163025873133
         ],
         "y": [
          18.986038527827766
         ],
         "z": [
          -41.80448396190955
         ]
        },
        {
         "hovertemplate": "x=%{x}<br>y=%{y}<br>z=%{z}<extra></extra>",
         "legendgroup": "",
         "marker": {
          "color": "rgb(6, 38, 104)",
          "symbol": "circle"
         },
         "mode": "markers",
         "name": "",
         "scene": "scene",
         "showlegend": false,
         "type": "scatter3d",
         "x": [
          17.57329595100169
         ],
         "y": [
          17.854857762618888
         ],
         "z": [
          -41.578173843219545
         ]
        },
        {
         "hovertemplate": "x=%{x}<br>y=%{y}<br>z=%{z}<extra></extra>",
         "legendgroup": "",
         "marker": {
          "color": "rgb(9, 40, 104)",
          "symbol": "circle"
         },
         "mode": "markers",
         "name": "",
         "scene": "scene",
         "showlegend": false,
         "type": "scatter3d",
         "x": [
          18.25506169215528
         ],
         "y": [
          16.61080666259715
         ],
         "z": [
          -40.461229826621704
         ]
        },
        {
         "hovertemplate": "x=%{x}<br>y=%{y}<br>z=%{z}<extra></extra>",
         "legendgroup": "",
         "marker": {
          "color": "rgb(14, 42, 104)",
          "symbol": "circle"
         },
         "mode": "markers",
         "name": "",
         "scene": "scene",
         "showlegend": false,
         "type": "scatter3d",
         "x": [
          19.008268849825022
         ],
         "y": [
          15.57032368620595
         ],
         "z": [
          -39.227489083344146
         ]
        },
        {
         "hovertemplate": "x=%{x}<br>y=%{y}<br>z=%{z}<extra></extra>",
         "legendgroup": "",
         "marker": {
          "color": "rgb(75, 106, 104)",
          "symbol": "circle"
         },
         "mode": "markers",
         "name": "",
         "scene": "scene",
         "showlegend": false,
         "type": "scatter3d",
         "x": [
          42.46551263164304
         ],
         "y": [
          -11.681779973786666
         ],
         "z": [
          -2.517670500253999
         ]
        },
        {
         "hovertemplate": "x=%{x}<br>y=%{y}<br>z=%{z}<extra></extra>",
         "legendgroup": "",
         "marker": {
          "color": "rgb(6, 36, 106)",
          "symbol": "circle"
         },
         "mode": "markers",
         "name": "",
         "scene": "scene",
         "showlegend": false,
         "type": "scatter3d",
         "x": [
          17.18409311614011
         ],
         "y": [
          20.20298598743314
         ],
         "z": [
          -43.522000502654144
         ]
        },
        {
         "hovertemplate": "x=%{x}<br>y=%{y}<br>z=%{z}<extra></extra>",
         "legendgroup": "",
         "marker": {
          "color": "rgb(9, 40, 106)",
          "symbol": "circle"
         },
         "mode": "markers",
         "name": "",
         "scene": "scene",
         "showlegend": false,
         "type": "scatter3d",
         "x": [
          18.436478537978793
         ],
         "y": [
          17.482758431648872
         ],
         "z": [
          -41.46974822620613
         ]
        },
        {
         "hovertemplate": "x=%{x}<br>y=%{y}<br>z=%{z}<extra></extra>",
         "legendgroup": "",
         "marker": {
          "color": "rgb(10, 35, 107)",
          "symbol": "circle"
         },
         "mode": "markers",
         "name": "",
         "scene": "scene",
         "showlegend": false,
         "type": "scatter3d",
         "x": [
          17.12280274642719
         ],
         "y": [
          21.65206365686875
         ],
         "z": [
          -44.270187791074534
         ]
        },
        {
         "hovertemplate": "x=%{x}<br>y=%{y}<br>z=%{z}<extra></extra>",
         "legendgroup": "",
         "marker": {
          "color": "rgb(15, 40, 107)",
          "symbol": "circle"
         },
         "mode": "markers",
         "name": "",
         "scene": "scene",
         "showlegend": false,
         "type": "scatter3d",
         "x": [
          18.716790382670148
         ],
         "y": [
          18.422943839282834
         ],
         "z": [
          -41.65507938036076
         ]
        },
        {
         "hovertemplate": "x=%{x}<br>y=%{y}<br>z=%{z}<extra></extra>",
         "legendgroup": "",
         "marker": {
          "color": "rgb(15, 44, 107)",
          "symbol": "circle"
         },
         "mode": "markers",
         "name": "",
         "scene": "scene",
         "showlegend": false,
         "type": "scatter3d",
         "x": [
          19.900994286547615
         ],
         "y": [
          15.492509096035946
         ],
         "z": [
          -39.72563417624128
         ]
        },
        {
         "hovertemplate": "x=%{x}<br>y=%{y}<br>z=%{z}<extra></extra>",
         "legendgroup": "",
         "marker": {
          "color": "rgb(19, 46, 107)",
          "symbol": "circle"
         },
         "mode": "markers",
         "name": "",
         "scene": "scene",
         "showlegend": false,
         "type": "scatter3d",
         "x": [
          20.650285554654822
         ],
         "y": [
          14.47074637803658
         ],
         "z": [
          -38.50197240257681
         ]
        },
        {
         "hovertemplate": "x=%{x}<br>y=%{y}<br>z=%{z}<extra></extra>",
         "legendgroup": "",
         "marker": {
          "color": "rgb(41, 60, 107)",
          "symbol": "circle"
         },
         "mode": "markers",
         "name": "",
         "scene": "scene",
         "showlegend": false,
         "type": "scatter3d",
         "x": [
          26.05351435082745
         ],
         "y": [
          8.353135196645905
         ],
         "z": [
          -29.758748108801814
         ]
        },
        {
         "hovertemplate": "x=%{x}<br>y=%{y}<br>z=%{z}<extra></extra>",
         "legendgroup": "",
         "marker": {
          "color": "rgb(28, 76, 107)",
          "symbol": "circle"
         },
         "mode": "markers",
         "name": "",
         "scene": "scene",
         "showlegend": false,
         "type": "scatter3d",
         "x": [
          30.586051549894684
         ],
         "y": [
          -4.895795307189199
         ],
         "z": [
          -22.647522769666615
         ]
        },
        {
         "hovertemplate": "x=%{x}<br>y=%{y}<br>z=%{z}<extra></extra>",
         "legendgroup": "",
         "marker": {
          "color": "rgb(126, 142, 107)",
          "symbol": "circle"
         },
         "mode": "markers",
         "name": "",
         "scene": "scene",
         "showlegend": false,
         "type": "scatter3d",
         "x": [
          56.92228365175167
         ],
         "y": [
          -12.382153831412722
         ],
         "z": [
          16.777668532019586
         ]
        },
        {
         "hovertemplate": "x=%{x}<br>y=%{y}<br>z=%{z}<extra></extra>",
         "legendgroup": "",
         "marker": {
          "color": "rgb(6, 38, 108)",
          "symbol": "circle"
         },
         "mode": "markers",
         "name": "",
         "scene": "scene",
         "showlegend": false,
         "type": "scatter3d",
         "x": [
          17.953185746159043
         ],
         "y": [
          19.598147769007397
         ],
         "z": [
          -43.56504346867831
         ]
        },
        {
         "hovertemplate": "x=%{x}<br>y=%{y}<br>z=%{z}<extra></extra>",
         "legendgroup": "",
         "marker": {
          "color": "rgb(10, 38, 108)",
          "symbol": "circle"
         },
         "mode": "markers",
         "name": "",
         "scene": "scene",
         "showlegend": false,
         "type": "scatter3d",
         "x": [
          18.069284628701773
         ],
         "y": [
          19.89095104204494
         ],
         "z": [
          -43.37037727625851
         ]
        },
        {
         "hovertemplate": "x=%{x}<br>y=%{y}<br>z=%{z}<extra></extra>",
         "legendgroup": "",
         "marker": {
          "color": "rgb(6, 41, 108)",
          "symbol": "circle"
         },
         "mode": "markers",
         "name": "",
         "scene": "scene",
         "showlegend": false,
         "type": "scatter3d",
         "x": [
          18.83135114320121
         ],
         "y": [
          17.38701874129822
         ],
         "z": [
          -42.129073266347305
         ]
        },
        {
         "hovertemplate": "x=%{x}<br>y=%{y}<br>z=%{z}<extra></extra>",
         "legendgroup": "",
         "marker": {
          "color": "rgb(56, 67, 108)",
          "symbol": "circle"
         },
         "mode": "markers",
         "name": "",
         "scene": "scene",
         "showlegend": false,
         "type": "scatter3d",
         "x": [
          29.254923442183077
         ],
         "y": [
          7.763395870861888
         ],
         "z": [
          -25.265455329303588
         ]
        },
        {
         "hovertemplate": "x=%{x}<br>y=%{y}<br>z=%{z}<extra></extra>",
         "legendgroup": "",
         "marker": {
          "color": "rgb(10, 43, 109)",
          "symbol": "circle"
         },
         "mode": "markers",
         "name": "",
         "scene": "scene",
         "showlegend": false,
         "type": "scatter3d",
         "x": [
          19.6241651087456
         ],
         "y": [
          16.65310024407493
         ],
         "z": [
          -41.47940282674979
         ]
        },
        {
         "hovertemplate": "x=%{x}<br>y=%{y}<br>z=%{z}<extra></extra>",
         "legendgroup": "",
         "marker": {
          "color": "rgb(5, 39, 110)",
          "symbol": "circle"
         },
         "mode": "markers",
         "name": "",
         "scene": "scene",
         "showlegend": false,
         "type": "scatter3d",
         "x": [
          18.40496506330956
         ],
         "y": [
          19.65742909052115
         ],
         "z": [
          -44.12476385767544
         ]
        },
        {
         "hovertemplate": "x=%{x}<br>y=%{y}<br>z=%{z}<extra></extra>",
         "legendgroup": "",
         "marker": {
          "color": "rgb(15, 42, 110)",
          "symbol": "circle"
         },
         "mode": "markers",
         "name": "",
         "scene": "scene",
         "showlegend": false,
         "type": "scatter3d",
         "x": [
          19.57023386672384
         ],
         "y": [
          18.237726396615138
         ],
         "z": [
          -42.20815132032503
         ]
        },
        {
         "hovertemplate": "x=%{x}<br>y=%{y}<br>z=%{z}<extra></extra>",
         "legendgroup": "",
         "marker": {
          "color": "rgb(11, 39, 111)",
          "symbol": "circle"
         },
         "mode": "markers",
         "name": "",
         "scene": "scene",
         "showlegend": false,
         "type": "scatter3d",
         "x": [
          18.67012265260464
         ],
         "y": [
          20.513862118873988
         ],
         "z": [
          -44.331516155993135
         ]
        },
        {
         "hovertemplate": "x=%{x}<br>y=%{y}<br>z=%{z}<extra></extra>",
         "legendgroup": "",
         "marker": {
          "color": "rgb(6, 42, 111)",
          "symbol": "circle"
         },
         "mode": "markers",
         "name": "",
         "scene": "scene",
         "showlegend": false,
         "type": "scatter3d",
         "x": [
          19.40110861131535
         ],
         "y": [
          17.96102666919322
         ],
         "z": [
          -43.14165883184794
         ]
        },
        {
         "hovertemplate": "x=%{x}<br>y=%{y}<br>z=%{z}<extra></extra>",
         "legendgroup": "",
         "marker": {
          "color": "rgb(13, 46, 111)",
          "symbol": "circle"
         },
         "mode": "markers",
         "name": "",
         "scene": "scene",
         "showlegend": false,
         "type": "scatter3d",
         "x": [
          20.778738594806967
         ],
         "y": [
          15.564416238044998
         ],
         "z": [
          -40.887990073239365
         ]
        },
        {
         "hovertemplate": "x=%{x}<br>y=%{y}<br>z=%{z}<extra></extra>",
         "legendgroup": "",
         "marker": {
          "color": "rgb(10, 43, 112)",
          "symbol": "circle"
         },
         "mode": "markers",
         "name": "",
         "scene": "scene",
         "showlegend": false,
         "type": "scatter3d",
         "x": [
          19.891613107100312
         ],
         "y": [
          17.95122075823641
         ],
         "z": [
          -42.98190315512783
         ]
        },
        {
         "hovertemplate": "x=%{x}<br>y=%{y}<br>z=%{z}<extra></extra>",
         "legendgroup": "",
         "marker": {
          "color": "rgb(17, 45, 112)",
          "symbol": "circle"
         },
         "mode": "markers",
         "name": "",
         "scene": "scene",
         "showlegend": false,
         "type": "scatter3d",
         "x": [
          20.696015843662998
         ],
         "y": [
          17.09850992416728
         ],
         "z": [
          -41.66132206754193
         ]
        },
        {
         "hovertemplate": "x=%{x}<br>y=%{y}<br>z=%{z}<extra></extra>",
         "legendgroup": "",
         "marker": {
          "color": "rgb(18, 49, 112)",
          "symbol": "circle"
         },
         "mode": "markers",
         "name": "",
         "scene": "scene",
         "showlegend": false,
         "type": "scatter3d",
         "x": [
          21.926565941657806
         ],
         "y": [
          14.301484887761424
         ],
         "z": [
          -39.660027089585896
         ]
        },
        {
         "hovertemplate": "x=%{x}<br>y=%{y}<br>z=%{z}<extra></extra>",
         "legendgroup": "",
         "marker": {
          "color": "rgb(56, 68, 112)",
          "symbol": "circle"
         },
         "mode": "markers",
         "name": "",
         "scene": "scene",
         "showlegend": false,
         "type": "scatter3d",
         "x": [
          29.77500540318431
         ],
         "y": [
          8.439911984427868
         ],
         "z": [
          -26.98143957267234
         ]
        },
        {
         "hovertemplate": "x=%{x}<br>y=%{y}<br>z=%{z}<extra></extra>",
         "legendgroup": "",
         "marker": {
          "color": "rgb(6, 41, 113)",
          "symbol": "circle"
         },
         "mode": "markers",
         "name": "",
         "scene": "scene",
         "showlegend": false,
         "type": "scatter3d",
         "x": [
          19.2949434388036
         ],
         "y": [
          19.561841588557144
         ],
         "z": [
          -44.606213460109224
         ]
        },
        {
         "hovertemplate": "x=%{x}<br>y=%{y}<br>z=%{z}<extra></extra>",
         "legendgroup": "",
         "marker": {
          "color": "rgb(6, 45, 113)",
          "symbol": "circle"
         },
         "mode": "markers",
         "name": "",
         "scene": "scene",
         "showlegend": false,
         "type": "scatter3d",
         "x": [
          20.47033560396011
         ],
         "y": [
          16.63169032850903
         ],
         "z": [
          -42.68632994522568
         ]
        },
        {
         "hovertemplate": "x=%{x}<br>y=%{y}<br>z=%{z}<extra></extra>",
         "legendgroup": "",
         "marker": {
          "color": "rgb(10, 45, 113)",
          "symbol": "circle"
         },
         "mode": "markers",
         "name": "",
         "scene": "scene",
         "showlegend": false,
         "type": "scatter3d",
         "x": [
          20.571027668546982
         ],
         "y": [
          16.921033875532178
         ],
         "z": [
          -42.51787223684117
         ]
        },
        {
         "hovertemplate": "x=%{x}<br>y=%{y}<br>z=%{z}<extra></extra>",
         "legendgroup": "",
         "marker": {
          "color": "rgb(5, 43, 114)",
          "symbol": "circle"
         },
         "mode": "markers",
         "name": "",
         "scene": "scene",
         "showlegend": false,
         "type": "scatter3d",
         "x": [
          19.94318908336149
         ],
         "y": [
          18.46172879725083
         ],
         "z": [
          -44.19127723222383
         ]
        },
        {
         "hovertemplate": "x=%{x}<br>y=%{y}<br>z=%{z}<extra></extra>",
         "legendgroup": "",
         "marker": {
          "color": "rgb(13, 48, 114)",
          "symbol": "circle"
         },
         "mode": "markers",
         "name": "",
         "scene": "scene",
         "showlegend": false,
         "type": "scatter3d",
         "x": [
          21.63238502518645
         ],
         "y": [
          15.400093262911586
         ],
         "z": [
          -41.429024889201074
         ]
        },
        {
         "hovertemplate": "x=%{x}<br>y=%{y}<br>z=%{z}<extra></extra>",
         "legendgroup": "",
         "marker": {
          "color": "rgb(20, 52, 115)",
          "symbol": "circle"
         },
         "mode": "markers",
         "name": "",
         "scene": "scene",
         "showlegend": false,
         "type": "scatter3d",
         "x": [
          23.143801194951493
         ],
         "y": [
          13.632342500246446
         ],
         "z": [
          -39.606564111701836
         ]
        },
        {
         "hovertemplate": "x=%{x}<br>y=%{y}<br>z=%{z}<extra></extra>",
         "legendgroup": "",
         "marker": {
          "color": "rgb(5, 45, 116)",
          "symbol": "circle"
         },
         "mode": "markers",
         "name": "",
         "scene": "scene",
         "showlegend": false,
         "type": "scatter3d",
         "x": [
          20.712222955434356
         ],
         "y": [
          17.86905699972677
         ],
         "z": [
          -44.21933427752819
         ]
        },
        {
         "hovertemplate": "x=%{x}<br>y=%{y}<br>z=%{z}<extra></extra>",
         "legendgroup": "",
         "marker": {
          "color": "rgb(10, 46, 116)",
          "symbol": "circle"
         },
         "mode": "markers",
         "name": "",
         "scene": "scene",
         "showlegend": false,
         "type": "scatter3d",
         "x": [
          21.130095375578712
         ],
         "y": [
          17.486734308281488
         ],
         "z": [
          -43.532325859688235
         ]
        },
        {
         "hovertemplate": "x=%{x}<br>y=%{y}<br>z=%{z}<extra></extra>",
         "legendgroup": "",
         "marker": {
          "color": "rgb(56, 70, 116)",
          "symbol": "circle"
         },
         "mode": "markers",
         "name": "",
         "scene": "scene",
         "showlegend": false,
         "type": "scatter3d",
         "x": [
          30.597386245129655
         ],
         "y": [
          8.465544672447727
         ],
         "z": [
          -28.205572232558097
         ]
        },
        {
         "hovertemplate": "x=%{x}<br>y=%{y}<br>z=%{z}<extra></extra>",
         "legendgroup": "",
         "marker": {
          "color": "rgb(15, 50, 117)",
          "symbol": "circle"
         },
         "mode": "markers",
         "name": "",
         "scene": "scene",
         "showlegend": false,
         "type": "scatter3d",
         "x": [
          22.538922254526042
         ],
         "y": [
          15.411852239495428
         ],
         "z": [
          -41.87264141578658
         ]
        },
        {
         "hovertemplate": "x=%{x}<br>y=%{y}<br>z=%{z}<extra></extra>",
         "legendgroup": "",
         "marker": {
          "color": "rgb(3, 45, 118)",
          "symbol": "circle"
         },
         "mode": "markers",
         "name": "",
         "scene": "scene",
         "showlegend": false,
         "type": "scatter3d",
         "x": [
          20.843567950531856
         ],
         "y": [
          18.60203748166722
         ],
         "z": [
          -45.28709111035161
         ]
        },
        {
         "hovertemplate": "x=%{x}<br>y=%{y}<br>z=%{z}<extra></extra>",
         "legendgroup": "",
         "marker": {
          "color": "rgb(9, 45, 118)",
          "symbol": "circle"
         },
         "mode": "markers",
         "name": "",
         "scene": "scene",
         "showlegend": false,
         "type": "scatter3d",
         "x": [
          20.991376662928666
         ],
         "y": [
          19.00486764651682
         ],
         "z": [
          -45.039518596813586
         ]
        },
        {
         "hovertemplate": "x=%{x}<br>y=%{y}<br>z=%{z}<extra></extra>",
         "legendgroup": "",
         "marker": {
          "color": "rgb(11, 49, 118)",
          "symbol": "circle"
         },
         "mode": "markers",
         "name": "",
         "scene": "scene",
         "showlegend": false,
         "type": "scatter3d",
         "x": [
          22.21626148458435
         ],
         "y": [
          16.240147062951653
         ],
         "z": [
          -43.04024240434992
         ]
        },
        {
         "hovertemplate": "x=%{x}<br>y=%{y}<br>z=%{z}<extra></extra>",
         "legendgroup": "",
         "marker": {
          "color": "rgb(6, 48, 119)",
          "symbol": "circle"
         },
         "mode": "markers",
         "name": "",
         "scene": "scene",
         "showlegend": false,
         "type": "scatter3d",
         "x": [
          21.88838975863827
         ],
         "y": [
          17.05563500682225
         ],
         "z": [
          -44.21707618914107
         ]
        },
        {
         "hovertemplate": "x=%{x}<br>y=%{y}<br>z=%{z}<extra></extra>",
         "legendgroup": "",
         "marker": {
          "color": "rgb(18, 54, 119)",
          "symbol": "circle"
         },
         "mode": "markers",
         "name": "",
         "scene": "scene",
         "showlegend": false,
         "type": "scatter3d",
         "x": [
          23.99555105689018
         ],
         "y": [
          13.673610128122737
         ],
         "z": [
          -40.77874025993976
         ]
        },
        {
         "hovertemplate": "x=%{x}<br>y=%{y}<br>z=%{z}<extra></extra>",
         "legendgroup": "",
         "marker": {
          "color": "rgb(14, 52, 120)",
          "symbol": "circle"
         },
         "mode": "markers",
         "name": "",
         "scene": "scene",
         "showlegend": false,
         "type": "scatter3d",
         "x": [
          23.356237396441813
         ],
         "y": [
          15.165478312273134
         ],
         "z": [
          -42.456438766583204
         ]
        },
        {
         "hovertemplate": "x=%{x}<br>y=%{y}<br>z=%{z}<extra></extra>",
         "legendgroup": "",
         "marker": {
          "color": "rgb(24, 59, 120)",
          "symbol": "circle"
         },
         "mode": "markers",
         "name": "",
         "scene": "scene",
         "showlegend": false,
         "type": "scatter3d",
         "x": [
          25.797515191125314
         ],
         "y": [
          11.228158456207865
         ],
         "z": [
          -38.490618079970204
         ]
        },
        {
         "hovertemplate": "x=%{x}<br>y=%{y}<br>z=%{z}<extra></extra>",
         "legendgroup": "",
         "marker": {
          "color": "rgb(57, 73, 120)",
          "symbol": "circle"
         },
         "mode": "markers",
         "name": "",
         "scene": "scene",
         "showlegend": false,
         "type": "scatter3d",
         "x": [
          31.786435242013113
         ],
         "y": [
          8.10011474036551
         ],
         "z": [
          -28.830528929103227
         ]
        },
        {
         "hovertemplate": "x=%{x}<br>y=%{y}<br>z=%{z}<extra></extra>",
         "legendgroup": "",
         "marker": {
          "color": "rgb(3, 46, 121)",
          "symbol": "circle"
         },
         "mode": "markers",
         "name": "",
         "scene": "scene",
         "showlegend": false,
         "type": "scatter3d",
         "x": [
          21.408600997119905
         ],
         "y": [
          19.176321610944402
         ],
         "z": [
          -46.2773431806003
         ]
        },
        {
         "hovertemplate": "x=%{x}<br>y=%{y}<br>z=%{z}<extra></extra>",
         "legendgroup": "",
         "marker": {
          "color": "rgb(10, 50, 121)",
          "symbol": "circle"
         },
         "mode": "markers",
         "name": "",
         "scene": "scene",
         "showlegend": false,
         "type": "scatter3d",
         "x": [
          22.744831405863536
         ],
         "y": [
          16.738478687677638
         ],
         "z": [
          -44.090401888834066
         ]
        },
        {
         "hovertemplate": "x=%{x}<br>y=%{y}<br>z=%{z}<extra></extra>",
         "legendgroup": "",
         "marker": {
          "color": "rgb(53, 69, 121)",
          "symbol": "circle"
         },
         "mode": "markers",
         "name": "",
         "scene": "scene",
         "showlegend": false,
         "type": "scatter3d",
         "x": [
          30.384537502328115
         ],
         "y": [
          10.121580507908345
         ],
         "z": [
          -31.693825779473872
         ]
        },
        {
         "hovertemplate": "x=%{x}<br>y=%{y}<br>z=%{z}<extra></extra>",
         "legendgroup": "",
         "marker": {
          "color": "rgb(6, 49, 122)",
          "symbol": "circle"
         },
         "mode": "markers",
         "name": "",
         "scene": "scene",
         "showlegend": false,
         "type": "scatter3d",
         "x": [
          22.44539878458788
         ],
         "y": [
          17.629674597329227
         ],
         "z": [
          -45.21724265630993
         ]
        },
        {
         "hovertemplate": "x=%{x}<br>y=%{y}<br>z=%{z}<extra></extra>",
         "legendgroup": "",
         "marker": {
          "color": "rgb(15, 56, 123)",
          "symbol": "circle"
         },
         "mode": "markers",
         "name": "",
         "scene": "scene",
         "showlegend": false,
         "type": "scatter3d",
         "x": [
          24.82745721361846
         ],
         "y": [
          13.664370164621548
         ],
         "z": [
          -41.96850183225115
         ]
        },
        {
         "hovertemplate": "x=%{x}<br>y=%{y}<br>z=%{z}<extra></extra>",
         "legendgroup": "",
         "marker": {
          "color": "rgb(10, 53, 124)",
          "symbol": "circle"
         },
         "mode": "markers",
         "name": "",
         "scene": "scene",
         "showlegend": false,
         "type": "scatter3d",
         "x": [
          23.888354245803114
         ],
         "y": [
          15.866516637856598
         ],
         "z": [
          -44.13022185996107
         ]
        },
        {
         "hovertemplate": "x=%{x}<br>y=%{y}<br>z=%{z}<extra></extra>",
         "legendgroup": "",
         "marker": {
          "color": "rgb(20, 60, 124)",
          "symbol": "circle"
         },
         "mode": "markers",
         "name": "",
         "scene": "scene",
         "showlegend": false,
         "type": "scatter3d",
         "x": [
          26.26138425287988
         ],
         "y": [
          11.728513929543883
         ],
         "z": [
          -40.27250164948503
         ]
        },
        {
         "hovertemplate": "x=%{x}<br>y=%{y}<br>z=%{z}<extra></extra>",
         "legendgroup": "",
         "marker": {
          "color": "rgb(5, 50, 125)",
          "symbol": "circle"
         },
         "mode": "markers",
         "name": "",
         "scene": "scene",
         "showlegend": false,
         "type": "scatter3d",
         "x": [
          22.97884965153861
         ],
         "y": [
          18.137783452224582
         ],
         "z": [
          -46.248433025598914
         ]
        },
        {
         "hovertemplate": "x=%{x}<br>y=%{y}<br>z=%{z}<extra></extra>",
         "legendgroup": "",
         "marker": {
          "color": "rgb(56, 72, 125)",
          "symbol": "circle"
         },
         "mode": "markers",
         "name": "",
         "scene": "scene",
         "showlegend": false,
         "type": "scatter3d",
         "x": [
          31.706877376426313
         ],
         "y": [
          10.244047898132298
         ],
         "z": [
          -32.07926967444279
         ]
        },
        {
         "hovertemplate": "x=%{x}<br>y=%{y}<br>z=%{z}<extra></extra>",
         "legendgroup": "",
         "marker": {
          "color": "rgb(57, 77, 126)",
          "symbol": "circle"
         },
         "mode": "markers",
         "name": "",
         "scene": "scene",
         "showlegend": false,
         "type": "scatter3d",
         "x": [
          33.3158516059557
         ],
         "y": [
          7.52646206667279
         ],
         "z": [
          -30.14769568747032
         ]
        },
        {
         "hovertemplate": "x=%{x}<br>y=%{y}<br>z=%{z}<extra></extra>",
         "legendgroup": "",
         "marker": {
          "color": "rgb(36, 88, 126)",
          "symbol": "circle"
         },
         "mode": "markers",
         "name": "",
         "scene": "scene",
         "showlegend": false,
         "type": "scatter3d",
         "x": [
          35.71503586335937
         ],
         "y": [
          -3.9422227215503423
         ],
         "z": [
          -26.44102742417257
         ]
        },
        {
         "hovertemplate": "x=%{x}<br>y=%{y}<br>z=%{z}<extra></extra>",
         "legendgroup": "",
         "marker": {
          "color": "rgb(3, 50, 127)",
          "symbol": "circle"
         },
         "mode": "markers",
         "name": "",
         "scene": "scene",
         "showlegend": false,
         "type": "scatter3d",
         "x": [
          23.11103655274939
         ],
         "y": [
          18.87523329783669
         ],
         "z": [
          -47.29732622903621
         ]
        },
        {
         "hovertemplate": "x=%{x}<br>y=%{y}<br>z=%{z}<extra></extra>",
         "legendgroup": "",
         "marker": {
          "color": "rgb(11, 55, 127)",
          "symbol": "circle"
         },
         "mode": "markers",
         "name": "",
         "scene": "scene",
         "showlegend": false,
         "type": "scatter3d",
         "x": [
          24.751982432213836
         ],
         "y": [
          15.784375205221135
         ],
         "z": [
          -44.61657177983271
         ]
        },
        {
         "hovertemplate": "x=%{x}<br>y=%{y}<br>z=%{z}<extra></extra>",
         "legendgroup": "",
         "marker": {
          "color": "rgb(16, 59, 127)",
          "symbol": "circle"
         },
         "mode": "markers",
         "name": "",
         "scene": "scene",
         "showlegend": false,
         "type": "scatter3d",
         "x": [
          26.070346107366774
         ],
         "y": [
          13.318259361324857
         ],
         "z": [
          -42.47230189348
         ]
        },
        {
         "hovertemplate": "x=%{x}<br>y=%{y}<br>z=%{z}<extra></extra>",
         "legendgroup": "",
         "marker": {
          "color": "rgb(24, 66, 128)",
          "symbol": "circle"
         },
         "mode": "markers",
         "name": "",
         "scene": "scene",
         "showlegend": false,
         "type": "scatter3d",
         "x": [
          28.509416790470645
         ],
         "y": [
          9.650751808081615
         ],
         "z": [
          -39.150317366664375
         ]
        },
        {
         "hovertemplate": "x=%{x}<br>y=%{y}<br>z=%{z}<extra></extra>",
         "legendgroup": "",
         "marker": {
          "color": "rgb(4, 53, 129)",
          "symbol": "circle"
         },
         "mode": "markers",
         "name": "",
         "scene": "scene",
         "showlegend": false,
         "type": "scatter3d",
         "x": [
          24.183821040164823
         ],
         "y": [
          17.64130005933656
         ],
         "z": [
          -46.8050315706213
         ]
        },
        {
         "hovertemplate": "x=%{x}<br>y=%{y}<br>z=%{z}<extra></extra>",
         "legendgroup": "",
         "marker": {
          "color": "rgb(10, 57, 130)",
          "symbol": "circle"
         },
         "mode": "markers",
         "name": "",
         "scene": "scene",
         "showlegend": false,
         "type": "scatter3d",
         "x": [
          25.57085514607033
         ],
         "y": [
          15.5770509543397
         ],
         "z": [
          -45.16959092947075
         ]
        },
        {
         "hovertemplate": "x=%{x}<br>y=%{y}<br>z=%{z}<extra></extra>",
         "legendgroup": "",
         "marker": {
          "color": "rgb(16, 62, 130)",
          "symbol": "circle"
         },
         "mode": "markers",
         "name": "",
         "scene": "scene",
         "showlegend": false,
         "type": "scatter3d",
         "x": [
          27.205661995632084
         ],
         "y": [
          12.471994472553954
         ],
         "z": [
          -42.513333078045946
         ]
        },
        {
         "hovertemplate": "x=%{x}<br>y=%{y}<br>z=%{z}<extra></extra>",
         "legendgroup": "",
         "marker": {
          "color": "rgb(57, 78, 130)",
          "symbol": "circle"
         },
         "mode": "markers",
         "name": "",
         "scene": "scene",
         "showlegend": false,
         "type": "scatter3d",
         "x": [
          33.83738933356256
         ],
         "y": [
          8.259340883259913
         ],
         "z": [
          -31.795657213071504
         ]
        },
        {
         "hovertemplate": "x=%{x}<br>y=%{y}<br>z=%{z}<extra></extra>",
         "legendgroup": "",
         "marker": {
          "color": "rgb(16, 64, 133)",
          "symbol": "circle"
         },
         "mode": "markers",
         "name": "",
         "scene": "scene",
         "showlegend": false,
         "type": "scatter3d",
         "x": [
          28.034983722336335
         ],
         "y": [
          12.336446371845666
         ],
         "z": [
          -43.0418184277364
         ]
        },
        {
         "hovertemplate": "x=%{x}<br>y=%{y}<br>z=%{z}<extra></extra>",
         "legendgroup": "",
         "marker": {
          "color": "rgb(58, 80, 133)",
          "symbol": "circle"
         },
         "mode": "markers",
         "name": "",
         "scene": "scene",
         "showlegend": false,
         "type": "scatter3d",
         "x": [
          34.66155368714728
         ],
         "y": [
          8.229511362413843
         ],
         "z": [
          -32.333554391139394
         ]
        },
        {
         "hovertemplate": "x=%{x}<br>y=%{y}<br>z=%{z}<extra></extra>",
         "legendgroup": "",
         "marker": {
          "color": "rgb(3, 54, 134)",
          "symbol": "circle"
         },
         "mode": "markers",
         "name": "",
         "scene": "scene",
         "showlegend": false,
         "type": "scatter3d",
         "x": [
          24.88654591115683
         ],
         "y": [
          19.013466945373843
         ],
         "z": [
          -48.79117266165972
         ]
        },
        {
         "hovertemplate": "x=%{x}<br>y=%{y}<br>z=%{z}<extra></extra>",
         "legendgroup": "",
         "marker": {
          "color": "rgb(10, 60, 134)",
          "symbol": "circle"
         },
         "mode": "markers",
         "name": "",
         "scene": "scene",
         "showlegend": false,
         "type": "scatter3d",
         "x": [
          26.78450105055522
         ],
         "y": [
          15.155496667824925
         ],
         "z": [
          -45.695853508272634
         ]
        },
        {
         "hovertemplate": "x=%{x}<br>y=%{y}<br>z=%{z}<extra></extra>",
         "legendgroup": "",
         "marker": {
          "color": "rgb(18, 67, 135)",
          "symbol": "circle"
         },
         "mode": "markers",
         "name": "",
         "scene": "scene",
         "showlegend": false,
         "type": "scatter3d",
         "x": [
          29.13879172892255
         ],
         "y": [
          11.256164501391746
         ],
         "z": [
          -42.49779376355999
         ]
        },
        {
         "hovertemplate": "x=%{x}<br>y=%{y}<br>z=%{z}<extra></extra>",
         "legendgroup": "",
         "marker": {
          "color": "rgb(25, 72, 135)",
          "symbol": "circle"
         },
         "mode": "markers",
         "name": "",
         "scene": "scene",
         "showlegend": false,
         "type": "scatter3d",
         "x": [
          30.85628989021336
         ],
         "y": [
          8.523729795495289
         ],
         "z": [
          -39.72321032984605
         ]
        },
        {
         "hovertemplate": "x=%{x}<br>y=%{y}<br>z=%{z}<extra></extra>",
         "legendgroup": "",
         "marker": {
          "color": "rgb(58, 83, 137)",
          "symbol": "circle"
         },
         "mode": "markers",
         "name": "",
         "scene": "scene",
         "showlegend": false,
         "type": "scatter3d",
         "x": [
          35.77590182966644
         ],
         "y": [
          7.668992571664313
         ],
         "z": [
          -33.01961448211161
         ]
        },
        {
         "hovertemplate": "x=%{x}<br>y=%{y}<br>z=%{z}<extra></extra>",
         "legendgroup": "",
         "marker": {
          "color": "rgb(11, 63, 138)",
          "symbol": "circle"
         },
         "mode": "markers",
         "name": "",
         "scene": "scene",
         "showlegend": false,
         "type": "scatter3d",
         "x": [
          28.01010465367999
         ],
         "y": [
          14.800375186932252
         ],
         "z": [
          -46.18878756903825
         ]
        },
        {
         "hovertemplate": "x=%{x}<br>y=%{y}<br>z=%{z}<extra></extra>",
         "legendgroup": "",
         "marker": {
          "color": "rgb(19, 71, 138)",
          "symbol": "circle"
         },
         "mode": "markers",
         "name": "",
         "scene": "scene",
         "showlegend": false,
         "type": "scatter3d",
         "x": [
          30.592297566963367
         ],
         "y": [
          9.837596502553946
         ],
         "z": [
          -42.0068136147808
         ]
        },
        {
         "hovertemplate": "x=%{x}<br>y=%{y}<br>z=%{z}<extra></extra>",
         "legendgroup": "",
         "marker": {
          "color": "rgb(2, 56, 140)",
          "symbol": "circle"
         },
         "mode": "markers",
         "name": "",
         "scene": "scene",
         "showlegend": false,
         "type": "scatter3d",
         "x": [
          25.965160324951498
         ],
         "y": [
          20.093975244887513
         ],
         "z": [
          -50.76297333629065
         ]
        },
        {
         "hovertemplate": "x=%{x}<br>y=%{y}<br>z=%{z}<extra></extra>",
         "legendgroup": "",
         "marker": {
          "color": "rgb(27, 77, 140)",
          "symbol": "circle"
         },
         "mode": "markers",
         "name": "",
         "scene": "scene",
         "showlegend": false,
         "type": "scatter3d",
         "x": [
          32.775647446757105
         ],
         "y": [
          7.405970382881128
         ],
         "z": [
          -39.71677510816873
         ]
        },
        {
         "hovertemplate": "x=%{x}<br>y=%{y}<br>z=%{z}<extra></extra>",
         "legendgroup": "",
         "marker": {
          "color": "rgb(13, 67, 141)",
          "symbol": "circle"
         },
         "mode": "markers",
         "name": "",
         "scene": "scene",
         "showlegend": false,
         "type": "scatter3d",
         "x": [
          29.47032346712372
         ],
         "y": [
          13.397803019300241
         ],
         "z": [
          -45.67263762898026
         ]
        },
        {
         "hovertemplate": "x=%{x}<br>y=%{y}<br>z=%{z}<extra></extra>",
         "legendgroup": "",
         "marker": {
          "color": "rgb(50, 85, 141)",
          "symbol": "circle"
         },
         "mode": "markers",
         "name": "",
         "scene": "scene",
         "showlegend": false,
         "type": "scatter3d",
         "x": [
          36.172673308219615
         ],
         "y": [
          6.1073653531506515
         ],
         "z": [
          -34.856359262570905
         ]
        },
        {
         "hovertemplate": "x=%{x}<br>y=%{y}<br>z=%{z}<extra></extra>",
         "legendgroup": "",
         "marker": {
          "color": "rgb(20, 74, 142)",
          "symbol": "circle"
         },
         "mode": "markers",
         "name": "",
         "scene": "scene",
         "showlegend": false,
         "type": "scatter3d",
         "x": [
          31.805259351608726
         ],
         "y": [
          9.535842534784067
         ],
         "z": [
          -42.51059521349813
         ]
        },
        {
         "hovertemplate": "x=%{x}<br>y=%{y}<br>z=%{z}<extra></extra>",
         "legendgroup": "",
         "marker": {
          "color": "rgb(58, 86, 142)",
          "symbol": "circle"
         },
         "mode": "markers",
         "name": "",
         "scene": "scene",
         "showlegend": false,
         "type": "scatter3d",
         "x": [
          36.94473111592479
         ],
         "y": [
          7.478011572812582
         ],
         "z": [
          -34.21358196847747
         ]
        },
        {
         "hovertemplate": "x=%{x}<br>y=%{y}<br>z=%{z}<extra></extra>",
         "legendgroup": "",
         "marker": {
          "color": "rgb(14, 71, 145)",
          "symbol": "circle"
         },
         "mode": "markers",
         "name": "",
         "scene": "scene",
         "showlegend": false,
         "type": "scatter3d",
         "x": [
          30.982734209332342
         ],
         "y": [
          12.375522685344754
         ],
         "z": [
          -45.68068517141106
         ]
        },
        {
         "hovertemplate": "x=%{x}<br>y=%{y}<br>z=%{z}<extra></extra>",
         "legendgroup": "",
         "marker": {
          "color": "rgb(22, 78, 145)",
          "symbol": "circle"
         },
         "mode": "markers",
         "name": "",
         "scene": "scene",
         "showlegend": false,
         "type": "scatter3d",
         "x": [
          33.2724185243632
         ],
         "y": [
          8.246166528550509
         ],
         "z": [
          -41.98281371984026
         ]
        },
        {
         "hovertemplate": "x=%{x}<br>y=%{y}<br>z=%{z}<extra></extra>",
         "legendgroup": "",
         "marker": {
          "color": "rgb(4, 62, 146)",
          "symbol": "circle"
         },
         "mode": "markers",
         "name": "",
         "scene": "scene",
         "showlegend": false,
         "type": "scatter3d",
         "x": [
          28.2379124638244
         ],
         "y": [
          18.51124981665381
         ],
         "z": [
          -50.75549749994421
         ]
        },
        {
         "hovertemplate": "x=%{x}<br>y=%{y}<br>z=%{z}<extra></extra>",
         "legendgroup": "",
         "marker": {
          "color": "rgb(29, 83, 146)",
          "symbol": "circle"
         },
         "mode": "markers",
         "name": "",
         "scene": "scene",
         "showlegend": false,
         "type": "scatter3d",
         "x": [
          35.04927878383876
         ],
         "y": [
          6.053766616434614
         ],
         "z": [
          -39.733525101587915
         ]
        },
        {
         "hovertemplate": "x=%{x}<br>y=%{y}<br>z=%{z}<extra></extra>",
         "legendgroup": "",
         "marker": {
          "color": "rgb(62, 95, 147)",
          "symbol": "circle"
         },
         "mode": "markers",
         "name": "",
         "scene": "scene",
         "showlegend": false,
         "type": "scatter3d",
         "x": [
          40.10624915467935
         ],
         "y": [
          4.346432406321071
         ],
         "z": [
          -32.224353641329614
         ]
        },
        {
         "hovertemplate": "x=%{x}<br>y=%{y}<br>z=%{z}<extra></extra>",
         "legendgroup": "",
         "marker": {
          "color": "rgb(54, 90, 149)",
          "symbol": "circle"
         },
         "mode": "markers",
         "name": "",
         "scene": "scene",
         "showlegend": false,
         "type": "scatter3d",
         "x": [
          38.316587129832115
         ],
         "y": [
          6.5647287843852435
         ],
         "z": [
          -36.28450526502374
         ]
        },
        {
         "hovertemplate": "x=%{x}<br>y=%{y}<br>z=%{z}<extra></extra>",
         "legendgroup": "",
         "marker": {
          "color": "rgb(15, 75, 150)",
          "symbol": "circle"
         },
         "mode": "markers",
         "name": "",
         "scene": "scene",
         "showlegend": false,
         "type": "scatter3d",
         "x": [
          32.55928098031151
         ],
         "y": [
          11.787339435714944
         ],
         "z": [
          -46.18238423953841
         ]
        },
        {
         "hovertemplate": "x=%{x}<br>y=%{y}<br>z=%{z}<extra></extra>",
         "legendgroup": "",
         "marker": {
          "color": "rgb(22, 81, 150)",
          "symbol": "circle"
         },
         "mode": "markers",
         "name": "",
         "scene": "scene",
         "showlegend": false,
         "type": "scatter3d",
         "x": [
          34.51338555173079
         ],
         "y": [
          8.278452122254615
         ],
         "z": [
          -43.02822729495129
         ]
        },
        {
         "hovertemplate": "x=%{x}<br>y=%{y}<br>z=%{z}<extra></extra>",
         "legendgroup": "",
         "marker": {
          "color": "rgb(25, 86, 152)",
          "symbol": "circle"
         },
         "mode": "markers",
         "name": "",
         "scene": "scene",
         "showlegend": false,
         "type": "scatter3d",
         "x": [
          36.231961318349605
         ],
         "y": [
          6.053561361458071
         ],
         "z": [
          -41.47790802449206
         ]
        },
        {
         "hovertemplate": "x=%{x}<br>y=%{y}<br>z=%{z}<extra></extra>",
         "legendgroup": "",
         "marker": {
          "color": "rgb(34, 90, 152)",
          "symbol": "circle"
         },
         "mode": "markers",
         "name": "",
         "scene": "scene",
         "showlegend": false,
         "type": "scatter3d",
         "x": [
          37.69739867487048
         ],
         "y": [
          4.45570748935395
         ],
         "z": [
          -39.12315888340373
         ]
        },
        {
         "hovertemplate": "x=%{x}<br>y=%{y}<br>z=%{z}<extra></extra>",
         "legendgroup": "",
         "marker": {
          "color": "rgb(16, 81, 155)",
          "symbol": "circle"
         },
         "mode": "markers",
         "name": "",
         "scene": "scene",
         "showlegend": false,
         "type": "scatter3d",
         "x": [
          34.72484227014736
         ],
         "y": [
          9.864008887505271
         ],
         "z": [
          -45.71697953972463
         ]
        },
        {
         "hovertemplate": "x=%{x}<br>y=%{y}<br>z=%{z}<extra></extra>",
         "legendgroup": "",
         "marker": {
          "color": "rgb(28, 91, 156)",
          "symbol": "circle"
         },
         "mode": "markers",
         "name": "",
         "scene": "scene",
         "showlegend": false,
         "type": "scatter3d",
         "x": [
          38.073582573083506
         ],
         "y": [
          4.689365065629753
         ],
         "z": [
          -40.93408386729117
         ]
        },
        {
         "hovertemplate": "x=%{x}<br>y=%{y}<br>z=%{z}<extra></extra>",
         "legendgroup": "",
         "marker": {
          "color": "rgb(63, 103, 158)",
          "symbol": "circle"
         },
         "mode": "markers",
         "name": "",
         "scene": "scene",
         "showlegend": false,
         "type": "scatter3d",
         "x": [
          43.10163691084032
         ],
         "y": [
          3.3379051655347824
         ],
         "z": [
          -34.067561573517004
         ]
        },
        {
         "hovertemplate": "x=%{x}<br>y=%{y}<br>z=%{z}<extra></extra>",
         "legendgroup": "",
         "marker": {
          "color": "rgb(20, 86, 160)",
          "symbol": "circle"
         },
         "mode": "markers",
         "name": "",
         "scene": "scene",
         "showlegend": false,
         "type": "scatter3d",
         "x": [
          36.635279075940375
         ],
         "y": [
          8.861140798437
         ],
         "z": [
          -45.64470938152883
         ]
        },
        {
         "hovertemplate": "x=%{x}<br>y=%{y}<br>z=%{z}<extra></extra>",
         "legendgroup": "",
         "marker": {
          "color": "rgb(25, 96, 160)",
          "symbol": "circle"
         },
         "mode": "markers",
         "name": "",
         "scene": "scene",
         "showlegend": false,
         "type": "scatter3d",
         "x": [
          39.7659285254131
         ],
         "y": [
          2.764322896043753
         ],
         "z": [
          -40.6281241688262
         ]
        },
        {
         "hovertemplate": "x=%{x}<br>y=%{y}<br>z=%{z}<extra></extra>",
         "legendgroup": "",
         "marker": {
          "color": "rgb(35, 96, 160)",
          "symbol": "circle"
         },
         "mode": "markers",
         "name": "",
         "scene": "scene",
         "showlegend": false,
         "type": "scatter3d",
         "x": [
          40.01684911487946
         ],
         "y": [
          3.8308265898769065
         ],
         "z": [
          -40.213404169522036
         ]
        },
        {
         "hovertemplate": "x=%{x}<br>y=%{y}<br>z=%{z}<extra></extra>",
         "legendgroup": "",
         "marker": {
          "color": "rgb(25, 92, 165)",
          "symbol": "circle"
         },
         "mode": "markers",
         "name": "",
         "scene": "scene",
         "showlegend": false,
         "type": "scatter3d",
         "x": [
          38.85969648273619
         ],
         "y": [
          7.340820065715986
         ],
         "z": [
          -45.052240206696084
         ]
        },
        {
         "hovertemplate": "x=%{x}<br>y=%{y}<br>z=%{z}<extra></extra>",
         "legendgroup": "",
         "marker": {
          "color": "rgb(28, 102, 165)",
          "symbol": "circle"
         },
         "mode": "markers",
         "name": "",
         "scene": "scene",
         "showlegend": false,
         "type": "scatter3d",
         "x": [
          41.947723847557285
         ],
         "y": [
          1.2081723343565776
         ],
         "z": [
          -40.11849602386758
         ]
        },
        {
         "hovertemplate": "x=%{x}<br>y=%{y}<br>z=%{z}<extra></extra>",
         "legendgroup": "",
         "marker": {
          "color": "rgb(44, 103, 165)",
          "symbol": "circle"
         },
         "mode": "markers",
         "name": "",
         "scene": "scene",
         "showlegend": false,
         "type": "scatter3d",
         "x": [
          42.6917096499933
         ],
         "y": [
          2.5039970684187507
         ],
         "z": [
          -38.909612880185996
         ]
        },
        {
         "hovertemplate": "x=%{x}<br>y=%{y}<br>z=%{z}<extra></extra>",
         "legendgroup": "",
         "marker": {
          "color": "rgb(68, 113, 167)",
          "symbol": "circle"
         },
         "mode": "markers",
         "name": "",
         "scene": "scene",
         "showlegend": false,
         "type": "scatter3d",
         "x": [
          46.749626810597945
         ],
         "y": [
          1.3034889146177342
         ],
         "z": [
          -33.61550701215214
         ]
        },
        {
         "hovertemplate": "x=%{x}<br>y=%{y}<br>z=%{z}<extra></extra>",
         "legendgroup": "",
         "marker": {
          "color": "rgb(36, 99, 168)",
          "symbol": "circle"
         },
         "mode": "markers",
         "name": "",
         "scene": "scene",
         "showlegend": false,
         "type": "scatter3d",
         "x": [
          41.41552445493935
         ],
         "y": [
          5.130323412583598
         ],
         "z": [
          -42.72721508616776
         ]
        },
        {
         "hovertemplate": "x=%{x}<br>y=%{y}<br>z=%{z}<extra></extra>",
         "legendgroup": "",
         "marker": {
          "color": "rgb(31, 110, 171)",
          "symbol": "circle"
         },
         "mode": "markers",
         "name": "",
         "scene": "scene",
         "showlegend": false,
         "type": "scatter3d",
         "x": [
          44.77788610966472
         ],
         "y": [
          -1.1523253370788744
         ],
         "z": [
          -39.15445978770538
         ]
        },
        {
         "hovertemplate": "x=%{x}<br>y=%{y}<br>z=%{z}<extra></extra>",
         "legendgroup": "",
         "marker": {
          "color": "rgb(43, 106, 175)",
          "symbol": "circle"
         },
         "mode": "markers",
         "name": "",
         "scene": "scene",
         "showlegend": false,
         "type": "scatter3d",
         "x": [
          44.11338290104757
         ],
         "y": [
          4.242128983688143
         ],
         "z": [
          -42.532891341708215
         ]
        },
        {
         "hovertemplate": "x=%{x}<br>y=%{y}<br>z=%{z}<extra></extra>",
         "legendgroup": "",
         "marker": {
          "color": "rgb(23, 93, 176)",
          "symbol": "circle"
         },
         "mode": "markers",
         "name": "",
         "scene": "scene",
         "showlegend": false,
         "type": "scatter3d",
         "x": [
          39.82437218703268
         ],
         "y": [
          10.932550283006798
         ],
         "z": [
          -50.01474387917079
         ]
        },
        {
         "hovertemplate": "x=%{x}<br>y=%{y}<br>z=%{z}<extra></extra>",
         "legendgroup": "",
         "marker": {
          "color": "rgb(32, 102, 176)",
          "symbol": "circle"
         },
         "mode": "markers",
         "name": "",
         "scene": "scene",
         "showlegend": false,
         "type": "scatter3d",
         "x": [
          42.679362083807234
         ],
         "y": [
          5.891798631120048
         ],
         "z": [
          -45.42398580793046
         ]
        },
        {
         "hovertemplate": "x=%{x}<br>y=%{y}<br>z=%{z}<extra></extra>",
         "legendgroup": "",
         "marker": {
          "color": "rgb(51, 113, 177)",
          "symbol": "circle"
         },
         "mode": "markers",
         "name": "",
         "scene": "scene",
         "showlegend": false,
         "type": "scatter3d",
         "x": [
          46.56297866828741
         ],
         "y": [
          1.7639676783819391
         ],
         "z": [
          -39.795784495637854
         ]
        },
        {
         "hovertemplate": "x=%{x}<br>y=%{y}<br>z=%{z}<extra></extra>",
         "legendgroup": "",
         "marker": {
          "color": "rgb(31, 115, 177)",
          "symbol": "circle"
         },
         "mode": "markers",
         "name": "",
         "scene": "scene",
         "showlegend": false,
         "type": "scatter3d",
         "x": [
          46.614395550495054
         ],
         "y": [
          -1.9202957253855457
         ],
         "z": [
          -39.74952933881622
         ]
        },
        {
         "hovertemplate": "x=%{x}<br>y=%{y}<br>z=%{z}<extra></extra>",
         "legendgroup": "",
         "marker": {
          "color": "rgb(73, 124, 177)",
          "symbol": "circle"
         },
         "mode": "markers",
         "name": "",
         "scene": "scene",
         "showlegend": false,
         "type": "scatter3d",
         "x": [
          50.69433681531528
         ],
         "y": [
          -0.9257781208316662
         ],
         "z": [
          -33.2309772511812
         ]
        },
        {
         "hovertemplate": "x=%{x}<br>y=%{y}<br>z=%{z}<extra></extra>",
         "legendgroup": "",
         "marker": {
          "color": "rgb(31, 121, 184)",
          "symbol": "circle"
         },
         "mode": "markers",
         "name": "",
         "scene": "scene",
         "showlegend": false,
         "type": "scatter3d",
         "x": [
          48.7932939943251
         ],
         "y": [
          -2.894845820894665
         ],
         "z": [
          -40.358931497310046
         ]
        },
        {
         "hovertemplate": "x=%{x}<br>y=%{y}<br>z=%{z}<extra></extra>",
         "legendgroup": "",
         "marker": {
          "color": "rgb(43, 113, 186)",
          "symbol": "circle"
         },
         "mode": "markers",
         "name": "",
         "scene": "scene",
         "showlegend": false,
         "type": "scatter3d",
         "x": [
          46.80217120011776
         ],
         "y": [
          4.014064235943637
         ],
         "z": [
          -44.65704911900716
         ]
        },
        {
         "hovertemplate": "x=%{x}<br>y=%{y}<br>z=%{z}<extra></extra>",
         "legendgroup": "",
         "marker": {
          "color": "rgb(77, 134, 186)",
          "symbol": "circle"
         },
         "mode": "markers",
         "name": "",
         "scene": "scene",
         "showlegend": false,
         "type": "scatter3d",
         "x": [
          54.21023468358723
         ],
         "y": [
          -3.0301190331091243
         ],
         "z": [
          -32.893454744644316
         ]
        },
        {
         "hovertemplate": "x=%{x}<br>y=%{y}<br>z=%{z}<extra></extra>",
         "legendgroup": "",
         "marker": {
          "color": "rgb(58, 118, 187)",
          "symbol": "circle"
         },
         "mode": "markers",
         "name": "",
         "scene": "scene",
         "showlegend": false,
         "type": "scatter3d",
         "x": [
          48.81500155830143
         ],
         "y": [
          3.398139718573001
         ],
         "z": [
          -42.00743360795369
         ]
        },
        {
         "hovertemplate": "x=%{x}<br>y=%{y}<br>z=%{z}<extra></extra>",
         "legendgroup": "",
         "marker": {
          "color": "rgb(30, 104, 191)",
          "symbol": "circle"
         },
         "mode": "markers",
         "name": "",
         "scene": "scene",
         "showlegend": false,
         "type": "scatter3d",
         "x": [
          44.14422476887756
         ],
         "y": [
          10.293377015599903
         ],
         "z": [
          -51.82323235235886
         ]
        },
        {
         "hovertemplate": "x=%{x}<br>y=%{y}<br>z=%{z}<extra></extra>",
         "legendgroup": "",
         "marker": {
          "color": "rgb(64, 126, 196)",
          "symbol": "circle"
         },
         "mode": "markers",
         "name": "",
         "scene": "scene",
         "showlegend": false,
         "type": "scatter3d",
         "x": [
          51.83406820784377
         ],
         "y": [
          2.7022407852962393
         ],
         "z": [
          -42.37798092303735
         ]
        },
        {
         "hovertemplate": "x=%{x}<br>y=%{y}<br>z=%{z}<extra></extra>",
         "legendgroup": "",
         "marker": {
          "color": "rgb(93, 141, 199)",
          "symbol": "circle"
         },
         "mode": "markers",
         "name": "",
         "scene": "scene",
         "showlegend": false,
         "type": "scatter3d",
         "x": [
          57.55979174287275
         ],
         "y": [
          0.4789413933707354
         ],
         "z": [
          -34.991728716603966
         ]
        },
        {
         "hovertemplate": "x=%{x}<br>y=%{y}<br>z=%{z}<extra></extra>",
         "legendgroup": "",
         "marker": {
          "color": "rgb(44, 119, 200)",
          "symbol": "circle"
         },
         "mode": "markers",
         "name": "",
         "scene": "scene",
         "showlegend": false,
         "type": "scatter3d",
         "x": [
          49.37368626526175
         ],
         "y": [
          5.670041569872664
         ],
         "z": [
          -48.613121447126574
         ]
        },
        {
         "hovertemplate": "x=%{x}<br>y=%{y}<br>z=%{z}<extra></extra>",
         "legendgroup": "",
         "marker": {
          "color": "rgb(72, 134, 201)",
          "symbol": "circle"
         },
         "mode": "markers",
         "name": "",
         "scene": "scene",
         "showlegend": false,
         "type": "scatter3d",
         "x": [
          54.70473459821255
         ],
         "y": [
          1.018028001275928
         ],
         "z": [
          -40.66996271724071
         ]
        },
        {
         "hovertemplate": "x=%{x}<br>y=%{y}<br>z=%{z}<extra></extra>",
         "legendgroup": "",
         "marker": {
          "color": "rgb(76, 140, 211)",
          "symbol": "circle"
         },
         "mode": "markers",
         "name": "",
         "scene": "scene",
         "showlegend": false,
         "type": "scatter3d",
         "x": [
          57.07134332505966
         ],
         "y": [
          1.5749900856265597
         ],
         "z": [
          -42.57330700837989
         ]
        },
        {
         "hovertemplate": "x=%{x}<br>y=%{y}<br>z=%{z}<extra></extra>",
         "legendgroup": "",
         "marker": {
          "color": "rgb(53, 130, 214)",
          "symbol": "circle"
         },
         "mode": "markers",
         "name": "",
         "scene": "scene",
         "showlegend": false,
         "type": "scatter3d",
         "x": [
          53.57548857566806
         ],
         "y": [
          5.172245973116107
         ],
         "z": [
          -49.853007326839574
         ]
        },
        {
         "hovertemplate": "x=%{x}<br>y=%{y}<br>z=%{z}<extra></extra>",
         "legendgroup": "",
         "marker": {
          "color": "rgb(86, 148, 219)",
          "symbol": "circle"
         },
         "mode": "markers",
         "name": "",
         "scene": "scene",
         "showlegend": false,
         "type": "scatter3d",
         "x": [
          60.13432444050012
         ],
         "y": [
          1.3819708264271036
         ],
         "z": [
          -42.19859171745555
         ]
        },
        {
         "hovertemplate": "x=%{x}<br>y=%{y}<br>z=%{z}<extra></extra>",
         "legendgroup": "",
         "marker": {
          "color": "rgb(102, 157, 222)",
          "symbol": "circle"
         },
         "mode": "markers",
         "name": "",
         "scene": "scene",
         "showlegend": false,
         "type": "scatter3d",
         "x": [
          63.51824781797889
         ],
         "y": [
          0.38580790380227103
         ],
         "z": [
          -38.506793664388184
         ]
        },
        {
         "hovertemplate": "x=%{x}<br>y=%{y}<br>z=%{z}<extra></extra>",
         "legendgroup": "",
         "marker": {
          "color": "rgb(70, 146, 229)",
          "symbol": "circle"
         },
         "mode": "markers",
         "name": "",
         "scene": "scene",
         "showlegend": false,
         "type": "scatter3d",
         "x": [
          59.44984720515083
         ],
         "y": [
          3.2538129093877544
         ],
         "z": [
          -48.88266277251476
         ]
        },
        {
         "hovertemplate": "x=%{x}<br>y=%{y}<br>z=%{z}<extra></extra>",
         "legendgroup": "",
         "marker": {
          "color": "rgb(118, 170, 229)",
          "symbol": "circle"
         },
         "mode": "markers",
         "name": "",
         "scene": "scene",
         "showlegend": false,
         "type": "scatter3d",
         "x": [
          68.21044468850711
         ],
         "y": [
          -1.2525374558671754
         ],
         "z": [
          -34.990849772700926
         ]
        },
        {
         "hovertemplate": "x=%{x}<br>y=%{y}<br>z=%{z}<extra></extra>",
         "legendgroup": "",
         "marker": {
          "color": "rgb(83, 157, 238)",
          "symbol": "circle"
         },
         "mode": "markers",
         "name": "",
         "scene": "scene",
         "showlegend": false,
         "type": "scatter3d",
         "x": [
          63.446875353087805
         ],
         "y": [
          1.9383659893797978
         ],
         "z": [
          -47.503376451329046
         ]
        },
        {
         "hovertemplate": "x=%{x}<br>y=%{y}<br>z=%{z}<extra></extra>",
         "legendgroup": "",
         "marker": {
          "color": "rgb(130, 191, 246)",
          "symbol": "circle"
         },
         "mode": "markers",
         "name": "",
         "scene": "scene",
         "showlegend": false,
         "type": "scatter3d",
         "x": [
          75.24009842950147
         ],
         "y": [
          -5.113258572410018
         ],
         "z": [
          -33.28667219857502
         ]
        },
        {
         "hovertemplate": "x=%{x}<br>y=%{y}<br>z=%{z}<extra></extra>",
         "legendgroup": "",
         "marker": {
          "color": "rgb(94, 171, 253)",
          "symbol": "circle"
         },
         "mode": "markers",
         "name": "",
         "scene": "scene",
         "showlegend": false,
         "type": "scatter3d",
         "x": [
          68.45859011588162
         ],
         "y": [
          0.7337190025549778
         ],
         "z": [
          -47.76664919049487
         ]
        }
       ],
       "layout": {
        "legend": {
         "tracegroupgap": 0
        },
        "margin": {
         "t": 60
        },
        "scene": {
         "domain": {
          "x": [
           0,
           1
          ],
          "y": [
           0,
           1
          ]
         },
         "xaxis": {
          "title": {
           "text": "x"
          }
         },
         "yaxis": {
          "title": {
           "text": "y"
          }
         },
         "zaxis": {
          "title": {
           "text": "z"
          }
         }
        },
        "template": {
         "data": {
          "bar": [
           {
            "error_x": {
             "color": "#2a3f5f"
            },
            "error_y": {
             "color": "#2a3f5f"
            },
            "marker": {
             "line": {
              "color": "#E5ECF6",
              "width": 0.5
             },
             "pattern": {
              "fillmode": "overlay",
              "size": 10,
              "solidity": 0.2
             }
            },
            "type": "bar"
           }
          ],
          "barpolar": [
           {
            "marker": {
             "line": {
              "color": "#E5ECF6",
              "width": 0.5
             },
             "pattern": {
              "fillmode": "overlay",
              "size": 10,
              "solidity": 0.2
             }
            },
            "type": "barpolar"
           }
          ],
          "carpet": [
           {
            "aaxis": {
             "endlinecolor": "#2a3f5f",
             "gridcolor": "white",
             "linecolor": "white",
             "minorgridcolor": "white",
             "startlinecolor": "#2a3f5f"
            },
            "baxis": {
             "endlinecolor": "#2a3f5f",
             "gridcolor": "white",
             "linecolor": "white",
             "minorgridcolor": "white",
             "startlinecolor": "#2a3f5f"
            },
            "type": "carpet"
           }
          ],
          "choropleth": [
           {
            "colorbar": {
             "outlinewidth": 0,
             "ticks": ""
            },
            "type": "choropleth"
           }
          ],
          "contour": [
           {
            "colorbar": {
             "outlinewidth": 0,
             "ticks": ""
            },
            "colorscale": [
             [
              0,
              "#0d0887"
             ],
             [
              0.1111111111111111,
              "#46039f"
             ],
             [
              0.2222222222222222,
              "#7201a8"
             ],
             [
              0.3333333333333333,
              "#9c179e"
             ],
             [
              0.4444444444444444,
              "#bd3786"
             ],
             [
              0.5555555555555556,
              "#d8576b"
             ],
             [
              0.6666666666666666,
              "#ed7953"
             ],
             [
              0.7777777777777778,
              "#fb9f3a"
             ],
             [
              0.8888888888888888,
              "#fdca26"
             ],
             [
              1,
              "#f0f921"
             ]
            ],
            "type": "contour"
           }
          ],
          "contourcarpet": [
           {
            "colorbar": {
             "outlinewidth": 0,
             "ticks": ""
            },
            "type": "contourcarpet"
           }
          ],
          "heatmap": [
           {
            "colorbar": {
             "outlinewidth": 0,
             "ticks": ""
            },
            "colorscale": [
             [
              0,
              "#0d0887"
             ],
             [
              0.1111111111111111,
              "#46039f"
             ],
             [
              0.2222222222222222,
              "#7201a8"
             ],
             [
              0.3333333333333333,
              "#9c179e"
             ],
             [
              0.4444444444444444,
              "#bd3786"
             ],
             [
              0.5555555555555556,
              "#d8576b"
             ],
             [
              0.6666666666666666,
              "#ed7953"
             ],
             [
              0.7777777777777778,
              "#fb9f3a"
             ],
             [
              0.8888888888888888,
              "#fdca26"
             ],
             [
              1,
              "#f0f921"
             ]
            ],
            "type": "heatmap"
           }
          ],
          "heatmapgl": [
           {
            "colorbar": {
             "outlinewidth": 0,
             "ticks": ""
            },
            "colorscale": [
             [
              0,
              "#0d0887"
             ],
             [
              0.1111111111111111,
              "#46039f"
             ],
             [
              0.2222222222222222,
              "#7201a8"
             ],
             [
              0.3333333333333333,
              "#9c179e"
             ],
             [
              0.4444444444444444,
              "#bd3786"
             ],
             [
              0.5555555555555556,
              "#d8576b"
             ],
             [
              0.6666666666666666,
              "#ed7953"
             ],
             [
              0.7777777777777778,
              "#fb9f3a"
             ],
             [
              0.8888888888888888,
              "#fdca26"
             ],
             [
              1,
              "#f0f921"
             ]
            ],
            "type": "heatmapgl"
           }
          ],
          "histogram": [
           {
            "marker": {
             "pattern": {
              "fillmode": "overlay",
              "size": 10,
              "solidity": 0.2
             }
            },
            "type": "histogram"
           }
          ],
          "histogram2d": [
           {
            "colorbar": {
             "outlinewidth": 0,
             "ticks": ""
            },
            "colorscale": [
             [
              0,
              "#0d0887"
             ],
             [
              0.1111111111111111,
              "#46039f"
             ],
             [
              0.2222222222222222,
              "#7201a8"
             ],
             [
              0.3333333333333333,
              "#9c179e"
             ],
             [
              0.4444444444444444,
              "#bd3786"
             ],
             [
              0.5555555555555556,
              "#d8576b"
             ],
             [
              0.6666666666666666,
              "#ed7953"
             ],
             [
              0.7777777777777778,
              "#fb9f3a"
             ],
             [
              0.8888888888888888,
              "#fdca26"
             ],
             [
              1,
              "#f0f921"
             ]
            ],
            "type": "histogram2d"
           }
          ],
          "histogram2dcontour": [
           {
            "colorbar": {
             "outlinewidth": 0,
             "ticks": ""
            },
            "colorscale": [
             [
              0,
              "#0d0887"
             ],
             [
              0.1111111111111111,
              "#46039f"
             ],
             [
              0.2222222222222222,
              "#7201a8"
             ],
             [
              0.3333333333333333,
              "#9c179e"
             ],
             [
              0.4444444444444444,
              "#bd3786"
             ],
             [
              0.5555555555555556,
              "#d8576b"
             ],
             [
              0.6666666666666666,
              "#ed7953"
             ],
             [
              0.7777777777777778,
              "#fb9f3a"
             ],
             [
              0.8888888888888888,
              "#fdca26"
             ],
             [
              1,
              "#f0f921"
             ]
            ],
            "type": "histogram2dcontour"
           }
          ],
          "mesh3d": [
           {
            "colorbar": {
             "outlinewidth": 0,
             "ticks": ""
            },
            "type": "mesh3d"
           }
          ],
          "parcoords": [
           {
            "line": {
             "colorbar": {
              "outlinewidth": 0,
              "ticks": ""
             }
            },
            "type": "parcoords"
           }
          ],
          "pie": [
           {
            "automargin": true,
            "type": "pie"
           }
          ],
          "scatter": [
           {
            "fillpattern": {
             "fillmode": "overlay",
             "size": 10,
             "solidity": 0.2
            },
            "type": "scatter"
           }
          ],
          "scatter3d": [
           {
            "line": {
             "colorbar": {
              "outlinewidth": 0,
              "ticks": ""
             }
            },
            "marker": {
             "colorbar": {
              "outlinewidth": 0,
              "ticks": ""
             }
            },
            "type": "scatter3d"
           }
          ],
          "scattercarpet": [
           {
            "marker": {
             "colorbar": {
              "outlinewidth": 0,
              "ticks": ""
             }
            },
            "type": "scattercarpet"
           }
          ],
          "scattergeo": [
           {
            "marker": {
             "colorbar": {
              "outlinewidth": 0,
              "ticks": ""
             }
            },
            "type": "scattergeo"
           }
          ],
          "scattergl": [
           {
            "marker": {
             "colorbar": {
              "outlinewidth": 0,
              "ticks": ""
             }
            },
            "type": "scattergl"
           }
          ],
          "scattermapbox": [
           {
            "marker": {
             "colorbar": {
              "outlinewidth": 0,
              "ticks": ""
             }
            },
            "type": "scattermapbox"
           }
          ],
          "scatterpolar": [
           {
            "marker": {
             "colorbar": {
              "outlinewidth": 0,
              "ticks": ""
             }
            },
            "type": "scatterpolar"
           }
          ],
          "scatterpolargl": [
           {
            "marker": {
             "colorbar": {
              "outlinewidth": 0,
              "ticks": ""
             }
            },
            "type": "scatterpolargl"
           }
          ],
          "scatterternary": [
           {
            "marker": {
             "colorbar": {
              "outlinewidth": 0,
              "ticks": ""
             }
            },
            "type": "scatterternary"
           }
          ],
          "surface": [
           {
            "colorbar": {
             "outlinewidth": 0,
             "ticks": ""
            },
            "colorscale": [
             [
              0,
              "#0d0887"
             ],
             [
              0.1111111111111111,
              "#46039f"
             ],
             [
              0.2222222222222222,
              "#7201a8"
             ],
             [
              0.3333333333333333,
              "#9c179e"
             ],
             [
              0.4444444444444444,
              "#bd3786"
             ],
             [
              0.5555555555555556,
              "#d8576b"
             ],
             [
              0.6666666666666666,
              "#ed7953"
             ],
             [
              0.7777777777777778,
              "#fb9f3a"
             ],
             [
              0.8888888888888888,
              "#fdca26"
             ],
             [
              1,
              "#f0f921"
             ]
            ],
            "type": "surface"
           }
          ],
          "table": [
           {
            "cells": {
             "fill": {
              "color": "#EBF0F8"
             },
             "line": {
              "color": "white"
             }
            },
            "header": {
             "fill": {
              "color": "#C8D4E3"
             },
             "line": {
              "color": "white"
             }
            },
            "type": "table"
           }
          ]
         },
         "layout": {
          "annotationdefaults": {
           "arrowcolor": "#2a3f5f",
           "arrowhead": 0,
           "arrowwidth": 1
          },
          "autotypenumbers": "strict",
          "coloraxis": {
           "colorbar": {
            "outlinewidth": 0,
            "ticks": ""
           }
          },
          "colorscale": {
           "diverging": [
            [
             0,
             "#8e0152"
            ],
            [
             0.1,
             "#c51b7d"
            ],
            [
             0.2,
             "#de77ae"
            ],
            [
             0.3,
             "#f1b6da"
            ],
            [
             0.4,
             "#fde0ef"
            ],
            [
             0.5,
             "#f7f7f7"
            ],
            [
             0.6,
             "#e6f5d0"
            ],
            [
             0.7,
             "#b8e186"
            ],
            [
             0.8,
             "#7fbc41"
            ],
            [
             0.9,
             "#4d9221"
            ],
            [
             1,
             "#276419"
            ]
           ],
           "sequential": [
            [
             0,
             "#0d0887"
            ],
            [
             0.1111111111111111,
             "#46039f"
            ],
            [
             0.2222222222222222,
             "#7201a8"
            ],
            [
             0.3333333333333333,
             "#9c179e"
            ],
            [
             0.4444444444444444,
             "#bd3786"
            ],
            [
             0.5555555555555556,
             "#d8576b"
            ],
            [
             0.6666666666666666,
             "#ed7953"
            ],
            [
             0.7777777777777778,
             "#fb9f3a"
            ],
            [
             0.8888888888888888,
             "#fdca26"
            ],
            [
             1,
             "#f0f921"
            ]
           ],
           "sequentialminus": [
            [
             0,
             "#0d0887"
            ],
            [
             0.1111111111111111,
             "#46039f"
            ],
            [
             0.2222222222222222,
             "#7201a8"
            ],
            [
             0.3333333333333333,
             "#9c179e"
            ],
            [
             0.4444444444444444,
             "#bd3786"
            ],
            [
             0.5555555555555556,
             "#d8576b"
            ],
            [
             0.6666666666666666,
             "#ed7953"
            ],
            [
             0.7777777777777778,
             "#fb9f3a"
            ],
            [
             0.8888888888888888,
             "#fdca26"
            ],
            [
             1,
             "#f0f921"
            ]
           ]
          },
          "colorway": [
           "#636efa",
           "#EF553B",
           "#00cc96",
           "#ab63fa",
           "#FFA15A",
           "#19d3f3",
           "#FF6692",
           "#B6E880",
           "#FF97FF",
           "#FECB52"
          ],
          "font": {
           "color": "#2a3f5f"
          },
          "geo": {
           "bgcolor": "white",
           "lakecolor": "white",
           "landcolor": "#E5ECF6",
           "showlakes": true,
           "showland": true,
           "subunitcolor": "white"
          },
          "hoverlabel": {
           "align": "left"
          },
          "hovermode": "closest",
          "mapbox": {
           "style": "light"
          },
          "paper_bgcolor": "white",
          "plot_bgcolor": "#E5ECF6",
          "polar": {
           "angularaxis": {
            "gridcolor": "white",
            "linecolor": "white",
            "ticks": ""
           },
           "bgcolor": "#E5ECF6",
           "radialaxis": {
            "gridcolor": "white",
            "linecolor": "white",
            "ticks": ""
           }
          },
          "scene": {
           "xaxis": {
            "backgroundcolor": "#E5ECF6",
            "gridcolor": "white",
            "gridwidth": 2,
            "linecolor": "white",
            "showbackground": true,
            "ticks": "",
            "zerolinecolor": "white"
           },
           "yaxis": {
            "backgroundcolor": "#E5ECF6",
            "gridcolor": "white",
            "gridwidth": 2,
            "linecolor": "white",
            "showbackground": true,
            "ticks": "",
            "zerolinecolor": "white"
           },
           "zaxis": {
            "backgroundcolor": "#E5ECF6",
            "gridcolor": "white",
            "gridwidth": 2,
            "linecolor": "white",
            "showbackground": true,
            "ticks": "",
            "zerolinecolor": "white"
           }
          },
          "shapedefaults": {
           "line": {
            "color": "#2a3f5f"
           }
          },
          "ternary": {
           "aaxis": {
            "gridcolor": "white",
            "linecolor": "white",
            "ticks": ""
           },
           "baxis": {
            "gridcolor": "white",
            "linecolor": "white",
            "ticks": ""
           },
           "bgcolor": "#E5ECF6",
           "caxis": {
            "gridcolor": "white",
            "linecolor": "white",
            "ticks": ""
           }
          },
          "title": {
           "x": 0.05
          },
          "xaxis": {
           "automargin": true,
           "gridcolor": "white",
           "linecolor": "white",
           "ticks": "",
           "title": {
            "standoff": 15
           },
           "zerolinecolor": "white",
           "zerolinewidth": 2
          },
          "yaxis": {
           "automargin": true,
           "gridcolor": "white",
           "linecolor": "white",
           "ticks": "",
           "title": {
            "standoff": 15
           },
           "zerolinecolor": "white",
           "zerolinewidth": 2
          }
         }
        }
       }
      }
     },
     "metadata": {},
     "output_type": "display_data"
    }
   ],
   "source": [
    "lab_color = np.array([bgr_to_lab(color) for color in colors])\n",
    "# lab_color_str = [f\"rgb({color[0]}, {color[1]}, {color[2]})\" for color in lab_color]\n",
    "\n",
    "fig = px.scatter_3d(x=lab_color[:, 0], y=lab_color[:, 1], z=lab_color[:, 2], color=colors_str, color_discrete_map=\"identity\")\n",
    "fig.show()\n"
   ]
  },
  {
   "cell_type": "code",
   "execution_count": 8,
   "metadata": {},
   "outputs": [
    {
     "data": {
      "application/vnd.plotly.v1+json": {
       "config": {
        "plotlyServerURL": "https://plot.ly"
       },
       "data": [
        {
         "hovertemplate": "x=%{x}<br>y=%{y}<br>z=%{z}<br>color=%{marker.color}<extra></extra>",
         "legendgroup": "",
         "marker": {
          "color": [
           0,
           0,
           0,
           0,
           0,
           0,
           0,
           0,
           1,
           0,
           1,
           1,
           1,
           1,
           0,
           0,
           1,
           1,
           0,
           1,
           1,
           1,
           1,
           1,
           0,
           1,
           1,
           1,
           1,
           1,
           1,
           1,
           1,
           1,
           1,
           1,
           1,
           1,
           0,
           1,
           1,
           1,
           1,
           1,
           1,
           1,
           0,
           1,
           1,
           1,
           0,
           1,
           1,
           1,
           1,
           1,
           1,
           1,
           1,
           1,
           1,
           1,
           0,
           1,
           1,
           1,
           1,
           1,
           1,
           1,
           1,
           1,
           1,
           1,
           1,
           1,
           1,
           1,
           1,
           1,
           1,
           1,
           1,
           1,
           1,
           1,
           1,
           1,
           1,
           1,
           1,
           1,
           1,
           1,
           1,
           1,
           1,
           1,
           1,
           0,
           1,
           1,
           1,
           1,
           1,
           1,
           0,
           1,
           1,
           1,
           1,
           1,
           1,
           1,
           0,
           0,
           1,
           1,
           1,
           1,
           1,
           1,
           1,
           1,
           1,
           1,
           1,
           1,
           1,
           1,
           1,
           1,
           1,
           1,
           1,
           1,
           1,
           1,
           1,
           1,
           1,
           1,
           1,
           1,
           1,
           1,
           1,
           1,
           1,
           1,
           1,
           1,
           1,
           1,
           1,
           1,
           1,
           1,
           0,
           1,
           1,
           1,
           1,
           1,
           1,
           1,
           1,
           1,
           1,
           1,
           1,
           1,
           1,
           1,
           1,
           1,
           1,
           1,
           1,
           1,
           1,
           1,
           1,
           1,
           1,
           1,
           1,
           1,
           1,
           1,
           1,
           1,
           1,
           1,
           1,
           1,
           1,
           1,
           1,
           1,
           1,
           1,
           1,
           1,
           1,
           1,
           1,
           1,
           1,
           1,
           1,
           1,
           1,
           1,
           1,
           1,
           1,
           1,
           1,
           1,
           1,
           1,
           1,
           1,
           1,
           1,
           1,
           1
          ],
          "coloraxis": "coloraxis",
          "symbol": "circle"
         },
         "mode": "markers",
         "name": "",
         "scene": "scene",
         "showlegend": false,
         "type": "scatter3d",
         "x": [
          2.439599171494422,
          11.304122744735196,
          -4.739808305570209,
          10.74246610941284,
          10.521404144667667,
          -8.188233905189545,
          -3.2794727809556945,
          10.349790115714164,
          -26.2474738913415,
          10.776539336468193,
          -30.975532831889275,
          -29.579391171880353,
          -33.05428375874824,
          -33.013062808925795,
          -13.313291266105242,
          -4.083753281477476,
          -33.57263671912328,
          -32.3193628644071,
          11.426846873755158,
          -34.60871488011431,
          -33.46333571430634,
          -31.696689291048536,
          -34.50679338846865,
          -32.093755997726795,
          -0.37534656309889947,
          -35.53901714006588,
          -34.57831645189249,
          -33.92956156900368,
          -36.17294525039517,
          -35.534707951321856,
          -34.33713874414065,
          -34.594147628729424,
          -33.15633609409259,
          -36.16314893836605,
          -32.52912021485812,
          -37.694356214359594,
          -36.12096178981204,
          -34.93261763693325,
          10.518790312045379,
          -37.2194401664669,
          -36.113322386372246,
          -34.780151360477475,
          -39.192936603945434,
          -36.76865986954482,
          -35.58580745542681,
          -33.00634669519798,
          1.4375450984140725,
          -39.730265470415574,
          -38.196684295207525,
          -36.68901895236797,
          -17.486675407437534,
          -37.006728908998824,
          -35.33216486786368,
          -39.80716297340609,
          -38.261289454236056,
          -41.20362846524868,
          -37.19587115926547,
          -40.20156525847612,
          -38.86209768638147,
          -38.54036311890007,
          -36.47970114258883,
          -34.70643192791037,
          12.180488797896427,
          -40.969640453435275,
          -42.149931995089574,
          -40.66900286829455,
          -38.79142991836968,
          -42.19452715347635,
          -40.43190903818436,
          -37.78573320605548,
          -39.48865825780835,
          -37.01801333332806,
          -42.146248500572305,
          -42.01314585084689,
          -40.36457713349309,
          -37.829712843631036,
          -35.70196733469794,
          -39.262792437832296,
          -42.86296821892599,
          -42.1626745180772,
          -41.4802351486559,
          -40.462637800990706,
          -40.47358238541465,
          -38.962738221448966,
          -39.20023952083572,
          -37.11934015291687,
          -41.77207586223998,
          -40.51693627596645,
          -38.89658934040497,
          -43.68734725761758,
          -43.016228710562785,
          -40.93194127897105,
          -40.829623939547275,
          -39.216360760269794,
          -36.93674938742452,
          -43.25034678288454,
          -43.011828678613426,
          -41.539842257713524,
          -40.47223958332169,
          11.079554173545802,
          -43.473490707568494,
          -43.25980929994867,
          -41.80448396190955,
          -41.578173843219545,
          -40.461229826621704,
          -39.227489083344146,
          -2.517670500253999,
          -43.522000502654144,
          -41.46974822620613,
          -44.270187791074534,
          -41.65507938036076,
          -39.72563417624128,
          -38.50197240257681,
          -29.758748108801814,
          -22.647522769666615,
          16.777668532019586,
          -43.56504346867831,
          -43.37037727625851,
          -42.129073266347305,
          -25.265455329303588,
          -41.47940282674979,
          -44.12476385767544,
          -42.20815132032503,
          -44.331516155993135,
          -43.14165883184794,
          -40.887990073239365,
          -42.98190315512783,
          -41.66132206754193,
          -39.660027089585896,
          -26.98143957267234,
          -44.606213460109224,
          -42.68632994522568,
          -42.51787223684117,
          -44.19127723222383,
          -41.429024889201074,
          -39.606564111701836,
          -44.21933427752819,
          -43.532325859688235,
          -28.205572232558097,
          -41.87264141578658,
          -45.28709111035161,
          -45.039518596813586,
          -43.04024240434992,
          -44.21707618914107,
          -40.77874025993976,
          -42.456438766583204,
          -38.490618079970204,
          -28.830528929103227,
          -46.2773431806003,
          -44.090401888834066,
          -31.693825779473872,
          -45.21724265630993,
          -41.96850183225115,
          -44.13022185996107,
          -40.27250164948503,
          -46.248433025598914,
          -32.07926967444279,
          -30.14769568747032,
          -26.44102742417257,
          -47.29732622903621,
          -44.61657177983271,
          -42.47230189348,
          -39.150317366664375,
          -46.8050315706213,
          -45.16959092947075,
          -42.513333078045946,
          -31.795657213071504,
          -43.0418184277364,
          -32.333554391139394,
          -48.79117266165972,
          -45.695853508272634,
          -42.49779376355999,
          -39.72321032984605,
          -33.01961448211161,
          -46.18878756903825,
          -42.0068136147808,
          -50.76297333629065,
          -39.71677510816873,
          -45.67263762898026,
          -34.856359262570905,
          -42.51059521349813,
          -34.21358196847747,
          -45.68068517141106,
          -41.98281371984026,
          -50.75549749994421,
          -39.733525101587915,
          -32.224353641329614,
          -36.28450526502374,
          -46.18238423953841,
          -43.02822729495129,
          -41.47790802449206,
          -39.12315888340373,
          -45.71697953972463,
          -40.93408386729117,
          -34.067561573517004,
          -45.64470938152883,
          -40.6281241688262,
          -40.213404169522036,
          -45.052240206696084,
          -40.11849602386758,
          -38.909612880185996,
          -33.61550701215214,
          -42.72721508616776,
          -39.15445978770538,
          -42.532891341708215,
          -50.01474387917079,
          -45.42398580793046,
          -39.795784495637854,
          -39.74952933881622,
          -33.2309772511812,
          -40.358931497310046,
          -44.65704911900716,
          -32.893454744644316,
          -42.00743360795369,
          -51.82323235235886,
          -42.37798092303735,
          -34.991728716603966,
          -48.613121447126574,
          -40.66996271724071,
          -42.57330700837989,
          -49.853007326839574,
          -42.19859171745555,
          -38.506793664388184,
          -48.88266277251476,
          -34.990849772700926,
          -47.503376451329046,
          -33.28667219857502,
          -47.76664919049487
         ],
         "y": [
          -12.47655938203153,
          -17.51968846078003,
          -10.654296980482869,
          -17.275309852024634,
          -16.70919172898891,
          -9.623843669923637,
          -13.081212707976492,
          -16.12539349177894,
          8.397482462473002,
          -15.721487326330912,
          14.775674162368885,
          11.624365966287394,
          16.949125279994455,
          16.808091314154826,
          -7.8568665187633835,
          -13.170247864604773,
          16.937293729476846,
          15.76093078827219,
          -14.549781040031572,
          17.83646277374086,
          16.53433984738953,
          13.014597823207838,
          17.427567997643585,
          14.737606878488865,
          -14.00399266662314,
          18.313005955226515,
          16.782499271226907,
          16.24180646281205,
          18.327987217117954,
          17.782562933382206,
          16.584100210154844,
          15.928512770030782,
          15.08897074174867,
          17.798331980455814,
          14.270997300504822,
          19.648196717405142,
          17.584766134097972,
          16.37706232842945,
          -14.512299541686923,
          18.365383453823505,
          17.050305537933824,
          16.07226845783677,
          20.950020275576282,
          17.28902826511021,
          16.072371410074837,
          14.013823976688016,
          -13.956583508865139,
          21.07377408625137,
          19.025667404947196,
          16.856422661821913,
          -6.516621695241531,
          17.59023003688176,
          15.662869241935496,
          20.457872597945098,
          18.397258586857422,
          22.35674854482547,
          16.762946587771083,
          20.75811930510521,
          18.43026691053093,
          18.888319272920867,
          16.097087068128484,
          14.338433459821637,
          -14.098432739450717,
          20.842659128708306,
          22.984105009636686,
          20.96412216955537,
          17.987955636948133,
          22.684021477518233,
          19.656803275889175,
          16.262539810431743,
          19.312331631544886,
          15.695999058761789,
          22.238931884956596,
          21.101297829692555,
          19.21063660174302,
          15.640871588148308,
          14.514933906085242,
          17.66591368130954,
          22.123890911335153,
          21.708832198487098,
          19.91368015133885,
          19.94901879456401,
          18.507481324362974,
          16.34690126330077,
          17.224584796413534,
          14.450852244990319,
          20.362952437200516,
          17.892236138087576,
          15.905921465403678,
          22.898498951460454,
          21.135424655611164,
          19.643514811271857,
          18.349878766454026,
          16.392225622633873,
          13.989727581491945,
          21.642324916061412,
          20.605289392522042,
          18.463667322425298,
          17.13916872142962,
          -12.763280698086021,
          20.809379571935654,
          21.10786542906304,
          18.986038527827766,
          17.854857762618888,
          16.61080666259715,
          15.57032368620595,
          -11.681779973786666,
          20.20298598743314,
          17.482758431648872,
          21.65206365686875,
          18.422943839282834,
          15.492509096035946,
          14.47074637803658,
          8.353135196645905,
          -4.895795307189199,
          -12.382153831412722,
          19.598147769007397,
          19.89095104204494,
          17.38701874129822,
          7.763395870861888,
          16.65310024407493,
          19.65742909052115,
          18.237726396615138,
          20.513862118873988,
          17.96102666919322,
          15.564416238044998,
          17.95122075823641,
          17.09850992416728,
          14.301484887761424,
          8.439911984427868,
          19.561841588557144,
          16.63169032850903,
          16.921033875532178,
          18.46172879725083,
          15.400093262911586,
          13.632342500246446,
          17.86905699972677,
          17.486734308281488,
          8.465544672447727,
          15.411852239495428,
          18.60203748166722,
          19.00486764651682,
          16.240147062951653,
          17.05563500682225,
          13.673610128122737,
          15.165478312273134,
          11.228158456207865,
          8.10011474036551,
          19.176321610944402,
          16.738478687677638,
          10.121580507908345,
          17.629674597329227,
          13.664370164621548,
          15.866516637856598,
          11.728513929543883,
          18.137783452224582,
          10.244047898132298,
          7.52646206667279,
          -3.9422227215503423,
          18.87523329783669,
          15.784375205221135,
          13.318259361324857,
          9.650751808081615,
          17.64130005933656,
          15.5770509543397,
          12.471994472553954,
          8.259340883259913,
          12.336446371845666,
          8.229511362413843,
          19.013466945373843,
          15.155496667824925,
          11.256164501391746,
          8.523729795495289,
          7.668992571664313,
          14.800375186932252,
          9.837596502553946,
          20.093975244887513,
          7.405970382881128,
          13.397803019300241,
          6.1073653531506515,
          9.535842534784067,
          7.478011572812582,
          12.375522685344754,
          8.246166528550509,
          18.51124981665381,
          6.053766616434614,
          4.346432406321071,
          6.5647287843852435,
          11.787339435714944,
          8.278452122254615,
          6.053561361458071,
          4.45570748935395,
          9.864008887505271,
          4.689365065629753,
          3.3379051655347824,
          8.861140798437,
          2.764322896043753,
          3.8308265898769065,
          7.340820065715986,
          1.2081723343565776,
          2.5039970684187507,
          1.3034889146177342,
          5.130323412583598,
          -1.1523253370788744,
          4.242128983688143,
          10.932550283006798,
          5.891798631120048,
          1.7639676783819391,
          -1.9202957253855457,
          -0.9257781208316662,
          -2.894845820894665,
          4.014064235943637,
          -3.0301190331091243,
          3.398139718573001,
          10.293377015599903,
          2.7022407852962393,
          0.4789413933707354,
          5.670041569872664,
          1.018028001275928,
          1.5749900856265597,
          5.172245973116107,
          1.3819708264271036,
          0.38580790380227103,
          3.2538129093877544,
          -1.2525374558671754,
          1.9383659893797978,
          -5.113258572410018,
          0.7337190025549778
         ],
         "z": [
          9.039938908688526,
          17.959523656946807,
          11.654795568147666,
          23.334045931175822,
          26.896461136405165,
          15.504102607243375,
          21.029550248148276,
          30.406581364641646,
          9.017205082380194,
          34.26438724166452,
          7.42633287515973,
          9.149107210972314,
          7.456749389473096,
          7.910885399201749,
          20.23957931985977,
          26.28243580617584,
          8.426918710610806,
          9.18732028378573,
          38.19616487986398,
          8.648852019658552,
          9.344056863847559,
          10.427639397690754,
          9.557182916469987,
          11.448880499069464,
          31.80052686931611,
          9.773531227029444,
          10.359021505283085,
          10.75285463287124,
          10.229805221159737,
          10.616415399360374,
          11.344195483373468,
          11.610360415824275,
          12.484105054385694,
          11.072364944920434,
          13.286641519923375,
          10.558586301831827,
          11.514754724989274,
          12.237588959419778,
          42.25653039002796,
          11.678712854213831,
          12.351621419891444,
          13.161979033456976,
          10.893742024396893,
          12.368790211450843,
          13.088814689329595,
          14.662800070837196,
          36.85694491176095,
          11.393465598742239,
          12.324554601664929,
          13.24379804770032,
          25.254175333070116,
          13.459747147837145,
          14.48204489346072,
          12.16976006076818,
          13.109457260586137,
          11.731675432895656,
          14.169827342880442,
          12.748157212383983,
          13.565098839200108,
          13.756885945056055,
          15.015587439413903,
          16.100297349501197,
          46.76446213716035,
          12.693494766099018,
          12.381814034244787,
          13.279997507874064,
          14.4248093364492,
          12.761672251374808,
          13.834514891116214,
          15.447548247668003,
          14.809923121073965,
          16.321736275535635,
          13.601247338054716,
          13.686371071192216,
          14.687076500590305,
          16.235775756836688,
          17.53303254631181,
          15.76354288112762,
          13.977230785776467,
          14.399890529655814,
          14.818771293439468,
          15.431798506531948,
          15.432036029291709,
          16.35519052160999,
          16.610454065147415,
          17.885956474802498,
          15.44495831338675,
          16.213635186692812,
          17.203349073971104,
          14.682027396471028,
          15.093392107342247,
          16.756822698666703,
          16.824857098434386,
          17.810576708037274,
          19.207387885563556,
          15.749596787042798,
          15.897952907693057,
          16.795432395409136,
          17.44698480611212,
          51.31700871244141,
          16.416000312019584,
          16.543306624986087,
          17.431163025873133,
          17.57329595100169,
          18.25506169215528,
          19.008268849825022,
          42.46551263164304,
          17.18409311614011,
          18.436478537978793,
          17.12280274642719,
          18.716790382670148,
          19.900994286547615,
          20.650285554654822,
          26.05351435082745,
          30.586051549894684,
          56.92228365175167,
          17.953185746159043,
          18.069284628701773,
          18.83135114320121,
          29.254923442183077,
          19.6241651087456,
          18.40496506330956,
          19.57023386672384,
          18.67012265260464,
          19.40110861131535,
          20.778738594806967,
          19.891613107100312,
          20.696015843662998,
          21.926565941657806,
          29.77500540318431,
          19.2949434388036,
          20.47033560396011,
          20.571027668546982,
          19.94318908336149,
          21.63238502518645,
          23.143801194951493,
          20.712222955434356,
          21.130095375578712,
          30.597386245129655,
          22.538922254526042,
          20.843567950531856,
          20.991376662928666,
          22.21626148458435,
          21.88838975863827,
          23.99555105689018,
          23.356237396441813,
          25.797515191125314,
          31.786435242013113,
          21.408600997119905,
          22.744831405863536,
          30.384537502328115,
          22.44539878458788,
          24.82745721361846,
          23.888354245803114,
          26.26138425287988,
          22.97884965153861,
          31.706877376426313,
          33.3158516059557,
          35.71503586335937,
          23.11103655274939,
          24.751982432213836,
          26.070346107366774,
          28.509416790470645,
          24.183821040164823,
          25.57085514607033,
          27.205661995632084,
          33.83738933356256,
          28.034983722336335,
          34.66155368714728,
          24.88654591115683,
          26.78450105055522,
          29.13879172892255,
          30.85628989021336,
          35.77590182966644,
          28.01010465367999,
          30.592297566963367,
          25.965160324951498,
          32.775647446757105,
          29.47032346712372,
          36.172673308219615,
          31.805259351608726,
          36.94473111592479,
          30.982734209332342,
          33.2724185243632,
          28.2379124638244,
          35.04927878383876,
          40.10624915467935,
          38.316587129832115,
          32.55928098031151,
          34.51338555173079,
          36.231961318349605,
          37.69739867487048,
          34.72484227014736,
          38.073582573083506,
          43.10163691084032,
          36.635279075940375,
          39.7659285254131,
          40.01684911487946,
          38.85969648273619,
          41.947723847557285,
          42.6917096499933,
          46.749626810597945,
          41.41552445493935,
          44.77788610966472,
          44.11338290104757,
          39.82437218703268,
          42.679362083807234,
          46.56297866828741,
          46.614395550495054,
          50.69433681531528,
          48.7932939943251,
          46.80217120011776,
          54.21023468358723,
          48.81500155830143,
          44.14422476887756,
          51.83406820784377,
          57.55979174287275,
          49.37368626526175,
          54.70473459821255,
          57.07134332505966,
          53.57548857566806,
          60.13432444050012,
          63.51824781797889,
          59.44984720515083,
          68.21044468850711,
          63.446875353087805,
          75.24009842950147,
          68.45859011588162
         ]
        }
       ],
       "layout": {
        "coloraxis": {
         "colorbar": {
          "title": {
           "text": "color"
          }
         },
         "colorscale": [
          [
           0,
           "#0d0887"
          ],
          [
           0.1111111111111111,
           "#46039f"
          ],
          [
           0.2222222222222222,
           "#7201a8"
          ],
          [
           0.3333333333333333,
           "#9c179e"
          ],
          [
           0.4444444444444444,
           "#bd3786"
          ],
          [
           0.5555555555555556,
           "#d8576b"
          ],
          [
           0.6666666666666666,
           "#ed7953"
          ],
          [
           0.7777777777777778,
           "#fb9f3a"
          ],
          [
           0.8888888888888888,
           "#fdca26"
          ],
          [
           1,
           "#f0f921"
          ]
         ]
        },
        "legend": {
         "tracegroupgap": 0
        },
        "margin": {
         "t": 60
        },
        "scene": {
         "domain": {
          "x": [
           0,
           1
          ],
          "y": [
           0,
           1
          ]
         },
         "xaxis": {
          "title": {
           "text": "x"
          }
         },
         "yaxis": {
          "title": {
           "text": "y"
          }
         },
         "zaxis": {
          "title": {
           "text": "z"
          }
         }
        },
        "template": {
         "data": {
          "bar": [
           {
            "error_x": {
             "color": "#2a3f5f"
            },
            "error_y": {
             "color": "#2a3f5f"
            },
            "marker": {
             "line": {
              "color": "#E5ECF6",
              "width": 0.5
             },
             "pattern": {
              "fillmode": "overlay",
              "size": 10,
              "solidity": 0.2
             }
            },
            "type": "bar"
           }
          ],
          "barpolar": [
           {
            "marker": {
             "line": {
              "color": "#E5ECF6",
              "width": 0.5
             },
             "pattern": {
              "fillmode": "overlay",
              "size": 10,
              "solidity": 0.2
             }
            },
            "type": "barpolar"
           }
          ],
          "carpet": [
           {
            "aaxis": {
             "endlinecolor": "#2a3f5f",
             "gridcolor": "white",
             "linecolor": "white",
             "minorgridcolor": "white",
             "startlinecolor": "#2a3f5f"
            },
            "baxis": {
             "endlinecolor": "#2a3f5f",
             "gridcolor": "white",
             "linecolor": "white",
             "minorgridcolor": "white",
             "startlinecolor": "#2a3f5f"
            },
            "type": "carpet"
           }
          ],
          "choropleth": [
           {
            "colorbar": {
             "outlinewidth": 0,
             "ticks": ""
            },
            "type": "choropleth"
           }
          ],
          "contour": [
           {
            "colorbar": {
             "outlinewidth": 0,
             "ticks": ""
            },
            "colorscale": [
             [
              0,
              "#0d0887"
             ],
             [
              0.1111111111111111,
              "#46039f"
             ],
             [
              0.2222222222222222,
              "#7201a8"
             ],
             [
              0.3333333333333333,
              "#9c179e"
             ],
             [
              0.4444444444444444,
              "#bd3786"
             ],
             [
              0.5555555555555556,
              "#d8576b"
             ],
             [
              0.6666666666666666,
              "#ed7953"
             ],
             [
              0.7777777777777778,
              "#fb9f3a"
             ],
             [
              0.8888888888888888,
              "#fdca26"
             ],
             [
              1,
              "#f0f921"
             ]
            ],
            "type": "contour"
           }
          ],
          "contourcarpet": [
           {
            "colorbar": {
             "outlinewidth": 0,
             "ticks": ""
            },
            "type": "contourcarpet"
           }
          ],
          "heatmap": [
           {
            "colorbar": {
             "outlinewidth": 0,
             "ticks": ""
            },
            "colorscale": [
             [
              0,
              "#0d0887"
             ],
             [
              0.1111111111111111,
              "#46039f"
             ],
             [
              0.2222222222222222,
              "#7201a8"
             ],
             [
              0.3333333333333333,
              "#9c179e"
             ],
             [
              0.4444444444444444,
              "#bd3786"
             ],
             [
              0.5555555555555556,
              "#d8576b"
             ],
             [
              0.6666666666666666,
              "#ed7953"
             ],
             [
              0.7777777777777778,
              "#fb9f3a"
             ],
             [
              0.8888888888888888,
              "#fdca26"
             ],
             [
              1,
              "#f0f921"
             ]
            ],
            "type": "heatmap"
           }
          ],
          "heatmapgl": [
           {
            "colorbar": {
             "outlinewidth": 0,
             "ticks": ""
            },
            "colorscale": [
             [
              0,
              "#0d0887"
             ],
             [
              0.1111111111111111,
              "#46039f"
             ],
             [
              0.2222222222222222,
              "#7201a8"
             ],
             [
              0.3333333333333333,
              "#9c179e"
             ],
             [
              0.4444444444444444,
              "#bd3786"
             ],
             [
              0.5555555555555556,
              "#d8576b"
             ],
             [
              0.6666666666666666,
              "#ed7953"
             ],
             [
              0.7777777777777778,
              "#fb9f3a"
             ],
             [
              0.8888888888888888,
              "#fdca26"
             ],
             [
              1,
              "#f0f921"
             ]
            ],
            "type": "heatmapgl"
           }
          ],
          "histogram": [
           {
            "marker": {
             "pattern": {
              "fillmode": "overlay",
              "size": 10,
              "solidity": 0.2
             }
            },
            "type": "histogram"
           }
          ],
          "histogram2d": [
           {
            "colorbar": {
             "outlinewidth": 0,
             "ticks": ""
            },
            "colorscale": [
             [
              0,
              "#0d0887"
             ],
             [
              0.1111111111111111,
              "#46039f"
             ],
             [
              0.2222222222222222,
              "#7201a8"
             ],
             [
              0.3333333333333333,
              "#9c179e"
             ],
             [
              0.4444444444444444,
              "#bd3786"
             ],
             [
              0.5555555555555556,
              "#d8576b"
             ],
             [
              0.6666666666666666,
              "#ed7953"
             ],
             [
              0.7777777777777778,
              "#fb9f3a"
             ],
             [
              0.8888888888888888,
              "#fdca26"
             ],
             [
              1,
              "#f0f921"
             ]
            ],
            "type": "histogram2d"
           }
          ],
          "histogram2dcontour": [
           {
            "colorbar": {
             "outlinewidth": 0,
             "ticks": ""
            },
            "colorscale": [
             [
              0,
              "#0d0887"
             ],
             [
              0.1111111111111111,
              "#46039f"
             ],
             [
              0.2222222222222222,
              "#7201a8"
             ],
             [
              0.3333333333333333,
              "#9c179e"
             ],
             [
              0.4444444444444444,
              "#bd3786"
             ],
             [
              0.5555555555555556,
              "#d8576b"
             ],
             [
              0.6666666666666666,
              "#ed7953"
             ],
             [
              0.7777777777777778,
              "#fb9f3a"
             ],
             [
              0.8888888888888888,
              "#fdca26"
             ],
             [
              1,
              "#f0f921"
             ]
            ],
            "type": "histogram2dcontour"
           }
          ],
          "mesh3d": [
           {
            "colorbar": {
             "outlinewidth": 0,
             "ticks": ""
            },
            "type": "mesh3d"
           }
          ],
          "parcoords": [
           {
            "line": {
             "colorbar": {
              "outlinewidth": 0,
              "ticks": ""
             }
            },
            "type": "parcoords"
           }
          ],
          "pie": [
           {
            "automargin": true,
            "type": "pie"
           }
          ],
          "scatter": [
           {
            "fillpattern": {
             "fillmode": "overlay",
             "size": 10,
             "solidity": 0.2
            },
            "type": "scatter"
           }
          ],
          "scatter3d": [
           {
            "line": {
             "colorbar": {
              "outlinewidth": 0,
              "ticks": ""
             }
            },
            "marker": {
             "colorbar": {
              "outlinewidth": 0,
              "ticks": ""
             }
            },
            "type": "scatter3d"
           }
          ],
          "scattercarpet": [
           {
            "marker": {
             "colorbar": {
              "outlinewidth": 0,
              "ticks": ""
             }
            },
            "type": "scattercarpet"
           }
          ],
          "scattergeo": [
           {
            "marker": {
             "colorbar": {
              "outlinewidth": 0,
              "ticks": ""
             }
            },
            "type": "scattergeo"
           }
          ],
          "scattergl": [
           {
            "marker": {
             "colorbar": {
              "outlinewidth": 0,
              "ticks": ""
             }
            },
            "type": "scattergl"
           }
          ],
          "scattermapbox": [
           {
            "marker": {
             "colorbar": {
              "outlinewidth": 0,
              "ticks": ""
             }
            },
            "type": "scattermapbox"
           }
          ],
          "scatterpolar": [
           {
            "marker": {
             "colorbar": {
              "outlinewidth": 0,
              "ticks": ""
             }
            },
            "type": "scatterpolar"
           }
          ],
          "scatterpolargl": [
           {
            "marker": {
             "colorbar": {
              "outlinewidth": 0,
              "ticks": ""
             }
            },
            "type": "scatterpolargl"
           }
          ],
          "scatterternary": [
           {
            "marker": {
             "colorbar": {
              "outlinewidth": 0,
              "ticks": ""
             }
            },
            "type": "scatterternary"
           }
          ],
          "surface": [
           {
            "colorbar": {
             "outlinewidth": 0,
             "ticks": ""
            },
            "colorscale": [
             [
              0,
              "#0d0887"
             ],
             [
              0.1111111111111111,
              "#46039f"
             ],
             [
              0.2222222222222222,
              "#7201a8"
             ],
             [
              0.3333333333333333,
              "#9c179e"
             ],
             [
              0.4444444444444444,
              "#bd3786"
             ],
             [
              0.5555555555555556,
              "#d8576b"
             ],
             [
              0.6666666666666666,
              "#ed7953"
             ],
             [
              0.7777777777777778,
              "#fb9f3a"
             ],
             [
              0.8888888888888888,
              "#fdca26"
             ],
             [
              1,
              "#f0f921"
             ]
            ],
            "type": "surface"
           }
          ],
          "table": [
           {
            "cells": {
             "fill": {
              "color": "#EBF0F8"
             },
             "line": {
              "color": "white"
             }
            },
            "header": {
             "fill": {
              "color": "#C8D4E3"
             },
             "line": {
              "color": "white"
             }
            },
            "type": "table"
           }
          ]
         },
         "layout": {
          "annotationdefaults": {
           "arrowcolor": "#2a3f5f",
           "arrowhead": 0,
           "arrowwidth": 1
          },
          "autotypenumbers": "strict",
          "coloraxis": {
           "colorbar": {
            "outlinewidth": 0,
            "ticks": ""
           }
          },
          "colorscale": {
           "diverging": [
            [
             0,
             "#8e0152"
            ],
            [
             0.1,
             "#c51b7d"
            ],
            [
             0.2,
             "#de77ae"
            ],
            [
             0.3,
             "#f1b6da"
            ],
            [
             0.4,
             "#fde0ef"
            ],
            [
             0.5,
             "#f7f7f7"
            ],
            [
             0.6,
             "#e6f5d0"
            ],
            [
             0.7,
             "#b8e186"
            ],
            [
             0.8,
             "#7fbc41"
            ],
            [
             0.9,
             "#4d9221"
            ],
            [
             1,
             "#276419"
            ]
           ],
           "sequential": [
            [
             0,
             "#0d0887"
            ],
            [
             0.1111111111111111,
             "#46039f"
            ],
            [
             0.2222222222222222,
             "#7201a8"
            ],
            [
             0.3333333333333333,
             "#9c179e"
            ],
            [
             0.4444444444444444,
             "#bd3786"
            ],
            [
             0.5555555555555556,
             "#d8576b"
            ],
            [
             0.6666666666666666,
             "#ed7953"
            ],
            [
             0.7777777777777778,
             "#fb9f3a"
            ],
            [
             0.8888888888888888,
             "#fdca26"
            ],
            [
             1,
             "#f0f921"
            ]
           ],
           "sequentialminus": [
            [
             0,
             "#0d0887"
            ],
            [
             0.1111111111111111,
             "#46039f"
            ],
            [
             0.2222222222222222,
             "#7201a8"
            ],
            [
             0.3333333333333333,
             "#9c179e"
            ],
            [
             0.4444444444444444,
             "#bd3786"
            ],
            [
             0.5555555555555556,
             "#d8576b"
            ],
            [
             0.6666666666666666,
             "#ed7953"
            ],
            [
             0.7777777777777778,
             "#fb9f3a"
            ],
            [
             0.8888888888888888,
             "#fdca26"
            ],
            [
             1,
             "#f0f921"
            ]
           ]
          },
          "colorway": [
           "#636efa",
           "#EF553B",
           "#00cc96",
           "#ab63fa",
           "#FFA15A",
           "#19d3f3",
           "#FF6692",
           "#B6E880",
           "#FF97FF",
           "#FECB52"
          ],
          "font": {
           "color": "#2a3f5f"
          },
          "geo": {
           "bgcolor": "white",
           "lakecolor": "white",
           "landcolor": "#E5ECF6",
           "showlakes": true,
           "showland": true,
           "subunitcolor": "white"
          },
          "hoverlabel": {
           "align": "left"
          },
          "hovermode": "closest",
          "mapbox": {
           "style": "light"
          },
          "paper_bgcolor": "white",
          "plot_bgcolor": "#E5ECF6",
          "polar": {
           "angularaxis": {
            "gridcolor": "white",
            "linecolor": "white",
            "ticks": ""
           },
           "bgcolor": "#E5ECF6",
           "radialaxis": {
            "gridcolor": "white",
            "linecolor": "white",
            "ticks": ""
           }
          },
          "scene": {
           "xaxis": {
            "backgroundcolor": "#E5ECF6",
            "gridcolor": "white",
            "gridwidth": 2,
            "linecolor": "white",
            "showbackground": true,
            "ticks": "",
            "zerolinecolor": "white"
           },
           "yaxis": {
            "backgroundcolor": "#E5ECF6",
            "gridcolor": "white",
            "gridwidth": 2,
            "linecolor": "white",
            "showbackground": true,
            "ticks": "",
            "zerolinecolor": "white"
           },
           "zaxis": {
            "backgroundcolor": "#E5ECF6",
            "gridcolor": "white",
            "gridwidth": 2,
            "linecolor": "white",
            "showbackground": true,
            "ticks": "",
            "zerolinecolor": "white"
           }
          },
          "shapedefaults": {
           "line": {
            "color": "#2a3f5f"
           }
          },
          "ternary": {
           "aaxis": {
            "gridcolor": "white",
            "linecolor": "white",
            "ticks": ""
           },
           "baxis": {
            "gridcolor": "white",
            "linecolor": "white",
            "ticks": ""
           },
           "bgcolor": "#E5ECF6",
           "caxis": {
            "gridcolor": "white",
            "linecolor": "white",
            "ticks": ""
           }
          },
          "title": {
           "x": 0.05
          },
          "xaxis": {
           "automargin": true,
           "gridcolor": "white",
           "linecolor": "white",
           "ticks": "",
           "title": {
            "standoff": 15
           },
           "zerolinecolor": "white",
           "zerolinewidth": 2
          },
          "yaxis": {
           "automargin": true,
           "gridcolor": "white",
           "linecolor": "white",
           "ticks": "",
           "title": {
            "standoff": 15
           },
           "zerolinecolor": "white",
           "zerolinewidth": 2
          }
         }
        }
       }
      }
     },
     "metadata": {},
     "output_type": "display_data"
    },
    {
     "name": "stdout",
     "output_type": "stream",
     "text": [
      "[0 1]\n"
     ]
    }
   ],
   "source": [
    "\n",
    "import pandas as pd\n",
    "from sklearn.cluster import KMeans, DBSCAN, OPTICS\n",
    "from sklearn.mixture import GaussianMixture\n",
    "\n",
    "pd_data = pd.DataFrame(data=dict(R=lab_color[:, 2], G=lab_color[:, 1], B=lab_color[:, 0]))\n",
    "\n",
    "dbscan = DBSCAN(eps=10, min_samples=2)\n",
    "clusters = dbscan.fit(pd_data)\n",
    "label = clusters.labels_\n",
    "\n",
    "fig = px.scatter_3d(x=pd_data['R'], y=pd_data['G'], z=pd_data['B'], color=label, color_discrete_map=\"identity\")\n",
    "fig.show()\n",
    "print(np.unique(label))"
   ]
  },
  {
   "cell_type": "code",
   "execution_count": 11,
   "metadata": {},
   "outputs": [
    {
     "data": {
      "image/png": "[encoded data removed]",
      "text/plain": [
       "<Figure size 640x480 with 1 Axes>"
      ]
     },
     "metadata": {},
     "output_type": "display_data"
    },
    {
     "data": {
      "image/png": "[encoded data removed]",
      "text/plain": [
       "<Figure size 640x480 with 1 Axes>"
      ]
     },
     "metadata": {},
     "output_type": "display_data"
    },
    {
     "data": {
      "image/png": "[encoded data removed]",
      "text/plain": [
       "<Figure size 640x480 with 1 Axes>"
      ]
     },
     "metadata": {},
     "output_type": "display_data"
    }
   ],
   "source": [
    "\n",
    "xywh = json_load[\"frames\"][\"map00205_map2-5\"][\"frame\"]\n",
    "\n",
    "image_list = [np.zeros((xywh[\"h\"], xywh[\"w\"], 4), np.uint8) for l in np.unique(label)]\n",
    "\n",
    "\n",
    "image_rgba = image[xywh[\"y\"]:xywh[\"y\"] + xywh[\"h\"], xywh[\"x\"]:xywh[\"x\"] + xywh[\"w\"]][:, :, [2, 1, 0, 3]]\n",
    "plt.imshow(image_rgba)\n",
    "plt.show()\n",
    "\n",
    "for i, l in enumerate(np.unique(label)):\n",
    "    for y in range(xywh[\"y\"], xywh[\"y\"] + xywh[\"h\"], 1):\n",
    "        for x in range(xywh[\"x\"], xywh[\"x\"] + xywh[\"w\"], 1):\n",
    "            image_str = f'rgb({image[y, x][2]}, {image[y, x][1]}, {image[y, x][0]})'\n",
    "            label_index = colors_str.index(image_str) if image_str in colors_str else -1\n",
    "            label_bool = False if label_index == -1 else label[colors_str.index(image_str)] == l\n",
    "            image_rgba = [image[y, x][2], image[y, x][1], image[y, x][0], 255] \n",
    "            image_list[i][y - xywh[\"y\"], x - xywh[\"x\"]] = image_rgba if label_bool else [255, 255, 255, 0]\n",
    "            \n",
    "    plt.imshow(image_list[i])\n",
    "    plt.show()\n",
    "\n"
   ]
  },
  {
   "cell_type": "code",
   "execution_count": 12,
   "metadata": {},
   "outputs": [
    {
     "data": {
      "image/png": "[encoded data removed]",
      "text/plain": [
       "<Figure size 640x480 with 6 Axes>"
      ]
     },
     "metadata": {},
     "output_type": "display_data"
    }
   ],
   "source": [
    "\n",
    "fig, ax = plt.subplots(3, 2)\n",
    "\n",
    "for i, l in enumerate(np.unique(label)):\n",
    "    ax[i // 2, i % 2].imshow(image_list[i])\n",
    "    ax[i // 2, i % 2].set_title(f\"label: {l}\")\n",
    "\n",
    "image_rgba = image[xywh[\"y\"]:xywh[\"y\"] + xywh[\"h\"], xywh[\"x\"]:xywh[\"x\"] + xywh[\"w\"]][:, :, [2, 1, 0, 3]]\n",
    "ax[2, 1].imshow(image_rgba)\n",
    "ax[2, 1].set_title(\"original\")\n",
    "plt.show()\n"
   ]
  },
  {
   "cell_type": "code",
   "execution_count": 76,
   "metadata": {},
   "outputs": [
    {
     "data": {
      "text/plain": [
       "<matplotlib.image.AxesImage at 0x24a84e9ff10>"
      ]
     },
     "execution_count": 76,
     "metadata": {},
     "output_type": "execute_result"
    },
    {
     "data": {
      "image/png": "[encoded data removed]",
      "text/plain": [
       "<Figure size 640x480 with 1 Axes>"
      ]
     },
     "metadata": {},
     "output_type": "display_data"
    }
   ],
   "source": [
    "bicolor_u8 = np.zeros((xywh[\"h\"], xywh[\"w\"], 1), np.uint8)\n",
    "label_index = np.where(np.unique(label) == 0)[0][0]\n",
    "\n",
    "for y in range(xywh[\"y\"], xywh[\"y\"] + xywh[\"h\"], 1):\n",
    "    for x in range(xywh[\"x\"], xywh[\"x\"] + xywh[\"w\"], 1):\n",
    "        image_rgba = image_list[label_index][y - xywh[\"y\"], x - xywh[\"x\"]]\n",
    "        bicolor_u8[y - xywh[\"y\"], x - xywh[\"x\"]] = [255] if image_rgba[3] == 255 else [0]\n",
    "\n",
    "plt.imshow(bicolor_u8)"
   ]
  },
  {
   "cell_type": "code",
   "execution_count": 77,
   "metadata": {},
   "outputs": [
    {
     "data": {
      "image/png": "[encoded data removed]",
      "text/plain": [
       "<Figure size 640x480 with 1 Axes>"
      ]
     },
     "metadata": {},
     "output_type": "display_data"
    }
   ],
   "source": [
    "contours, hierarchy = cv2.findContours(bicolor_u8, cv2.RETR_TREE, cv2.CHAIN_APPROX_SIMPLE)\n",
    "\n",
    "img_blank = bicolor = np.ones((xywh[\"h\"], xywh[\"w\"], 4), np.uint8)*255\n",
    "img_contour_only = cv2.drawContours(img_blank, contours, -1, (0,255,0), 3)\n",
    "\n",
    "plt.imshow(cv2.cvtColor(img_contour_only, cv2.COLOR_BGR2RGB))\n",
    "plt.show()"
   ]
  },
  {
   "cell_type": "code",
   "execution_count": 79,
   "metadata": {},
   "outputs": [
    {
     "data": {
      "image/png": "[encoded data removed]",
      "text/plain": [
       "<Figure size 640x480 with 1 Axes>"
      ]
     },
     "metadata": {},
     "output_type": "display_data"
    }
   ],
   "source": [
    "\n",
    "img2 = cv2.cvtColor(img_contour_only, cv2.COLOR_BGR2RGB)\n",
    "for i in range(len(contours)):\n",
    "    cnt = contours[i]\n",
    "    img2 = cv2.drawContours(img2, [cnt], 0, (128, 128, 128), -1)\n",
    "\n",
    "plt.imshow(img2)\n",
    "plt.show()"
   ]
  }
 ],
 "metadata": {
  "kernelspec": {
   "display_name": "syousyo",
   "language": "python",
   "name": "python3"
  },
  "language_info": {
   "codemirror_mode": {
    "name": "ipython",
    "version": 3
   },
   "file_extension": ".py",
   "mimetype": "text/x-python",
   "name": "python",
   "nbconvert_exporter": "python",
   "pygments_lexer": "ipython3",
   "version": "3.10.12"
  }
 },
 "nbformat": 4,
 "nbformat_minor": 2
}
